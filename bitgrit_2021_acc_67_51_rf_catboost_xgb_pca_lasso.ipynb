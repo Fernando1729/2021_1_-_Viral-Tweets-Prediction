{
  "nbformat": 4,
  "nbformat_minor": 0,
  "metadata": {
    "kernelspec": {
      "language": "python",
      "display_name": "Python 3",
      "name": "python3"
    },
    "language_info": {
      "pygments_lexer": "ipython3",
      "nbconvert_exporter": "python",
      "version": "3.6.4",
      "file_extension": ".py",
      "codemirror_mode": {
        "name": "ipython",
        "version": 3
      },
      "name": "python",
      "mimetype": "text/x-python"
    },
    "colab": {
      "name": "bitgrit 2021 - acc 67-51-rf-catboost-xgb-pca-lasso.ipynb",
      "provenance": [],
      "toc_visible": true,
      "include_colab_link": true
    }
  },
  "cells": [
    {
      "cell_type": "markdown",
      "metadata": {
        "id": "view-in-github",
        "colab_type": "text"
      },
      "source": [
        "<a href=\"https://colab.research.google.com/github/Fernando1729/zero/blob/master/bitgrit_2021_acc_67_51_rf_catboost_xgb_pca_lasso.ipynb\" target=\"_parent\"><img src=\"https://colab.research.google.com/assets/colab-badge.svg\" alt=\"Open In Colab\"/></a>"
      ]
    },
    {
      "cell_type": "markdown",
      "metadata": {
        "id": "5wEYh5cDpk7u"
      },
      "source": [
        "# Aprendizado de máquina - Task 05\n",
        "\n",
        "\n",
        "<center> <b> <font size=\"+2\"> Viral Tweets Prediction </font> </b> </center>\n",
        "\n",
        "<center> <i> Fernando Vieira da Silva - Nº USP: 6427452 </i> </center>\n",
        "<center> <i> Mariana Menezes Gomes - Nº USP: 9790645 </i> </center>\n",
        "<center> <i> Willian Ramos - Nº USP: 8936162 </i> </center>\n",
        "\n",
        "<center> 16 de julho de 2021\n",
        " </center>\n",
        "\n",
        " [bitgrit link](https://bitgrit.net/competition/12#)"
      ]
    },
    {
      "cell_type": "markdown",
      "metadata": {
        "id": "2tgsHwbOYLXY"
      },
      "source": [
        "###Descrição original da competição:\n",
        "\n",
        "The goal of this competition is to develop a machine learning model to predict the virality level of each tweet based on attributes such as tweet content, media attached to the tweet, and date/time published."
      ]
    },
    {
      "cell_type": "code",
      "metadata": {
        "id": "zUIpZWBNpByx",
        "colab": {
          "base_uri": "https://localhost:8080/"
        },
        "outputId": "ce8264ee-b260-4bfa-fb4b-2010d14d4be6"
      },
      "source": [
        "import pandas as pd\n",
        "import numpy as np\n",
        "import seaborn as sns\n",
        "import re\n",
        "from google.colab import drive\n",
        "import matplotlib.pyplot as plt\n",
        "from sklearn.linear_model import LinearRegression\n",
        "from sklearn.metrics import mean_squared_error, r2_score\n",
        "from sklearn.preprocessing import PolynomialFeatures\n",
        "from datetime import datetime\n",
        "import warnings\n",
        "warnings.simplefilter(action='ignore', category=FutureWarning)\n",
        "pd.options.display.float_format = '{:.2f}'.format\n",
        "\n",
        "drive.mount('/content/drive', force_remount=False) \n",
        "%cd /content/drive/My Drive/TASK 5/Dataset"
      ],
      "execution_count": null,
      "outputs": [
        {
          "output_type": "stream",
          "text": [
            "Mounted at /content/drive\n",
            "/content/drive/.shortcut-targets-by-id/1tMPhs79sgIQQRIPoqGsxdFyFOmSw6svc/TASK 5/Dataset\n"
          ],
          "name": "stdout"
        }
      ]
    },
    {
      "cell_type": "code",
      "metadata": {
        "id": "G0R0DUGOpzmL"
      },
      "source": [
        "# informações referentes ao usuário\n",
        "df_users = pd.read_csv('Users/users.csv')\n",
        "df_user_vectorized_descriptions = pd.read_csv('Users/user_vectorized_descriptions.csv')\n",
        "df_user_vectorized_profile_images = pd.read_csv('Users/user_vectorized_profile_images.csv')\n",
        "\n",
        "# informações referentes ao tweet - treino\n",
        "df_train_tweets = pd.read_csv('Tweets/train_tweets.csv')\n",
        "df_train_tweets_vectorized_text = pd.read_csv('Tweets/train_tweets_vectorized_text.csv')\n",
        "df_train_tweets_vectorized_media = pd.read_csv('Tweets/train_tweets_vectorized_media.csv')\n",
        "\n",
        "# informações referentes ao tweet - teste\n",
        "df_test_tweets = pd.read_csv('Tweets/test_tweets.csv')\n",
        "df_test_tweets_vectorized_text = pd.read_csv('Tweets/test_tweets_vectorized_text.csv')\n",
        "df_test_tweets_vectorized_media = pd.read_csv('Tweets/test_tweets_vectorized_media.csv')"
      ],
      "execution_count": null,
      "outputs": []
    },
    {
      "cell_type": "markdown",
      "metadata": {
        "id": "ienOk8631QP8"
      },
      "source": [
        "# 1.Pré-processamento"
      ]
    },
    {
      "cell_type": "markdown",
      "metadata": {
        "id": "hLcDzJdHkdyy"
      },
      "source": [
        "## 1.1 Redução de dimensionalidade das variáveis vetorizadas"
      ]
    },
    {
      "cell_type": "markdown",
      "metadata": {
        "id": "y_5yHwK8skgD"
      },
      "source": [
        "### 1.1.1 Redução de dimensionalidade de df_user_vectorized_descriptions"
      ]
    },
    {
      "cell_type": "code",
      "metadata": {
        "id": "Mvl5m7nPk0MA",
        "colab": {
          "base_uri": "https://localhost:8080/",
          "height": 283
        },
        "outputId": "b3d6e1ec-aaa5-47b5-a9d6-82847c94f969"
      },
      "source": [
        "from sklearn.decomposition import PCA\n",
        "x = df_user_vectorized_descriptions.drop(columns='user_id')\n",
        "print('Verificando variância explicada de acordo com a quantidade de componentes principais:')\n",
        "\n",
        "list_variance = []\n",
        "for k in range(2,50):\n",
        "  pca = PCA(n_components=k)\n",
        "  principalComponents = pca.fit_transform(x)\n",
        "  list_variance.append(sum(pca.explained_variance_ratio_))\n",
        "\n",
        "sns.set_style('whitegrid')\n",
        "sns.scatterplot(range(2,50),list_variance);"
      ],
      "execution_count": null,
      "outputs": [
        {
          "output_type": "stream",
          "text": [
            "Verificando variância explicada de acordo com a quantidade de componentes principais:\n"
          ],
          "name": "stdout"
        },
        {
          "output_type": "display_data",
          "data": {
            "image/png": "[encoded data removed]",
            "text/plain": [
              "<Figure size 432x288 with 1 Axes>"
            ]
          },
          "metadata": {
            "tags": []
          }
        }
      ]
    },
    {
      "cell_type": "markdown",
      "metadata": {
        "id": "Bh-jMxLrpt-j"
      },
      "source": [
        "Com 20 componentes principais é possível explicar $80$% da variância dos dados, de modo que selecionaremos essa quantidade. Desse modo diminuímos de $768$ atributos para $20$."
      ]
    },
    {
      "cell_type": "code",
      "metadata": {
        "id": "rS9JVUm_qJtb"
      },
      "source": [
        "from sklearn.decomposition import PCA\n",
        "# redução de dimensionalidade para 20 componentes principais\n",
        "x = df_user_vectorized_descriptions.drop(columns='user_id')\n",
        "\n",
        "pca = PCA(n_components=20)\n",
        "principalComponents = pca.fit_transform(x)\n",
        "df_user_vectorized_descriptions_tmp = df_user_vectorized_descriptions.loc[:,['user_id']]\n",
        "df_pc = pd.DataFrame(principalComponents)\n",
        "df_pc.columns = ['user_description_pc'+str(pc) for pc in range(df_pc.shape[1])]\n",
        "\n",
        "# atualizando df com os 20 primeiros componentes principais\n",
        "df_user_vectorized_descriptions = pd.concat([df_user_vectorized_descriptions_tmp,df_pc],axis=1)"
      ],
      "execution_count": null,
      "outputs": []
    },
    {
      "cell_type": "markdown",
      "metadata": {
        "id": "OC92fm7jlbxW"
      },
      "source": [
        "### 1.1.2 Redução de dimensionalidade de df_user_vectorized_profile_images"
      ]
    },
    {
      "cell_type": "code",
      "metadata": {
        "id": "9_-XeLoovXSi",
        "colab": {
          "base_uri": "https://localhost:8080/",
          "height": 283
        },
        "outputId": "d0b62579-c93a-499b-a583-458987224598"
      },
      "source": [
        "from sklearn.decomposition import PCA\n",
        "x = df_user_vectorized_profile_images.drop(columns='user_id')\n",
        "print('Verificando variância explicada de acordo com a quantidade de componentes principais:')\n",
        "\n",
        "list_variance = []\n",
        "for k in range(2,50):\n",
        "  pca = PCA(n_components=k)\n",
        "  principalComponents = pca.fit_transform(x)\n",
        "  list_variance.append(sum(pca.explained_variance_ratio_))\n",
        "\n",
        "sns.set_style('whitegrid')\n",
        "sns.scatterplot(range(2,50),list_variance);"
      ],
      "execution_count": null,
      "outputs": [
        {
          "output_type": "stream",
          "text": [
            "Verificando variância explicada de acordo com a quantidade de componentes principais:\n"
          ],
          "name": "stdout"
        },
        {
          "output_type": "display_data",
          "data": {
            "image/png": "[encoded data removed]",
            "text/plain": [
              "<Figure size 432x288 with 1 Axes>"
            ]
          },
          "metadata": {
            "tags": []
          }
        }
      ]
    },
    {
      "cell_type": "markdown",
      "metadata": {
        "id": "nEpA5VBtvyvf"
      },
      "source": [
        "Com 20 componentes principais é possível explicar $80$% da variância dos dados, de modo que selecionaremos essa quantidade. Desse modo diminuímos de $2048$ atributos para $20$."
      ]
    },
    {
      "cell_type": "code",
      "metadata": {
        "id": "Wuz_l9KVv_CZ"
      },
      "source": [
        "# redução de dimensionalidade para 20 componentes principais\n",
        "x = df_user_vectorized_profile_images.drop(columns='user_id')\n",
        "\n",
        "pca = PCA(n_components=20)\n",
        "principalComponents = pca.fit_transform(x)\n",
        "df_user_vectorized_profile_images_tmp = df_user_vectorized_profile_images.loc[:,['user_id']]\n",
        "df_pc = pd.DataFrame(principalComponents)\n",
        "df_pc.columns = ['user_profile_images_pc'+str(pc) for pc in range(df_pc.shape[1])]\n",
        "\n",
        "# atualizando df com os 20 primeiros componentes principais\n",
        "df_user_vectorized_profile_images = pd.concat([df_user_vectorized_profile_images_tmp,df_pc],axis=1)"
      ],
      "execution_count": null,
      "outputs": []
    },
    {
      "cell_type": "markdown",
      "metadata": {
        "id": "Pxz4hLadxDMU"
      },
      "source": [
        "### 1.1.3 Redução de dimensionalidade de tweets_vectorized_text (train e test)"
      ]
    },
    {
      "cell_type": "code",
      "metadata": {
        "id": "KI-6V12CxMgR"
      },
      "source": [
        "# TREINO\n",
        "from sklearn.decomposition import PCA\n",
        "x = df_train_tweets_vectorized_text.drop(columns='tweet_id')\n",
        "print('Verificando variância explicada de acordo com a quantidade de componentes principais:')\n",
        "\n",
        "list_variance = []\n",
        "for k in range(2,100):\n",
        "  pca = PCA(n_components=k)\n",
        "  principalComponents = pca.fit_transform(x)\n",
        "  list_variance.append(sum(pca.explained_variance_ratio_))\n",
        "\n",
        "sns.set_style('whitegrid')\n",
        "sns.scatterplot(range(2,100),list_variance);"
      ],
      "execution_count": null,
      "outputs": []
    },
    {
      "cell_type": "markdown",
      "metadata": {
        "id": "rztdLsSaxu7y"
      },
      "source": [
        "Com 80 componentes principais é possível explicar $80$% da variância dos dados, de modo que selecionaremos essa quantidade. Desse modo diminuímos de $768$ atributos para $80$."
      ]
    },
    {
      "cell_type": "code",
      "metadata": {
        "id": "xV78-NqnxxCC"
      },
      "source": [
        "# TREINO\n",
        "# redução de dimensionalidade para 80 componentes principais\n",
        "x = df_train_tweets_vectorized_text.drop(columns='tweet_id')\n",
        "\n",
        "pca = PCA(n_components=80)\n",
        "principalComponents = pca.fit_transform(x)\n",
        "df_train_tweets_vectorized_text_tmp = df_train_tweets_vectorized_text.loc[:,['tweet_id']]\n",
        "df_pc = pd.DataFrame(principalComponents)\n",
        "df_pc.columns = ['tweets_text_pc'+str(pc) for pc in range(df_pc.shape[1])]\n",
        "\n",
        "# atualizando df com os 20 primeiros componentes principais\n",
        "df_train_tweets_vectorized_text = pd.concat([df_train_tweets_vectorized_text_tmp,df_pc],axis=1)"
      ],
      "execution_count": null,
      "outputs": []
    },
    {
      "cell_type": "code",
      "metadata": {
        "id": "FvyuEQV1zMT7"
      },
      "source": [
        "# TESTE\n",
        "from sklearn.decomposition import PCA\n",
        "x = df_test_tweets_vectorized_text.drop(columns='tweet_id')\n",
        "print('Verificando variância explicada de acordo com a quantidade de componentes principais:')\n",
        "\n",
        "list_variance = []\n",
        "for k in range(2,100):\n",
        "  pca = PCA(n_components=k)\n",
        "  principalComponents = pca.fit_transform(x)\n",
        "  list_variance.append(sum(pca.explained_variance_ratio_))\n",
        "\n",
        "sns.set_style('whitegrid')\n",
        "sns.scatterplot(range(2,100),list_variance);"
      ],
      "execution_count": null,
      "outputs": []
    },
    {
      "cell_type": "markdown",
      "metadata": {
        "id": "V0hGpZ5azT9I"
      },
      "source": [
        "Com 80 componentes principais é possível explicar $80$% da variância dos dados, de modo que selecionaremos essa quantidade. Desse modo diminuímos de $768$ atributos para $80$."
      ]
    },
    {
      "cell_type": "code",
      "metadata": {
        "id": "8YWPPiXAzOKp"
      },
      "source": [
        "# TESTE\n",
        "# redução de dimensionalidade para 80 componentes principais\n",
        "x = df_test_tweets_vectorized_text.drop(columns='tweet_id')\n",
        "\n",
        "pca = PCA(n_components=80)\n",
        "principalComponents = pca.fit_transform(x)\n",
        "df_test_tweets_vectorized_text_tmp = df_test_tweets_vectorized_text.loc[:,['tweet_id']]\n",
        "df_pc = pd.DataFrame(principalComponents)\n",
        "df_pc.columns = ['tweets_text_pc'+str(pc) for pc in range(df_pc.shape[1])]\n",
        "\n",
        "# atualizando df com os 80 primeiros componentes principais\n",
        "df_test_tweets_vectorized_text = pd.concat([df_test_tweets_vectorized_text_tmp,df_pc],axis=1)"
      ],
      "execution_count": null,
      "outputs": []
    },
    {
      "cell_type": "markdown",
      "metadata": {
        "id": "t8d4wevJknUZ"
      },
      "source": [
        "## 1.2 Unindo DataFrames"
      ]
    },
    {
      "cell_type": "code",
      "metadata": {
        "id": "x5TttuybHXwh"
      },
      "source": [
        "# criação de uma variável de idade da conta\n",
        "\n",
        "def func_user_creation_age(x): # em anos\n",
        "  month = x.user_created_at_month\n",
        "  month = str(month).zfill(2)\n",
        "  year = str(x.user_created_at_year)\n",
        "\n",
        "  creation_dt = datetime.strptime(month+'-'+year, \"%m-%Y\")  \n",
        "\n",
        "  return (datetime.today() - creation_dt).days/365\n",
        "\n",
        "df_users.loc[:,'user_creation_age'] = df_users.apply(func_user_creation_age,axis=1) "
      ],
      "execution_count": null,
      "outputs": []
    },
    {
      "cell_type": "code",
      "metadata": {
        "colab": {
          "base_uri": "https://localhost:8080/"
        },
        "id": "NoRSZXpqVV19",
        "outputId": "d2bcc096-ea24-42e7-ff79-387fe28ffbf2"
      },
      "source": [
        "df_users.shape"
      ],
      "execution_count": null,
      "outputs": [
        {
          "output_type": "execute_result",
          "data": {
            "text/plain": [
              "(52, 12)"
            ]
          },
          "metadata": {
            "tags": []
          },
          "execution_count": 35
        }
      ]
    },
    {
      "cell_type": "markdown",
      "metadata": {
        "id": "lqNX9Bt0rEE0"
      },
      "source": [
        "A seguir iremos concatenar os dados referentes aos usuários na mesma base dos dados referentes aos tweets."
      ]
    },
    {
      "cell_type": "code",
      "metadata": {
        "id": "bVEE9y-4r_dv"
      },
      "source": [
        "# unindo dados dos usuários em uma base só, no user_id\n",
        "df_user = df_users.merge(df_user_vectorized_descriptions, on='user_id', how = 'left')\n",
        "df_user = df_user.merge(df_user_vectorized_profile_images, on='user_id', how = 'left')"
      ],
      "execution_count": null,
      "outputs": []
    },
    {
      "cell_type": "code",
      "metadata": {
        "colab": {
          "base_uri": "https://localhost:8080/"
        },
        "id": "1KXaAgk7VbG7",
        "outputId": "330a6c10-41c8-4f57-a98d-3b7346d0a75c"
      },
      "source": [
        "df_user.shape"
      ],
      "execution_count": null,
      "outputs": [
        {
          "output_type": "execute_result",
          "data": {
            "text/plain": [
              "(52, 2828)"
            ]
          },
          "metadata": {
            "tags": []
          },
          "execution_count": 36
        }
      ]
    },
    {
      "cell_type": "code",
      "metadata": {
        "id": "PatjJsivs2OM"
      },
      "source": [
        "# unindo dados dos tweets em uma base só, no tweet_id --- TREINO\n",
        "df_train = df_train_tweets.merge(df_train_tweets_vectorized_text, on='tweet_id', how = 'left')\n",
        "\n",
        "# unindo dados dos tweets com dados dos usuários na base de treino\n",
        "df_train = df_train.rename(columns={'tweet_user_id':'user_id'})\n",
        "df_train = df_user.merge(df_train, on='user_id', how='left')\n",
        "df = df_train.copy()"
      ],
      "execution_count": null,
      "outputs": []
    },
    {
      "cell_type": "code",
      "metadata": {
        "colab": {
          "base_uri": "https://localhost:8080/"
        },
        "id": "FKuxiV86WQFz",
        "outputId": "411f48f3-16f5-446c-e6cc-d4394e79f055"
      },
      "source": [
        "df.shape"
      ],
      "execution_count": null,
      "outputs": [
        {
          "output_type": "execute_result",
          "data": {
            "text/plain": [
              "(29625, 3609)"
            ]
          },
          "metadata": {
            "tags": []
          },
          "execution_count": 38
        }
      ]
    },
    {
      "cell_type": "code",
      "metadata": {
        "id": "LhPvbLt7shXv"
      },
      "source": [
        "# unindo dados dos tweets em uma base só, no tweet_id --- TESTE\n",
        "df_test = df_test_tweets.merge(df_test_tweets_vectorized_text, on='tweet_id', how = 'left')\n",
        "\n",
        "# unindo dados dos tweets com dados dos usuários na base de teste\n",
        "df_test = df_test.rename(columns={'tweet_user_id':'user_id'})\n",
        "df_test = df_user.merge(df_test, on='user_id', how='left')"
      ],
      "execution_count": null,
      "outputs": []
    },
    {
      "cell_type": "code",
      "metadata": {
        "id": "7fgYPrgT7tby"
      },
      "source": [
        "# criando variável para indicar se o tweet possui imagens\n",
        "list_tweets_with_media_train = df_train_tweets_vectorized_media.tweet_id.unique()\n",
        "#list_tweets_with_media_test = df_test_tweets_vectorized_media.tweet_id.unique()\n",
        "\n",
        "df_train.loc[df_train.tweet_id.isin(list_tweets_with_media_train),'has_media'] = '1'\n",
        "#df_test.loc[df_test.tweet_id.isin(list_tweets_with_media_test),'has_media'] = '1'"
      ],
      "execution_count": null,
      "outputs": []
    },
    {
      "cell_type": "markdown",
      "metadata": {
        "id": "HF_0fG45r7vg"
      },
      "source": [
        "# 2. Análise Exploratória"
      ]
    },
    {
      "cell_type": "markdown",
      "metadata": {
        "id": "XkUuEXfSMHB5"
      },
      "source": [
        "## 2.1 Perfil dos Usuários"
      ]
    },
    {
      "cell_type": "code",
      "metadata": {
        "id": "wbTwHNuDxQlQ",
        "colab": {
          "base_uri": "https://localhost:8080/",
          "height": 319
        },
        "outputId": "b5b60c04-258c-4b5e-a307-bc19a0fd8988"
      },
      "source": [
        "df_tmp = df_train.groupby('user_id').size() # df_tmp: df temporário\n",
        "\n",
        "print('Quantidade de tweets por usuário:')\n",
        "df_tmp = df_train.groupby('user_id').size().reset_index().rename(columns={0:'n_tweets'})\n",
        "display(df_tmp.n_tweets.describe().reset_index())"
      ],
      "execution_count": null,
      "outputs": [
        {
          "output_type": "stream",
          "text": [
            "Quantidade de tweets por usuário:\n"
          ],
          "name": "stdout"
        },
        {
          "output_type": "display_data",
          "data": {
            "text/html": [
              "<div>\n",
              "<style scoped>\n",
              "    .dataframe tbody tr th:only-of-type {\n",
              "        vertical-align: middle;\n",
              "    }\n",
              "\n",
              "    .dataframe tbody tr th {\n",
              "        vertical-align: top;\n",
              "    }\n",
              "\n",
              "    .dataframe thead th {\n",
              "        text-align: right;\n",
              "    }\n",
              "</style>\n",
              "<table border=\"1\" class=\"dataframe\">\n",
              "  <thead>\n",
              "    <tr style=\"text-align: right;\">\n",
              "      <th></th>\n",
              "      <th>index</th>\n",
              "      <th>n_tweets</th>\n",
              "    </tr>\n",
              "  </thead>\n",
              "  <tbody>\n",
              "    <tr>\n",
              "      <th>0</th>\n",
              "      <td>count</td>\n",
              "      <td>52.00</td>\n",
              "    </tr>\n",
              "    <tr>\n",
              "      <th>1</th>\n",
              "      <td>mean</td>\n",
              "      <td>569.71</td>\n",
              "    </tr>\n",
              "    <tr>\n",
              "      <th>2</th>\n",
              "      <td>std</td>\n",
              "      <td>84.65</td>\n",
              "    </tr>\n",
              "    <tr>\n",
              "      <th>3</th>\n",
              "      <td>min</td>\n",
              "      <td>113.00</td>\n",
              "    </tr>\n",
              "    <tr>\n",
              "      <th>4</th>\n",
              "      <td>25%</td>\n",
              "      <td>571.00</td>\n",
              "    </tr>\n",
              "    <tr>\n",
              "      <th>5</th>\n",
              "      <td>50%</td>\n",
              "      <td>588.00</td>\n",
              "    </tr>\n",
              "    <tr>\n",
              "      <th>6</th>\n",
              "      <td>75%</td>\n",
              "      <td>597.25</td>\n",
              "    </tr>\n",
              "    <tr>\n",
              "      <th>7</th>\n",
              "      <td>max</td>\n",
              "      <td>614.00</td>\n",
              "    </tr>\n",
              "  </tbody>\n",
              "</table>\n",
              "</div>"
            ],
            "text/plain": [
              "   index  n_tweets\n",
              "0  count     52.00\n",
              "1   mean    569.71\n",
              "2    std     84.65\n",
              "3    min    113.00\n",
              "4    25%    571.00\n",
              "5    50%    588.00\n",
              "6    75%    597.25\n",
              "7    max    614.00"
            ]
          },
          "metadata": {
            "tags": []
          }
        }
      ]
    },
    {
      "cell_type": "code",
      "metadata": {
        "id": "3wzNKTQ1zkZL",
        "colab": {
          "base_uri": "https://localhost:8080/",
          "height": 339
        },
        "outputId": "01bf0336-2baf-47cd-f835-78c9d42fda25"
      },
      "source": [
        "print(\"Características dos usuários:\")\n",
        "df_users[['user_like_count','user_followers_count','user_following_count',\n",
        "          'user_listed_on_count','user_tweet_count','user_creation_age']].describe()"
      ],
      "execution_count": null,
      "outputs": [
        {
          "output_type": "stream",
          "text": [
            "Características dos usuários:\n"
          ],
          "name": "stdout"
        },
        {
          "output_type": "execute_result",
          "data": {
            "text/html": [
              "<div>\n",
              "<style scoped>\n",
              "    .dataframe tbody tr th:only-of-type {\n",
              "        vertical-align: middle;\n",
              "    }\n",
              "\n",
              "    .dataframe tbody tr th {\n",
              "        vertical-align: top;\n",
              "    }\n",
              "\n",
              "    .dataframe thead th {\n",
              "        text-align: right;\n",
              "    }\n",
              "</style>\n",
              "<table border=\"1\" class=\"dataframe\">\n",
              "  <thead>\n",
              "    <tr style=\"text-align: right;\">\n",
              "      <th></th>\n",
              "      <th>user_like_count</th>\n",
              "      <th>user_followers_count</th>\n",
              "      <th>user_following_count</th>\n",
              "      <th>user_listed_on_count</th>\n",
              "      <th>user_tweet_count</th>\n",
              "      <th>user_creation_age</th>\n",
              "    </tr>\n",
              "  </thead>\n",
              "  <tbody>\n",
              "    <tr>\n",
              "      <th>count</th>\n",
              "      <td>52.00</td>\n",
              "      <td>52.00</td>\n",
              "      <td>52.00</td>\n",
              "      <td>52.00</td>\n",
              "      <td>52.00</td>\n",
              "      <td>52.00</td>\n",
              "    </tr>\n",
              "    <tr>\n",
              "      <th>mean</th>\n",
              "      <td>4673.87</td>\n",
              "      <td>245279.10</td>\n",
              "      <td>42148.58</td>\n",
              "      <td>6903.37</td>\n",
              "      <td>39396.33</td>\n",
              "      <td>9.77</td>\n",
              "    </tr>\n",
              "    <tr>\n",
              "      <th>std</th>\n",
              "      <td>5714.51</td>\n",
              "      <td>369796.42</td>\n",
              "      <td>158378.44</td>\n",
              "      <td>7815.72</td>\n",
              "      <td>77111.64</td>\n",
              "      <td>1.42</td>\n",
              "    </tr>\n",
              "    <tr>\n",
              "      <th>min</th>\n",
              "      <td>0.00</td>\n",
              "      <td>3632.00</td>\n",
              "      <td>0.00</td>\n",
              "      <td>276.00</td>\n",
              "      <td>96.00</td>\n",
              "      <td>6.71</td>\n",
              "    </tr>\n",
              "    <tr>\n",
              "      <th>25%</th>\n",
              "      <td>1236.00</td>\n",
              "      <td>22712.00</td>\n",
              "      <td>972.00</td>\n",
              "      <td>1860.75</td>\n",
              "      <td>6833.25</td>\n",
              "      <td>8.77</td>\n",
              "    </tr>\n",
              "    <tr>\n",
              "      <th>50%</th>\n",
              "      <td>2669.00</td>\n",
              "      <td>87270.50</td>\n",
              "      <td>2675.50</td>\n",
              "      <td>4329.00</td>\n",
              "      <td>12149.00</td>\n",
              "      <td>9.88</td>\n",
              "    </tr>\n",
              "    <tr>\n",
              "      <th>75%</th>\n",
              "      <td>6363.75</td>\n",
              "      <td>298106.25</td>\n",
              "      <td>11897.25</td>\n",
              "      <td>8935.50</td>\n",
              "      <td>29342.50</td>\n",
              "      <td>10.55</td>\n",
              "    </tr>\n",
              "    <tr>\n",
              "      <th>max</th>\n",
              "      <td>33091.00</td>\n",
              "      <td>1587783.00</td>\n",
              "      <td>1118149.00</td>\n",
              "      <td>38838.00</td>\n",
              "      <td>432467.00</td>\n",
              "      <td>13.46</td>\n",
              "    </tr>\n",
              "  </tbody>\n",
              "</table>\n",
              "</div>"
            ],
            "text/plain": [
              "       user_like_count  ...  user_creation_age\n",
              "count            52.00  ...              52.00\n",
              "mean           4673.87  ...               9.77\n",
              "std            5714.51  ...               1.42\n",
              "min               0.00  ...               6.71\n",
              "25%            1236.00  ...               8.77\n",
              "50%            2669.00  ...               9.88\n",
              "75%            6363.75  ...              10.55\n",
              "max           33091.00  ...              13.46\n",
              "\n",
              "[8 rows x 6 columns]"
            ]
          },
          "metadata": {
            "tags": []
          },
          "execution_count": 42
        }
      ]
    },
    {
      "cell_type": "code",
      "metadata": {
        "id": "QyPTWkOZ2P0R",
        "colab": {
          "base_uri": "https://localhost:8080/",
          "height": 1000
        },
        "outputId": "7d693805-90df-43e2-e81f-e5f116555ac6"
      },
      "source": [
        "for var in ['user_verified','user_has_location','user_created_at_year','user_has_url']:\n",
        "  sns.countplot(x=var, data=df_users);\n",
        "  plt.title(f'{var}');\n",
        "  plt.show()\n",
        "  print()"
      ],
      "execution_count": null,
      "outputs": [
        {
          "output_type": "display_data",
          "data": {
            "image/png": "[encoded data removed]",
            "text/plain": [
              "<Figure size 432x288 with 1 Axes>"
            ]
          },
          "metadata": {
            "tags": []
          }
        },
        {
          "output_type": "stream",
          "text": [
            "\n"
          ],
          "name": "stdout"
        },
        {
          "output_type": "display_data",
          "data": {
            "image/png": "[encoded data removed]",
            "text/plain": [
              "<Figure size 432x288 with 1 Axes>"
            ]
          },
          "metadata": {
            "tags": []
          }
        },
        {
          "output_type": "stream",
          "text": [
            "\n"
          ],
          "name": "stdout"
        },
        {
          "output_type": "display_data",
          "data": {
            "image/png": "[encoded data removed]",
            "text/plain": [
              "<Figure size 432x288 with 1 Axes>"
            ]
          },
          "metadata": {
            "tags": []
          }
        },
        {
          "output_type": "stream",
          "text": [
            "\n"
          ],
          "name": "stdout"
        },
        {
          "output_type": "display_data",
          "data": {
            "image/png": "[encoded data removed]",
            "text/plain": [
              "<Figure size 432x288 with 1 Axes>"
            ]
          },
          "metadata": {
            "tags": []
          }
        },
        {
          "output_type": "stream",
          "text": [
            "\n"
          ],
          "name": "stdout"
        }
      ]
    },
    {
      "cell_type": "markdown",
      "metadata": {
        "id": "8vsqx-gxMM5S"
      },
      "source": [
        "## 2.2 Perfil dos usuários de acordo com a viralização do tweet\n",
        "\n",
        "\n",
        "\n",
        "\n"
      ]
    },
    {
      "cell_type": "code",
      "metadata": {
        "id": "AXjuVxULOkmz",
        "colab": {
          "base_uri": "https://localhost:8080/",
          "height": 256
        },
        "outputId": "f3e2a503-fb40-4dcb-f72a-d38de0cbf101"
      },
      "source": [
        "print('Número de usuários que já teve um determinado grau de viraliade de um tweet em algum momento:')\n",
        "display(df_train.groupby('virality').agg({'user_id':pd.Series.nunique}))"
      ],
      "execution_count": null,
      "outputs": [
        {
          "output_type": "stream",
          "text": [
            "Número de usuários que já teve um determinado grau de viraliade de um tweet em algum momento:\n"
          ],
          "name": "stdout"
        },
        {
          "output_type": "display_data",
          "data": {
            "text/html": [
              "<div>\n",
              "<style scoped>\n",
              "    .dataframe tbody tr th:only-of-type {\n",
              "        vertical-align: middle;\n",
              "    }\n",
              "\n",
              "    .dataframe tbody tr th {\n",
              "        vertical-align: top;\n",
              "    }\n",
              "\n",
              "    .dataframe thead th {\n",
              "        text-align: right;\n",
              "    }\n",
              "</style>\n",
              "<table border=\"1\" class=\"dataframe\">\n",
              "  <thead>\n",
              "    <tr style=\"text-align: right;\">\n",
              "      <th></th>\n",
              "      <th>user_id</th>\n",
              "    </tr>\n",
              "    <tr>\n",
              "      <th>virality</th>\n",
              "      <th></th>\n",
              "    </tr>\n",
              "  </thead>\n",
              "  <tbody>\n",
              "    <tr>\n",
              "      <th>1</th>\n",
              "      <td>49</td>\n",
              "    </tr>\n",
              "    <tr>\n",
              "      <th>2</th>\n",
              "      <td>52</td>\n",
              "    </tr>\n",
              "    <tr>\n",
              "      <th>3</th>\n",
              "      <td>50</td>\n",
              "    </tr>\n",
              "    <tr>\n",
              "      <th>4</th>\n",
              "      <td>47</td>\n",
              "    </tr>\n",
              "    <tr>\n",
              "      <th>5</th>\n",
              "      <td>47</td>\n",
              "    </tr>\n",
              "  </tbody>\n",
              "</table>\n",
              "</div>"
            ],
            "text/plain": [
              "          user_id\n",
              "virality         \n",
              "1              49\n",
              "2              52\n",
              "3              50\n",
              "4              47\n",
              "5              47"
            ]
          },
          "metadata": {
            "tags": []
          }
        }
      ]
    },
    {
      "cell_type": "markdown",
      "metadata": {
        "id": "jSiD6tDlPJda"
      },
      "source": [
        "É possível perceber que todos os usuários já tiveram um tweet com grau de viralização $2$. No geral, quase todos os usuários da base possui tweets com os $4$ graus de viralização."
      ]
    },
    {
      "cell_type": "code",
      "metadata": {
        "id": "P1zsGMxvKPiO",
        "colab": {
          "base_uri": "https://localhost:8080/",
          "height": 401
        },
        "outputId": "d90519cd-b8ad-4218-ee16-f83aa40e2619"
      },
      "source": [
        "import seaborn as sns\n",
        "numerical_var = ['user_like_count','user_followers_count','user_following_count',\n",
        "                 'user_listed_on_count','user_tweet_count','user_creation_age','virality']\n",
        "\n",
        "print('Correlação entre as variáveis numéricas:\\n')\n",
        "corrMatrix = df_train.loc[:,numerical_var].corr()\n",
        "sns.heatmap(corrMatrix, annot=True, cmap='Blues')\n",
        "plt.show()"
      ],
      "execution_count": null,
      "outputs": [
        {
          "output_type": "stream",
          "text": [
            "Correlação entre as variáveis numéricas:\n",
            "\n"
          ],
          "name": "stdout"
        },
        {
          "output_type": "display_data",
          "data": {
            "image/png": "[encoded data removed]",
            "text/plain": [
              "<Figure size 432x288 with 2 Axes>"
            ]
          },
          "metadata": {
            "tags": []
          }
        }
      ]
    },
    {
      "cell_type": "markdown",
      "metadata": {
        "id": "XJFr0WDTMxTs"
      },
      "source": [
        "Nota-se que a variável referente ao usuário com maior correlação com a viralização do tweet é a quantidade de seguidores da conta, seguida por usuários listados na conta."
      ]
    },
    {
      "cell_type": "code",
      "metadata": {
        "id": "LQMrxq_71zTI",
        "colab": {
          "base_uri": "https://localhost:8080/",
          "height": 1000
        },
        "outputId": "f482edcc-265d-445d-be50-93ebdfa95879"
      },
      "source": [
        "for var in ['user_verified','user_has_location','user_created_at_year','user_has_url','has_media']:\n",
        "\n",
        "  print(f'Grau de viralização do tweet por variável de {var} da conta:')\n",
        "  df_tmp = df_train.groupby([var,'virality']).agg({'tweet_id':pd.Series.nunique}).reset_index().\\\n",
        "                                                                                          rename(columns={'tweet_id':'n_tweets'})\n",
        "  display(pd.pivot_table(df_tmp, index = var, columns = 'virality', values = 'n_tweets', aggfunc = 'sum', fill_value = 0))\n",
        "\n",
        "  df_tmp = df_train.groupby([var,'virality','tweet_id']).size().reset_index().drop(columns=['tweet_id',0])\n",
        "  sns.countplot(x=\"virality\",hue=var, data=df_tmp);\n",
        "  plt.show()\n",
        "  print('------------------------------------------------------------------------------------------------')\n"
      ],
      "execution_count": null,
      "outputs": [
        {
          "output_type": "stream",
          "text": [
            "Grau de viralização do tweet por variável de user_verified da conta:\n"
          ],
          "name": "stdout"
        },
        {
          "output_type": "display_data",
          "data": {
            "text/html": [
              "<div>\n",
              "<style scoped>\n",
              "    .dataframe tbody tr th:only-of-type {\n",
              "        vertical-align: middle;\n",
              "    }\n",
              "\n",
              "    .dataframe tbody tr th {\n",
              "        vertical-align: top;\n",
              "    }\n",
              "\n",
              "    .dataframe thead th {\n",
              "        text-align: right;\n",
              "    }\n",
              "</style>\n",
              "<table border=\"1\" class=\"dataframe\">\n",
              "  <thead>\n",
              "    <tr style=\"text-align: right;\">\n",
              "      <th>virality</th>\n",
              "      <th>1</th>\n",
              "      <th>2</th>\n",
              "      <th>3</th>\n",
              "      <th>4</th>\n",
              "      <th>5</th>\n",
              "    </tr>\n",
              "    <tr>\n",
              "      <th>user_verified</th>\n",
              "      <th></th>\n",
              "      <th></th>\n",
              "      <th></th>\n",
              "      <th></th>\n",
              "      <th></th>\n",
              "    </tr>\n",
              "  </thead>\n",
              "  <tbody>\n",
              "    <tr>\n",
              "      <th>0</th>\n",
              "      <td>13525</td>\n",
              "      <td>8884</td>\n",
              "      <td>4645</td>\n",
              "      <td>1135</td>\n",
              "      <td>1323</td>\n",
              "    </tr>\n",
              "    <tr>\n",
              "      <th>1</th>\n",
              "      <td>107</td>\n",
              "      <td>5</td>\n",
              "      <td>1</td>\n",
              "      <td>0</td>\n",
              "      <td>0</td>\n",
              "    </tr>\n",
              "  </tbody>\n",
              "</table>\n",
              "</div>"
            ],
            "text/plain": [
              "virality           1     2     3     4     5\n",
              "user_verified                               \n",
              "0              13525  8884  4645  1135  1323\n",
              "1                107     5     1     0     0"
            ]
          },
          "metadata": {
            "tags": []
          }
        },
        {
          "output_type": "display_data",
          "data": {
            "image/png": "[encoded data removed]",
            "text/plain": [
              "<Figure size 432x288 with 1 Axes>"
            ]
          },
          "metadata": {
            "tags": []
          }
        },
        {
          "output_type": "stream",
          "text": [
            "------------------------------------------------------------------------------------------------\n",
            "Grau de viralização do tweet por variável de user_has_location da conta:\n"
          ],
          "name": "stdout"
        },
        {
          "output_type": "display_data",
          "data": {
            "text/html": [
              "<div>\n",
              "<style scoped>\n",
              "    .dataframe tbody tr th:only-of-type {\n",
              "        vertical-align: middle;\n",
              "    }\n",
              "\n",
              "    .dataframe tbody tr th {\n",
              "        vertical-align: top;\n",
              "    }\n",
              "\n",
              "    .dataframe thead th {\n",
              "        text-align: right;\n",
              "    }\n",
              "</style>\n",
              "<table border=\"1\" class=\"dataframe\">\n",
              "  <thead>\n",
              "    <tr style=\"text-align: right;\">\n",
              "      <th>virality</th>\n",
              "      <th>1</th>\n",
              "      <th>2</th>\n",
              "      <th>3</th>\n",
              "      <th>4</th>\n",
              "      <th>5</th>\n",
              "    </tr>\n",
              "    <tr>\n",
              "      <th>user_has_location</th>\n",
              "      <th></th>\n",
              "      <th></th>\n",
              "      <th></th>\n",
              "      <th></th>\n",
              "      <th></th>\n",
              "    </tr>\n",
              "  </thead>\n",
              "  <tbody>\n",
              "    <tr>\n",
              "      <th>False</th>\n",
              "      <td>2456</td>\n",
              "      <td>2591</td>\n",
              "      <td>2778</td>\n",
              "      <td>697</td>\n",
              "      <td>968</td>\n",
              "    </tr>\n",
              "    <tr>\n",
              "      <th>True</th>\n",
              "      <td>11176</td>\n",
              "      <td>6298</td>\n",
              "      <td>1868</td>\n",
              "      <td>438</td>\n",
              "      <td>355</td>\n",
              "    </tr>\n",
              "  </tbody>\n",
              "</table>\n",
              "</div>"
            ],
            "text/plain": [
              "virality               1     2     3    4    5\n",
              "user_has_location                             \n",
              "False               2456  2591  2778  697  968\n",
              "True               11176  6298  1868  438  355"
            ]
          },
          "metadata": {
            "tags": []
          }
        },
        {
          "output_type": "display_data",
          "data": {
            "image/png": "[encoded data removed]",
            "text/plain": [
              "<Figure size 432x288 with 1 Axes>"
            ]
          },
          "metadata": {
            "tags": []
          }
        },
        {
          "output_type": "stream",
          "text": [
            "------------------------------------------------------------------------------------------------\n",
            "Grau de viralização do tweet por variável de user_created_at_year da conta:\n"
          ],
          "name": "stdout"
        },
        {
          "output_type": "display_data",
          "data": {
            "text/html": [
              "<div>\n",
              "<style scoped>\n",
              "    .dataframe tbody tr th:only-of-type {\n",
              "        vertical-align: middle;\n",
              "    }\n",
              "\n",
              "    .dataframe tbody tr th {\n",
              "        vertical-align: top;\n",
              "    }\n",
              "\n",
              "    .dataframe thead th {\n",
              "        text-align: right;\n",
              "    }\n",
              "</style>\n",
              "<table border=\"1\" class=\"dataframe\">\n",
              "  <thead>\n",
              "    <tr style=\"text-align: right;\">\n",
              "      <th>virality</th>\n",
              "      <th>1</th>\n",
              "      <th>2</th>\n",
              "      <th>3</th>\n",
              "      <th>4</th>\n",
              "      <th>5</th>\n",
              "    </tr>\n",
              "    <tr>\n",
              "      <th>user_created_at_year</th>\n",
              "      <th></th>\n",
              "      <th></th>\n",
              "      <th></th>\n",
              "      <th></th>\n",
              "      <th></th>\n",
              "    </tr>\n",
              "  </thead>\n",
              "  <tbody>\n",
              "    <tr>\n",
              "      <th>2008</th>\n",
              "      <td>19</td>\n",
              "      <td>135</td>\n",
              "      <td>231</td>\n",
              "      <td>84</td>\n",
              "      <td>100</td>\n",
              "    </tr>\n",
              "    <tr>\n",
              "      <th>2009</th>\n",
              "      <td>594</td>\n",
              "      <td>953</td>\n",
              "      <td>203</td>\n",
              "      <td>14</td>\n",
              "      <td>7</td>\n",
              "    </tr>\n",
              "    <tr>\n",
              "      <th>2010</th>\n",
              "      <td>1910</td>\n",
              "      <td>1676</td>\n",
              "      <td>491</td>\n",
              "      <td>196</td>\n",
              "      <td>423</td>\n",
              "    </tr>\n",
              "    <tr>\n",
              "      <th>2011</th>\n",
              "      <td>7572</td>\n",
              "      <td>3558</td>\n",
              "      <td>1646</td>\n",
              "      <td>333</td>\n",
              "      <td>431</td>\n",
              "    </tr>\n",
              "    <tr>\n",
              "      <th>2012</th>\n",
              "      <td>2055</td>\n",
              "      <td>1203</td>\n",
              "      <td>568</td>\n",
              "      <td>155</td>\n",
              "      <td>140</td>\n",
              "    </tr>\n",
              "    <tr>\n",
              "      <th>2013</th>\n",
              "      <td>919</td>\n",
              "      <td>1188</td>\n",
              "      <td>1398</td>\n",
              "      <td>333</td>\n",
              "      <td>213</td>\n",
              "    </tr>\n",
              "    <tr>\n",
              "      <th>2014</th>\n",
              "      <td>563</td>\n",
              "      <td>176</td>\n",
              "      <td>109</td>\n",
              "      <td>20</td>\n",
              "      <td>9</td>\n",
              "    </tr>\n",
              "  </tbody>\n",
              "</table>\n",
              "</div>"
            ],
            "text/plain": [
              "virality                 1     2     3    4    5\n",
              "user_created_at_year                            \n",
              "2008                    19   135   231   84  100\n",
              "2009                   594   953   203   14    7\n",
              "2010                  1910  1676   491  196  423\n",
              "2011                  7572  3558  1646  333  431\n",
              "2012                  2055  1203   568  155  140\n",
              "2013                   919  1188  1398  333  213\n",
              "2014                   563   176   109   20    9"
            ]
          },
          "metadata": {
            "tags": []
          }
        },
        {
          "output_type": "display_data",
          "data": {
            "image/png": "[encoded data removed]",
            "text/plain": [
              "<Figure size 432x288 with 1 Axes>"
            ]
          },
          "metadata": {
            "tags": []
          }
        },
        {
          "output_type": "stream",
          "text": [
            "------------------------------------------------------------------------------------------------\n",
            "Grau de viralização do tweet por variável de user_has_url da conta:\n"
          ],
          "name": "stdout"
        },
        {
          "output_type": "display_data",
          "data": {
            "text/html": [
              "<div>\n",
              "<style scoped>\n",
              "    .dataframe tbody tr th:only-of-type {\n",
              "        vertical-align: middle;\n",
              "    }\n",
              "\n",
              "    .dataframe tbody tr th {\n",
              "        vertical-align: top;\n",
              "    }\n",
              "\n",
              "    .dataframe thead th {\n",
              "        text-align: right;\n",
              "    }\n",
              "</style>\n",
              "<table border=\"1\" class=\"dataframe\">\n",
              "  <thead>\n",
              "    <tr style=\"text-align: right;\">\n",
              "      <th>virality</th>\n",
              "      <th>1</th>\n",
              "      <th>2</th>\n",
              "      <th>3</th>\n",
              "      <th>4</th>\n",
              "      <th>5</th>\n",
              "    </tr>\n",
              "    <tr>\n",
              "      <th>user_has_url</th>\n",
              "      <th></th>\n",
              "      <th></th>\n",
              "      <th></th>\n",
              "      <th></th>\n",
              "      <th></th>\n",
              "    </tr>\n",
              "  </thead>\n",
              "  <tbody>\n",
              "    <tr>\n",
              "      <th>False</th>\n",
              "      <td>962</td>\n",
              "      <td>928</td>\n",
              "      <td>645</td>\n",
              "      <td>142</td>\n",
              "      <td>251</td>\n",
              "    </tr>\n",
              "    <tr>\n",
              "      <th>True</th>\n",
              "      <td>12670</td>\n",
              "      <td>7961</td>\n",
              "      <td>4001</td>\n",
              "      <td>993</td>\n",
              "      <td>1072</td>\n",
              "    </tr>\n",
              "  </tbody>\n",
              "</table>\n",
              "</div>"
            ],
            "text/plain": [
              "virality          1     2     3    4     5\n",
              "user_has_url                              \n",
              "False           962   928   645  142   251\n",
              "True          12670  7961  4001  993  1072"
            ]
          },
          "metadata": {
            "tags": []
          }
        },
        {
          "output_type": "display_data",
          "data": {
            "image/png": "[encoded data removed]",
            "text/plain": [
              "<Figure size 432x288 with 1 Axes>"
            ]
          },
          "metadata": {
            "tags": []
          }
        },
        {
          "output_type": "stream",
          "text": [
            "------------------------------------------------------------------------------------------------\n",
            "Grau de viralização do tweet por variável de has_media da conta:\n"
          ],
          "name": "stdout"
        },
        {
          "output_type": "display_data",
          "data": {
            "text/html": [
              "<div>\n",
              "<style scoped>\n",
              "    .dataframe tbody tr th:only-of-type {\n",
              "        vertical-align: middle;\n",
              "    }\n",
              "\n",
              "    .dataframe tbody tr th {\n",
              "        vertical-align: top;\n",
              "    }\n",
              "\n",
              "    .dataframe thead th {\n",
              "        text-align: right;\n",
              "    }\n",
              "</style>\n",
              "<table border=\"1\" class=\"dataframe\">\n",
              "  <thead>\n",
              "    <tr style=\"text-align: right;\">\n",
              "      <th>virality</th>\n",
              "      <th>1</th>\n",
              "      <th>2</th>\n",
              "      <th>3</th>\n",
              "      <th>4</th>\n",
              "      <th>5</th>\n",
              "    </tr>\n",
              "    <tr>\n",
              "      <th>has_media</th>\n",
              "      <th></th>\n",
              "      <th></th>\n",
              "      <th></th>\n",
              "      <th></th>\n",
              "      <th></th>\n",
              "    </tr>\n",
              "  </thead>\n",
              "  <tbody>\n",
              "    <tr>\n",
              "      <th>1</th>\n",
              "      <td>7535</td>\n",
              "      <td>5677</td>\n",
              "      <td>3059</td>\n",
              "      <td>579</td>\n",
              "      <td>586</td>\n",
              "    </tr>\n",
              "  </tbody>\n",
              "</table>\n",
              "</div>"
            ],
            "text/plain": [
              "virality      1     2     3    4    5\n",
              "has_media                            \n",
              "1          7535  5677  3059  579  586"
            ]
          },
          "metadata": {
            "tags": []
          }
        },
        {
          "output_type": "display_data",
          "data": {
            "image/png": "[encoded data removed]",
            "text/plain": [
              "<Figure size 432x288 with 1 Axes>"
            ]
          },
          "metadata": {
            "tags": []
          }
        },
        {
          "output_type": "stream",
          "text": [
            "------------------------------------------------------------------------------------------------\n"
          ],
          "name": "stdout"
        }
      ]
    },
    {
      "cell_type": "markdown",
      "metadata": {
        "id": "6HOOk4yVJQlt"
      },
      "source": [
        "## 2.3 Perfil dos tweets de acordo com sua viralização\n"
      ]
    },
    {
      "cell_type": "code",
      "metadata": {
        "id": "w3UkWtAL6iHu",
        "colab": {
          "base_uri": "https://localhost:8080/",
          "height": 521
        },
        "outputId": "2601e066-1850-4d74-d7c2-dfc4d18f555e"
      },
      "source": [
        "# na base de df_train_tweets cada linha é um tweet\n",
        "print('Quantidade de tweets por classe de viralização:')\n",
        "df_tmp = df_train_tweets.groupby('virality').size().reset_index().rename(columns={0:'n_tweets'})\n",
        "df_tmp.loc[:,'proportion'] = df_tmp.n_tweets/df_tmp.n_tweets.sum()*100\n",
        "display(df_tmp)\n",
        "print()\n",
        "\n",
        "sns.set_style(\"dark\")\n",
        "sns.countplot(x=\"virality\", data=df_train_tweets);\n",
        "plt.title('Distribuição de tweets pela viralização');\n",
        "plt.grid()\n",
        "plt.show()"
      ],
      "execution_count": null,
      "outputs": [
        {
          "output_type": "stream",
          "text": [
            "Quantidade de tweets por classe de viralização:\n"
          ],
          "name": "stdout"
        },
        {
          "output_type": "display_data",
          "data": {
            "text/html": [
              "<div>\n",
              "<style scoped>\n",
              "    .dataframe tbody tr th:only-of-type {\n",
              "        vertical-align: middle;\n",
              "    }\n",
              "\n",
              "    .dataframe tbody tr th {\n",
              "        vertical-align: top;\n",
              "    }\n",
              "\n",
              "    .dataframe thead th {\n",
              "        text-align: right;\n",
              "    }\n",
              "</style>\n",
              "<table border=\"1\" class=\"dataframe\">\n",
              "  <thead>\n",
              "    <tr style=\"text-align: right;\">\n",
              "      <th></th>\n",
              "      <th>virality</th>\n",
              "      <th>n_tweets</th>\n",
              "      <th>proportion</th>\n",
              "    </tr>\n",
              "  </thead>\n",
              "  <tbody>\n",
              "    <tr>\n",
              "      <th>0</th>\n",
              "      <td>1</td>\n",
              "      <td>13632</td>\n",
              "      <td>46.02</td>\n",
              "    </tr>\n",
              "    <tr>\n",
              "      <th>1</th>\n",
              "      <td>2</td>\n",
              "      <td>8889</td>\n",
              "      <td>30.01</td>\n",
              "    </tr>\n",
              "    <tr>\n",
              "      <th>2</th>\n",
              "      <td>3</td>\n",
              "      <td>4646</td>\n",
              "      <td>15.68</td>\n",
              "    </tr>\n",
              "    <tr>\n",
              "      <th>3</th>\n",
              "      <td>4</td>\n",
              "      <td>1135</td>\n",
              "      <td>3.83</td>\n",
              "    </tr>\n",
              "    <tr>\n",
              "      <th>4</th>\n",
              "      <td>5</td>\n",
              "      <td>1323</td>\n",
              "      <td>4.47</td>\n",
              "    </tr>\n",
              "  </tbody>\n",
              "</table>\n",
              "</div>"
            ],
            "text/plain": [
              "   virality  n_tweets  proportion\n",
              "0         1     13632       46.02\n",
              "1         2      8889       30.01\n",
              "2         3      4646       15.68\n",
              "3         4      1135        3.83\n",
              "4         5      1323        4.47"
            ]
          },
          "metadata": {
            "tags": []
          }
        },
        {
          "output_type": "stream",
          "text": [
            "\n"
          ],
          "name": "stdout"
        },
        {
          "output_type": "display_data",
          "data": {
            "image/png": "[encoded data removed]",
            "text/plain": [
              "<Figure size 432x288 with 1 Axes>"
            ]
          },
          "metadata": {
            "tags": []
          }
        }
      ]
    },
    {
      "cell_type": "code",
      "metadata": {
        "id": "zfK9KUMr_nPz",
        "colab": {
          "base_uri": "https://localhost:8080/",
          "height": 404
        },
        "outputId": "6bd46bee-63be-47de-8b00-1e36456f7e6d"
      },
      "source": [
        "import seaborn as sns\n",
        "numerical_var = ['tweet_mention_count', 'tweet_hashtag_count', 'tweet_url_count','virality']\n",
        "\n",
        "print('Correlação entre as variáveis numéricas:\\n')\n",
        "corrMatrix = df_train_tweets.loc[:,numerical_var].corr()\n",
        "sns.heatmap(corrMatrix, annot=True, cmap='Blues')\n",
        "plt.show()"
      ],
      "execution_count": null,
      "outputs": [
        {
          "output_type": "stream",
          "text": [
            "Correlação entre as variáveis numéricas:\n",
            "\n"
          ],
          "name": "stdout"
        },
        {
          "output_type": "display_data",
          "data": {
            "image/png": "[encoded data removed]",
            "text/plain": [
              "<Figure size 432x288 with 2 Axes>"
            ]
          },
          "metadata": {
            "tags": []
          }
        }
      ]
    },
    {
      "cell_type": "markdown",
      "metadata": {
        "id": "AordGOUaACna"
      },
      "source": [
        "A variável virality não possui uma correlação alta com nenhuma as variáveis  tweet_mention_count, tweet_hashtag_count, tweet_url_count,virality."
      ]
    },
    {
      "cell_type": "code",
      "metadata": {
        "id": "g0usZN5O55Qn",
        "colab": {
          "base_uri": "https://localhost:8080/",
          "height": 809
        },
        "outputId": "823739b9-b183-4c43-fa4f-09ab3f5efd38"
      },
      "source": [
        "for var in ['tweet_created_at_hour','tweet_has_attachment','tweet_language_id']:\n",
        "\n",
        "  df_tmp = df_train_tweets.groupby(['virality',var]).size().reset_index().rename(columns={0:'n_tweet'})\n",
        "  display(pd.pivot_table(df_tmp, index='virality',columns=var,values='n_tweet',aggfunc='sum', fill_value = 0))\n",
        "  print('--------------------------------------------------------------------------------------------\\n')"
      ],
      "execution_count": null,
      "outputs": [
        {
          "output_type": "display_data",
          "data": {
            "text/html": [
              "<div>\n",
              "<style scoped>\n",
              "    .dataframe tbody tr th:only-of-type {\n",
              "        vertical-align: middle;\n",
              "    }\n",
              "\n",
              "    .dataframe tbody tr th {\n",
              "        vertical-align: top;\n",
              "    }\n",
              "\n",
              "    .dataframe thead th {\n",
              "        text-align: right;\n",
              "    }\n",
              "</style>\n",
              "<table border=\"1\" class=\"dataframe\">\n",
              "  <thead>\n",
              "    <tr style=\"text-align: right;\">\n",
              "      <th>tweet_created_at_hour</th>\n",
              "      <th>0</th>\n",
              "      <th>1</th>\n",
              "      <th>2</th>\n",
              "      <th>3</th>\n",
              "      <th>4</th>\n",
              "      <th>5</th>\n",
              "      <th>6</th>\n",
              "      <th>7</th>\n",
              "      <th>8</th>\n",
              "      <th>9</th>\n",
              "      <th>10</th>\n",
              "      <th>11</th>\n",
              "      <th>12</th>\n",
              "      <th>13</th>\n",
              "      <th>14</th>\n",
              "      <th>15</th>\n",
              "      <th>16</th>\n",
              "      <th>17</th>\n",
              "      <th>18</th>\n",
              "      <th>19</th>\n",
              "      <th>20</th>\n",
              "      <th>21</th>\n",
              "      <th>22</th>\n",
              "      <th>23</th>\n",
              "    </tr>\n",
              "    <tr>\n",
              "      <th>virality</th>\n",
              "      <th></th>\n",
              "      <th></th>\n",
              "      <th></th>\n",
              "      <th></th>\n",
              "      <th></th>\n",
              "      <th></th>\n",
              "      <th></th>\n",
              "      <th></th>\n",
              "      <th></th>\n",
              "      <th></th>\n",
              "      <th></th>\n",
              "      <th></th>\n",
              "      <th></th>\n",
              "      <th></th>\n",
              "      <th></th>\n",
              "      <th></th>\n",
              "      <th></th>\n",
              "      <th></th>\n",
              "      <th></th>\n",
              "      <th></th>\n",
              "      <th></th>\n",
              "      <th></th>\n",
              "      <th></th>\n",
              "      <th></th>\n",
              "    </tr>\n",
              "  </thead>\n",
              "  <tbody>\n",
              "    <tr>\n",
              "      <th>1</th>\n",
              "      <td>236</td>\n",
              "      <td>223</td>\n",
              "      <td>111</td>\n",
              "      <td>66</td>\n",
              "      <td>57</td>\n",
              "      <td>54</td>\n",
              "      <td>115</td>\n",
              "      <td>175</td>\n",
              "      <td>360</td>\n",
              "      <td>365</td>\n",
              "      <td>315</td>\n",
              "      <td>299</td>\n",
              "      <td>549</td>\n",
              "      <td>915</td>\n",
              "      <td>1253</td>\n",
              "      <td>1431</td>\n",
              "      <td>1431</td>\n",
              "      <td>1327</td>\n",
              "      <td>998</td>\n",
              "      <td>976</td>\n",
              "      <td>888</td>\n",
              "      <td>630</td>\n",
              "      <td>498</td>\n",
              "      <td>360</td>\n",
              "    </tr>\n",
              "    <tr>\n",
              "      <th>2</th>\n",
              "      <td>235</td>\n",
              "      <td>195</td>\n",
              "      <td>88</td>\n",
              "      <td>54</td>\n",
              "      <td>45</td>\n",
              "      <td>44</td>\n",
              "      <td>46</td>\n",
              "      <td>90</td>\n",
              "      <td>143</td>\n",
              "      <td>152</td>\n",
              "      <td>151</td>\n",
              "      <td>148</td>\n",
              "      <td>278</td>\n",
              "      <td>456</td>\n",
              "      <td>680</td>\n",
              "      <td>871</td>\n",
              "      <td>1091</td>\n",
              "      <td>946</td>\n",
              "      <td>709</td>\n",
              "      <td>710</td>\n",
              "      <td>564</td>\n",
              "      <td>475</td>\n",
              "      <td>390</td>\n",
              "      <td>328</td>\n",
              "    </tr>\n",
              "    <tr>\n",
              "      <th>3</th>\n",
              "      <td>106</td>\n",
              "      <td>95</td>\n",
              "      <td>64</td>\n",
              "      <td>34</td>\n",
              "      <td>27</td>\n",
              "      <td>23</td>\n",
              "      <td>25</td>\n",
              "      <td>54</td>\n",
              "      <td>124</td>\n",
              "      <td>170</td>\n",
              "      <td>114</td>\n",
              "      <td>130</td>\n",
              "      <td>205</td>\n",
              "      <td>282</td>\n",
              "      <td>424</td>\n",
              "      <td>402</td>\n",
              "      <td>550</td>\n",
              "      <td>483</td>\n",
              "      <td>329</td>\n",
              "      <td>281</td>\n",
              "      <td>232</td>\n",
              "      <td>214</td>\n",
              "      <td>144</td>\n",
              "      <td>134</td>\n",
              "    </tr>\n",
              "    <tr>\n",
              "      <th>4</th>\n",
              "      <td>21</td>\n",
              "      <td>33</td>\n",
              "      <td>18</td>\n",
              "      <td>18</td>\n",
              "      <td>10</td>\n",
              "      <td>6</td>\n",
              "      <td>7</td>\n",
              "      <td>7</td>\n",
              "      <td>22</td>\n",
              "      <td>27</td>\n",
              "      <td>13</td>\n",
              "      <td>36</td>\n",
              "      <td>42</td>\n",
              "      <td>63</td>\n",
              "      <td>113</td>\n",
              "      <td>89</td>\n",
              "      <td>145</td>\n",
              "      <td>115</td>\n",
              "      <td>72</td>\n",
              "      <td>73</td>\n",
              "      <td>74</td>\n",
              "      <td>50</td>\n",
              "      <td>40</td>\n",
              "      <td>41</td>\n",
              "    </tr>\n",
              "    <tr>\n",
              "      <th>5</th>\n",
              "      <td>45</td>\n",
              "      <td>42</td>\n",
              "      <td>29</td>\n",
              "      <td>16</td>\n",
              "      <td>26</td>\n",
              "      <td>17</td>\n",
              "      <td>11</td>\n",
              "      <td>12</td>\n",
              "      <td>26</td>\n",
              "      <td>24</td>\n",
              "      <td>15</td>\n",
              "      <td>26</td>\n",
              "      <td>28</td>\n",
              "      <td>71</td>\n",
              "      <td>101</td>\n",
              "      <td>118</td>\n",
              "      <td>126</td>\n",
              "      <td>127</td>\n",
              "      <td>97</td>\n",
              "      <td>97</td>\n",
              "      <td>89</td>\n",
              "      <td>76</td>\n",
              "      <td>60</td>\n",
              "      <td>44</td>\n",
              "    </tr>\n",
              "  </tbody>\n",
              "</table>\n",
              "</div>"
            ],
            "text/plain": [
              "tweet_created_at_hour   0    1    2   3   4   5   ...   18   19   20   21   22   23\n",
              "virality                                          ...                              \n",
              "1                      236  223  111  66  57  54  ...  998  976  888  630  498  360\n",
              "2                      235  195   88  54  45  44  ...  709  710  564  475  390  328\n",
              "3                      106   95   64  34  27  23  ...  329  281  232  214  144  134\n",
              "4                       21   33   18  18  10   6  ...   72   73   74   50   40   41\n",
              "5                       45   42   29  16  26  17  ...   97   97   89   76   60   44\n",
              "\n",
              "[5 rows x 24 columns]"
            ]
          },
          "metadata": {
            "tags": []
          }
        },
        {
          "output_type": "stream",
          "text": [
            "--------------------------------------------------------------------------------------------\n",
            "\n"
          ],
          "name": "stdout"
        },
        {
          "output_type": "display_data",
          "data": {
            "text/html": [
              "<div>\n",
              "<style scoped>\n",
              "    .dataframe tbody tr th:only-of-type {\n",
              "        vertical-align: middle;\n",
              "    }\n",
              "\n",
              "    .dataframe tbody tr th {\n",
              "        vertical-align: top;\n",
              "    }\n",
              "\n",
              "    .dataframe thead th {\n",
              "        text-align: right;\n",
              "    }\n",
              "</style>\n",
              "<table border=\"1\" class=\"dataframe\">\n",
              "  <thead>\n",
              "    <tr style=\"text-align: right;\">\n",
              "      <th>tweet_has_attachment</th>\n",
              "      <th>False</th>\n",
              "      <th>True</th>\n",
              "    </tr>\n",
              "    <tr>\n",
              "      <th>virality</th>\n",
              "      <th></th>\n",
              "      <th></th>\n",
              "    </tr>\n",
              "  </thead>\n",
              "  <tbody>\n",
              "    <tr>\n",
              "      <th>1</th>\n",
              "      <td>5946</td>\n",
              "      <td>7686</td>\n",
              "    </tr>\n",
              "    <tr>\n",
              "      <th>2</th>\n",
              "      <td>3111</td>\n",
              "      <td>5778</td>\n",
              "    </tr>\n",
              "    <tr>\n",
              "      <th>3</th>\n",
              "      <td>1501</td>\n",
              "      <td>3145</td>\n",
              "    </tr>\n",
              "    <tr>\n",
              "      <th>4</th>\n",
              "      <td>537</td>\n",
              "      <td>598</td>\n",
              "    </tr>\n",
              "    <tr>\n",
              "      <th>5</th>\n",
              "      <td>730</td>\n",
              "      <td>593</td>\n",
              "    </tr>\n",
              "  </tbody>\n",
              "</table>\n",
              "</div>"
            ],
            "text/plain": [
              "tweet_has_attachment  False  True \n",
              "virality                          \n",
              "1                      5946   7686\n",
              "2                      3111   5778\n",
              "3                      1501   3145\n",
              "4                       537    598\n",
              "5                       730    593"
            ]
          },
          "metadata": {
            "tags": []
          }
        },
        {
          "output_type": "stream",
          "text": [
            "--------------------------------------------------------------------------------------------\n",
            "\n"
          ],
          "name": "stdout"
        },
        {
          "output_type": "display_data",
          "data": {
            "text/html": [
              "<div>\n",
              "<style scoped>\n",
              "    .dataframe tbody tr th:only-of-type {\n",
              "        vertical-align: middle;\n",
              "    }\n",
              "\n",
              "    .dataframe tbody tr th {\n",
              "        vertical-align: top;\n",
              "    }\n",
              "\n",
              "    .dataframe thead th {\n",
              "        text-align: right;\n",
              "    }\n",
              "</style>\n",
              "<table border=\"1\" class=\"dataframe\">\n",
              "  <thead>\n",
              "    <tr style=\"text-align: right;\">\n",
              "      <th>tweet_language_id</th>\n",
              "      <th>0</th>\n",
              "      <th>1</th>\n",
              "      <th>2</th>\n",
              "      <th>3</th>\n",
              "      <th>4</th>\n",
              "      <th>5</th>\n",
              "      <th>6</th>\n",
              "      <th>7</th>\n",
              "      <th>8</th>\n",
              "      <th>9</th>\n",
              "      <th>10</th>\n",
              "      <th>11</th>\n",
              "      <th>12</th>\n",
              "      <th>13</th>\n",
              "      <th>14</th>\n",
              "      <th>15</th>\n",
              "      <th>16</th>\n",
              "      <th>17</th>\n",
              "      <th>18</th>\n",
              "      <th>19</th>\n",
              "      <th>20</th>\n",
              "      <th>21</th>\n",
              "      <th>22</th>\n",
              "      <th>23</th>\n",
              "      <th>24</th>\n",
              "      <th>25</th>\n",
              "      <th>27</th>\n",
              "      <th>28</th>\n",
              "      <th>29</th>\n",
              "      <th>30</th>\n",
              "    </tr>\n",
              "    <tr>\n",
              "      <th>virality</th>\n",
              "      <th></th>\n",
              "      <th></th>\n",
              "      <th></th>\n",
              "      <th></th>\n",
              "      <th></th>\n",
              "      <th></th>\n",
              "      <th></th>\n",
              "      <th></th>\n",
              "      <th></th>\n",
              "      <th></th>\n",
              "      <th></th>\n",
              "      <th></th>\n",
              "      <th></th>\n",
              "      <th></th>\n",
              "      <th></th>\n",
              "      <th></th>\n",
              "      <th></th>\n",
              "      <th></th>\n",
              "      <th></th>\n",
              "      <th></th>\n",
              "      <th></th>\n",
              "      <th></th>\n",
              "      <th></th>\n",
              "      <th></th>\n",
              "      <th></th>\n",
              "      <th></th>\n",
              "      <th></th>\n",
              "      <th></th>\n",
              "      <th></th>\n",
              "      <th></th>\n",
              "    </tr>\n",
              "  </thead>\n",
              "  <tbody>\n",
              "    <tr>\n",
              "      <th>1</th>\n",
              "      <td>13236</td>\n",
              "      <td>63</td>\n",
              "      <td>3</td>\n",
              "      <td>170</td>\n",
              "      <td>8</td>\n",
              "      <td>5</td>\n",
              "      <td>90</td>\n",
              "      <td>5</td>\n",
              "      <td>15</td>\n",
              "      <td>7</td>\n",
              "      <td>2</td>\n",
              "      <td>2</td>\n",
              "      <td>1</td>\n",
              "      <td>3</td>\n",
              "      <td>1</td>\n",
              "      <td>1</td>\n",
              "      <td>0</td>\n",
              "      <td>1</td>\n",
              "      <td>7</td>\n",
              "      <td>2</td>\n",
              "      <td>0</td>\n",
              "      <td>0</td>\n",
              "      <td>0</td>\n",
              "      <td>4</td>\n",
              "      <td>2</td>\n",
              "      <td>0</td>\n",
              "      <td>3</td>\n",
              "      <td>0</td>\n",
              "      <td>0</td>\n",
              "      <td>1</td>\n",
              "    </tr>\n",
              "    <tr>\n",
              "      <th>2</th>\n",
              "      <td>8686</td>\n",
              "      <td>9</td>\n",
              "      <td>4</td>\n",
              "      <td>115</td>\n",
              "      <td>5</td>\n",
              "      <td>3</td>\n",
              "      <td>29</td>\n",
              "      <td>6</td>\n",
              "      <td>5</td>\n",
              "      <td>0</td>\n",
              "      <td>3</td>\n",
              "      <td>4</td>\n",
              "      <td>0</td>\n",
              "      <td>1</td>\n",
              "      <td>0</td>\n",
              "      <td>3</td>\n",
              "      <td>0</td>\n",
              "      <td>0</td>\n",
              "      <td>2</td>\n",
              "      <td>3</td>\n",
              "      <td>1</td>\n",
              "      <td>1</td>\n",
              "      <td>3</td>\n",
              "      <td>3</td>\n",
              "      <td>0</td>\n",
              "      <td>1</td>\n",
              "      <td>0</td>\n",
              "      <td>2</td>\n",
              "      <td>0</td>\n",
              "      <td>0</td>\n",
              "    </tr>\n",
              "    <tr>\n",
              "      <th>3</th>\n",
              "      <td>4511</td>\n",
              "      <td>4</td>\n",
              "      <td>0</td>\n",
              "      <td>72</td>\n",
              "      <td>6</td>\n",
              "      <td>1</td>\n",
              "      <td>33</td>\n",
              "      <td>4</td>\n",
              "      <td>2</td>\n",
              "      <td>2</td>\n",
              "      <td>2</td>\n",
              "      <td>0</td>\n",
              "      <td>0</td>\n",
              "      <td>0</td>\n",
              "      <td>0</td>\n",
              "      <td>2</td>\n",
              "      <td>1</td>\n",
              "      <td>0</td>\n",
              "      <td>1</td>\n",
              "      <td>1</td>\n",
              "      <td>0</td>\n",
              "      <td>2</td>\n",
              "      <td>0</td>\n",
              "      <td>2</td>\n",
              "      <td>0</td>\n",
              "      <td>0</td>\n",
              "      <td>0</td>\n",
              "      <td>0</td>\n",
              "      <td>0</td>\n",
              "      <td>0</td>\n",
              "    </tr>\n",
              "    <tr>\n",
              "      <th>4</th>\n",
              "      <td>1097</td>\n",
              "      <td>3</td>\n",
              "      <td>0</td>\n",
              "      <td>24</td>\n",
              "      <td>1</td>\n",
              "      <td>0</td>\n",
              "      <td>3</td>\n",
              "      <td>0</td>\n",
              "      <td>1</td>\n",
              "      <td>0</td>\n",
              "      <td>1</td>\n",
              "      <td>0</td>\n",
              "      <td>0</td>\n",
              "      <td>0</td>\n",
              "      <td>0</td>\n",
              "      <td>0</td>\n",
              "      <td>0</td>\n",
              "      <td>0</td>\n",
              "      <td>0</td>\n",
              "      <td>1</td>\n",
              "      <td>0</td>\n",
              "      <td>2</td>\n",
              "      <td>0</td>\n",
              "      <td>0</td>\n",
              "      <td>1</td>\n",
              "      <td>0</td>\n",
              "      <td>1</td>\n",
              "      <td>0</td>\n",
              "      <td>0</td>\n",
              "      <td>0</td>\n",
              "    </tr>\n",
              "    <tr>\n",
              "      <th>5</th>\n",
              "      <td>1244</td>\n",
              "      <td>4</td>\n",
              "      <td>0</td>\n",
              "      <td>48</td>\n",
              "      <td>2</td>\n",
              "      <td>1</td>\n",
              "      <td>4</td>\n",
              "      <td>2</td>\n",
              "      <td>0</td>\n",
              "      <td>0</td>\n",
              "      <td>1</td>\n",
              "      <td>3</td>\n",
              "      <td>0</td>\n",
              "      <td>1</td>\n",
              "      <td>0</td>\n",
              "      <td>0</td>\n",
              "      <td>1</td>\n",
              "      <td>1</td>\n",
              "      <td>1</td>\n",
              "      <td>2</td>\n",
              "      <td>3</td>\n",
              "      <td>2</td>\n",
              "      <td>0</td>\n",
              "      <td>1</td>\n",
              "      <td>0</td>\n",
              "      <td>0</td>\n",
              "      <td>0</td>\n",
              "      <td>0</td>\n",
              "      <td>1</td>\n",
              "      <td>1</td>\n",
              "    </tr>\n",
              "  </tbody>\n",
              "</table>\n",
              "</div>"
            ],
            "text/plain": [
              "tweet_language_id     0   1   2    3   4   5   6   ...  23  24  25  27  28  29  30\n",
              "virality                                           ...                            \n",
              "1                  13236  63   3  170   8   5  90  ...   4   2   0   3   0   0   1\n",
              "2                   8686   9   4  115   5   3  29  ...   3   0   1   0   2   0   0\n",
              "3                   4511   4   0   72   6   1  33  ...   2   0   0   0   0   0   0\n",
              "4                   1097   3   0   24   1   0   3  ...   0   1   0   1   0   0   0\n",
              "5                   1244   4   0   48   2   1   4  ...   1   0   0   0   0   1   1\n",
              "\n",
              "[5 rows x 30 columns]"
            ]
          },
          "metadata": {
            "tags": []
          }
        },
        {
          "output_type": "stream",
          "text": [
            "--------------------------------------------------------------------------------------------\n",
            "\n"
          ],
          "name": "stdout"
        }
      ]
    },
    {
      "cell_type": "markdown",
      "metadata": {
        "id": "3UHa2KhPsNz7"
      },
      "source": [
        "# 3. Modelos de Predição"
      ]
    },
    {
      "cell_type": "code",
      "metadata": {
        "id": "CkZIGo_MGU1J"
      },
      "source": [
        "df = df_train.drop(columns='tweet_topic_ids').copy() \n",
        "df = pd.get_dummies(df)\n",
        "\n",
        "# X, y: valores dos dados de treino\n",
        "X = df.drop(columns='virality')\n",
        "y = df.virality\n",
        "\n",
        "for col in df.columns:\n",
        "  if df[col].isnull().sum()>1:\n",
        "    print(col)"
      ],
      "execution_count": null,
      "outputs": []
    },
    {
      "cell_type": "code",
      "metadata": {
        "colab": {
          "base_uri": "https://localhost:8080/"
        },
        "id": "Kjq3ycSvXf6V",
        "outputId": "c034ec1d-c72b-41e7-fc00-f7ce6d3f802c"
      },
      "source": [
        "df.shape\n"
      ],
      "execution_count": null,
      "outputs": [
        {
          "output_type": "execute_result",
          "data": {
            "text/plain": [
              "(29625, 3611)"
            ]
          },
          "metadata": {
            "tags": []
          },
          "execution_count": 51
        }
      ]
    },
    {
      "cell_type": "code",
      "metadata": {
        "id": "DhN6CZIbYmBV"
      },
      "source": [
        "pd.DataFrame(df).to_csv('/content/drive/My Drive/TASK 5/Dataset/data_lasso.csv')"
      ],
      "execution_count": null,
      "outputs": []
    },
    {
      "cell_type": "code",
      "metadata": {
        "colab": {
          "base_uri": "https://localhost:8080/",
          "height": 256
        },
        "id": "cgZpKlLAAHFK",
        "outputId": "ba8ceca9-217d-4279-dddf-15e5dee13bda"
      },
      "source": [
        "df.tail()"
      ],
      "execution_count": null,
      "outputs": [
        {
          "output_type": "execute_result",
          "data": {
            "text/html": [
              "<div>\n",
              "<style scoped>\n",
              "    .dataframe tbody tr th:only-of-type {\n",
              "        vertical-align: middle;\n",
              "    }\n",
              "\n",
              "    .dataframe tbody tr th {\n",
              "        vertical-align: top;\n",
              "    }\n",
              "\n",
              "    .dataframe thead th {\n",
              "        text-align: right;\n",
              "    }\n",
              "</style>\n",
              "<table border=\"1\" class=\"dataframe\">\n",
              "  <thead>\n",
              "    <tr style=\"text-align: right;\">\n",
              "      <th></th>\n",
              "      <th>user_id</th>\n",
              "      <th>user_like_count</th>\n",
              "      <th>user_followers_count</th>\n",
              "      <th>user_following_count</th>\n",
              "      <th>user_listed_on_count</th>\n",
              "      <th>user_has_location</th>\n",
              "      <th>user_tweet_count</th>\n",
              "      <th>user_has_url</th>\n",
              "      <th>user_verified</th>\n",
              "      <th>user_created_at_year</th>\n",
              "      <th>user_created_at_month</th>\n",
              "      <th>user_creation_age</th>\n",
              "      <th>feature_0_x</th>\n",
              "      <th>feature_1_x</th>\n",
              "      <th>feature_2_x</th>\n",
              "      <th>feature_3_x</th>\n",
              "      <th>feature_4_x</th>\n",
              "      <th>feature_5_x</th>\n",
              "      <th>feature_6_x</th>\n",
              "      <th>feature_7_x</th>\n",
              "      <th>feature_8_x</th>\n",
              "      <th>feature_9_x</th>\n",
              "      <th>feature_10_x</th>\n",
              "      <th>feature_11_x</th>\n",
              "      <th>feature_12_x</th>\n",
              "      <th>feature_13_x</th>\n",
              "      <th>feature_14_x</th>\n",
              "      <th>feature_15_x</th>\n",
              "      <th>feature_16_x</th>\n",
              "      <th>feature_17_x</th>\n",
              "      <th>feature_18_x</th>\n",
              "      <th>feature_19_x</th>\n",
              "      <th>feature_20_x</th>\n",
              "      <th>feature_21_x</th>\n",
              "      <th>feature_22_x</th>\n",
              "      <th>feature_23_x</th>\n",
              "      <th>feature_24_x</th>\n",
              "      <th>feature_25_x</th>\n",
              "      <th>feature_26_x</th>\n",
              "      <th>feature_27_x</th>\n",
              "      <th>...</th>\n",
              "      <th>feature_732</th>\n",
              "      <th>feature_733</th>\n",
              "      <th>feature_734</th>\n",
              "      <th>feature_735</th>\n",
              "      <th>feature_736</th>\n",
              "      <th>feature_737</th>\n",
              "      <th>feature_738</th>\n",
              "      <th>feature_739</th>\n",
              "      <th>feature_740</th>\n",
              "      <th>feature_741</th>\n",
              "      <th>feature_742</th>\n",
              "      <th>feature_743</th>\n",
              "      <th>feature_744</th>\n",
              "      <th>feature_745</th>\n",
              "      <th>feature_746</th>\n",
              "      <th>feature_747</th>\n",
              "      <th>feature_748</th>\n",
              "      <th>feature_749</th>\n",
              "      <th>feature_750</th>\n",
              "      <th>feature_751</th>\n",
              "      <th>feature_752</th>\n",
              "      <th>feature_753</th>\n",
              "      <th>feature_754</th>\n",
              "      <th>feature_755</th>\n",
              "      <th>feature_756</th>\n",
              "      <th>feature_757</th>\n",
              "      <th>feature_758</th>\n",
              "      <th>feature_759</th>\n",
              "      <th>feature_760</th>\n",
              "      <th>feature_761</th>\n",
              "      <th>feature_762</th>\n",
              "      <th>feature_763</th>\n",
              "      <th>feature_764</th>\n",
              "      <th>feature_765</th>\n",
              "      <th>feature_766</th>\n",
              "      <th>feature_767</th>\n",
              "      <th>tweet_attachment_class_A</th>\n",
              "      <th>tweet_attachment_class_B</th>\n",
              "      <th>tweet_attachment_class_C</th>\n",
              "      <th>has_media_1</th>\n",
              "    </tr>\n",
              "  </thead>\n",
              "  <tbody>\n",
              "    <tr>\n",
              "      <th>29620</th>\n",
              "      <td>55</td>\n",
              "      <td>1299</td>\n",
              "      <td>4336</td>\n",
              "      <td>2083</td>\n",
              "      <td>705</td>\n",
              "      <td>True</td>\n",
              "      <td>2505</td>\n",
              "      <td>True</td>\n",
              "      <td>0</td>\n",
              "      <td>2014</td>\n",
              "      <td>8</td>\n",
              "      <td>6.96</td>\n",
              "      <td>0.18</td>\n",
              "      <td>-0.15</td>\n",
              "      <td>-0.02</td>\n",
              "      <td>-0.08</td>\n",
              "      <td>-0.09</td>\n",
              "      <td>0.10</td>\n",
              "      <td>-0.39</td>\n",
              "      <td>-0.31</td>\n",
              "      <td>-0.06</td>\n",
              "      <td>0.07</td>\n",
              "      <td>-0.24</td>\n",
              "      <td>0.19</td>\n",
              "      <td>-0.13</td>\n",
              "      <td>-0.23</td>\n",
              "      <td>-0.26</td>\n",
              "      <td>0.13</td>\n",
              "      <td>-0.13</td>\n",
              "      <td>-0.13</td>\n",
              "      <td>0.23</td>\n",
              "      <td>-0.32</td>\n",
              "      <td>-0.16</td>\n",
              "      <td>-0.20</td>\n",
              "      <td>-0.25</td>\n",
              "      <td>-0.17</td>\n",
              "      <td>-0.17</td>\n",
              "      <td>0.06</td>\n",
              "      <td>-0.30</td>\n",
              "      <td>0.09</td>\n",
              "      <td>...</td>\n",
              "      <td>-0.16</td>\n",
              "      <td>0.54</td>\n",
              "      <td>0.03</td>\n",
              "      <td>-0.10</td>\n",
              "      <td>0.13</td>\n",
              "      <td>-0.04</td>\n",
              "      <td>-0.14</td>\n",
              "      <td>0.21</td>\n",
              "      <td>0.22</td>\n",
              "      <td>0.02</td>\n",
              "      <td>-0.09</td>\n",
              "      <td>0.33</td>\n",
              "      <td>0.08</td>\n",
              "      <td>-0.05</td>\n",
              "      <td>-0.03</td>\n",
              "      <td>0.27</td>\n",
              "      <td>0.16</td>\n",
              "      <td>-0.21</td>\n",
              "      <td>0.00</td>\n",
              "      <td>-0.13</td>\n",
              "      <td>-0.13</td>\n",
              "      <td>-0.05</td>\n",
              "      <td>0.26</td>\n",
              "      <td>0.29</td>\n",
              "      <td>-0.48</td>\n",
              "      <td>-0.14</td>\n",
              "      <td>0.22</td>\n",
              "      <td>-0.34</td>\n",
              "      <td>-0.14</td>\n",
              "      <td>0.04</td>\n",
              "      <td>0.29</td>\n",
              "      <td>-0.09</td>\n",
              "      <td>0.11</td>\n",
              "      <td>-0.05</td>\n",
              "      <td>0.03</td>\n",
              "      <td>0.09</td>\n",
              "      <td>1</td>\n",
              "      <td>0</td>\n",
              "      <td>0</td>\n",
              "      <td>1</td>\n",
              "    </tr>\n",
              "    <tr>\n",
              "      <th>29621</th>\n",
              "      <td>55</td>\n",
              "      <td>1299</td>\n",
              "      <td>4336</td>\n",
              "      <td>2083</td>\n",
              "      <td>705</td>\n",
              "      <td>True</td>\n",
              "      <td>2505</td>\n",
              "      <td>True</td>\n",
              "      <td>0</td>\n",
              "      <td>2014</td>\n",
              "      <td>8</td>\n",
              "      <td>6.96</td>\n",
              "      <td>0.18</td>\n",
              "      <td>-0.15</td>\n",
              "      <td>-0.02</td>\n",
              "      <td>-0.08</td>\n",
              "      <td>-0.09</td>\n",
              "      <td>0.10</td>\n",
              "      <td>-0.39</td>\n",
              "      <td>-0.31</td>\n",
              "      <td>-0.06</td>\n",
              "      <td>0.07</td>\n",
              "      <td>-0.24</td>\n",
              "      <td>0.19</td>\n",
              "      <td>-0.13</td>\n",
              "      <td>-0.23</td>\n",
              "      <td>-0.26</td>\n",
              "      <td>0.13</td>\n",
              "      <td>-0.13</td>\n",
              "      <td>-0.13</td>\n",
              "      <td>0.23</td>\n",
              "      <td>-0.32</td>\n",
              "      <td>-0.16</td>\n",
              "      <td>-0.20</td>\n",
              "      <td>-0.25</td>\n",
              "      <td>-0.17</td>\n",
              "      <td>-0.17</td>\n",
              "      <td>0.06</td>\n",
              "      <td>-0.30</td>\n",
              "      <td>0.09</td>\n",
              "      <td>...</td>\n",
              "      <td>-0.16</td>\n",
              "      <td>0.51</td>\n",
              "      <td>-0.05</td>\n",
              "      <td>-0.18</td>\n",
              "      <td>0.09</td>\n",
              "      <td>0.02</td>\n",
              "      <td>-0.13</td>\n",
              "      <td>0.25</td>\n",
              "      <td>0.16</td>\n",
              "      <td>-0.06</td>\n",
              "      <td>-0.16</td>\n",
              "      <td>0.22</td>\n",
              "      <td>0.07</td>\n",
              "      <td>-0.07</td>\n",
              "      <td>-0.11</td>\n",
              "      <td>0.18</td>\n",
              "      <td>0.11</td>\n",
              "      <td>-0.12</td>\n",
              "      <td>0.08</td>\n",
              "      <td>-0.13</td>\n",
              "      <td>-0.00</td>\n",
              "      <td>-0.02</td>\n",
              "      <td>0.22</td>\n",
              "      <td>0.31</td>\n",
              "      <td>-0.44</td>\n",
              "      <td>-0.06</td>\n",
              "      <td>0.07</td>\n",
              "      <td>-0.29</td>\n",
              "      <td>-0.14</td>\n",
              "      <td>-0.06</td>\n",
              "      <td>0.17</td>\n",
              "      <td>-0.19</td>\n",
              "      <td>0.11</td>\n",
              "      <td>-0.14</td>\n",
              "      <td>-0.04</td>\n",
              "      <td>0.15</td>\n",
              "      <td>1</td>\n",
              "      <td>0</td>\n",
              "      <td>0</td>\n",
              "      <td>1</td>\n",
              "    </tr>\n",
              "    <tr>\n",
              "      <th>29622</th>\n",
              "      <td>55</td>\n",
              "      <td>1299</td>\n",
              "      <td>4336</td>\n",
              "      <td>2083</td>\n",
              "      <td>705</td>\n",
              "      <td>True</td>\n",
              "      <td>2505</td>\n",
              "      <td>True</td>\n",
              "      <td>0</td>\n",
              "      <td>2014</td>\n",
              "      <td>8</td>\n",
              "      <td>6.96</td>\n",
              "      <td>0.18</td>\n",
              "      <td>-0.15</td>\n",
              "      <td>-0.02</td>\n",
              "      <td>-0.08</td>\n",
              "      <td>-0.09</td>\n",
              "      <td>0.10</td>\n",
              "      <td>-0.39</td>\n",
              "      <td>-0.31</td>\n",
              "      <td>-0.06</td>\n",
              "      <td>0.07</td>\n",
              "      <td>-0.24</td>\n",
              "      <td>0.19</td>\n",
              "      <td>-0.13</td>\n",
              "      <td>-0.23</td>\n",
              "      <td>-0.26</td>\n",
              "      <td>0.13</td>\n",
              "      <td>-0.13</td>\n",
              "      <td>-0.13</td>\n",
              "      <td>0.23</td>\n",
              "      <td>-0.32</td>\n",
              "      <td>-0.16</td>\n",
              "      <td>-0.20</td>\n",
              "      <td>-0.25</td>\n",
              "      <td>-0.17</td>\n",
              "      <td>-0.17</td>\n",
              "      <td>0.06</td>\n",
              "      <td>-0.30</td>\n",
              "      <td>0.09</td>\n",
              "      <td>...</td>\n",
              "      <td>-0.12</td>\n",
              "      <td>0.50</td>\n",
              "      <td>0.03</td>\n",
              "      <td>-0.16</td>\n",
              "      <td>0.18</td>\n",
              "      <td>-0.09</td>\n",
              "      <td>-0.16</td>\n",
              "      <td>0.25</td>\n",
              "      <td>0.18</td>\n",
              "      <td>-0.05</td>\n",
              "      <td>-0.17</td>\n",
              "      <td>0.28</td>\n",
              "      <td>0.06</td>\n",
              "      <td>-0.04</td>\n",
              "      <td>-0.11</td>\n",
              "      <td>0.16</td>\n",
              "      <td>-0.01</td>\n",
              "      <td>-0.21</td>\n",
              "      <td>0.03</td>\n",
              "      <td>-0.21</td>\n",
              "      <td>-0.09</td>\n",
              "      <td>0.02</td>\n",
              "      <td>0.24</td>\n",
              "      <td>0.37</td>\n",
              "      <td>-0.46</td>\n",
              "      <td>-0.11</td>\n",
              "      <td>0.16</td>\n",
              "      <td>-0.28</td>\n",
              "      <td>-0.12</td>\n",
              "      <td>-0.10</td>\n",
              "      <td>0.26</td>\n",
              "      <td>-0.03</td>\n",
              "      <td>0.16</td>\n",
              "      <td>-0.07</td>\n",
              "      <td>-0.04</td>\n",
              "      <td>0.05</td>\n",
              "      <td>1</td>\n",
              "      <td>0</td>\n",
              "      <td>0</td>\n",
              "      <td>1</td>\n",
              "    </tr>\n",
              "    <tr>\n",
              "      <th>29623</th>\n",
              "      <td>55</td>\n",
              "      <td>1299</td>\n",
              "      <td>4336</td>\n",
              "      <td>2083</td>\n",
              "      <td>705</td>\n",
              "      <td>True</td>\n",
              "      <td>2505</td>\n",
              "      <td>True</td>\n",
              "      <td>0</td>\n",
              "      <td>2014</td>\n",
              "      <td>8</td>\n",
              "      <td>6.96</td>\n",
              "      <td>0.18</td>\n",
              "      <td>-0.15</td>\n",
              "      <td>-0.02</td>\n",
              "      <td>-0.08</td>\n",
              "      <td>-0.09</td>\n",
              "      <td>0.10</td>\n",
              "      <td>-0.39</td>\n",
              "      <td>-0.31</td>\n",
              "      <td>-0.06</td>\n",
              "      <td>0.07</td>\n",
              "      <td>-0.24</td>\n",
              "      <td>0.19</td>\n",
              "      <td>-0.13</td>\n",
              "      <td>-0.23</td>\n",
              "      <td>-0.26</td>\n",
              "      <td>0.13</td>\n",
              "      <td>-0.13</td>\n",
              "      <td>-0.13</td>\n",
              "      <td>0.23</td>\n",
              "      <td>-0.32</td>\n",
              "      <td>-0.16</td>\n",
              "      <td>-0.20</td>\n",
              "      <td>-0.25</td>\n",
              "      <td>-0.17</td>\n",
              "      <td>-0.17</td>\n",
              "      <td>0.06</td>\n",
              "      <td>-0.30</td>\n",
              "      <td>0.09</td>\n",
              "      <td>...</td>\n",
              "      <td>-0.14</td>\n",
              "      <td>0.52</td>\n",
              "      <td>0.06</td>\n",
              "      <td>-0.16</td>\n",
              "      <td>0.17</td>\n",
              "      <td>-0.06</td>\n",
              "      <td>-0.16</td>\n",
              "      <td>0.29</td>\n",
              "      <td>0.18</td>\n",
              "      <td>0.03</td>\n",
              "      <td>-0.13</td>\n",
              "      <td>0.27</td>\n",
              "      <td>0.04</td>\n",
              "      <td>0.01</td>\n",
              "      <td>-0.13</td>\n",
              "      <td>0.19</td>\n",
              "      <td>0.04</td>\n",
              "      <td>-0.14</td>\n",
              "      <td>0.02</td>\n",
              "      <td>-0.15</td>\n",
              "      <td>-0.04</td>\n",
              "      <td>0.01</td>\n",
              "      <td>0.23</td>\n",
              "      <td>0.32</td>\n",
              "      <td>-0.52</td>\n",
              "      <td>-0.03</td>\n",
              "      <td>0.10</td>\n",
              "      <td>-0.28</td>\n",
              "      <td>-0.14</td>\n",
              "      <td>-0.00</td>\n",
              "      <td>0.26</td>\n",
              "      <td>-0.11</td>\n",
              "      <td>0.10</td>\n",
              "      <td>-0.08</td>\n",
              "      <td>-0.01</td>\n",
              "      <td>0.01</td>\n",
              "      <td>1</td>\n",
              "      <td>0</td>\n",
              "      <td>0</td>\n",
              "      <td>1</td>\n",
              "    </tr>\n",
              "    <tr>\n",
              "      <th>29624</th>\n",
              "      <td>55</td>\n",
              "      <td>1299</td>\n",
              "      <td>4336</td>\n",
              "      <td>2083</td>\n",
              "      <td>705</td>\n",
              "      <td>True</td>\n",
              "      <td>2505</td>\n",
              "      <td>True</td>\n",
              "      <td>0</td>\n",
              "      <td>2014</td>\n",
              "      <td>8</td>\n",
              "      <td>6.96</td>\n",
              "      <td>0.18</td>\n",
              "      <td>-0.15</td>\n",
              "      <td>-0.02</td>\n",
              "      <td>-0.08</td>\n",
              "      <td>-0.09</td>\n",
              "      <td>0.10</td>\n",
              "      <td>-0.39</td>\n",
              "      <td>-0.31</td>\n",
              "      <td>-0.06</td>\n",
              "      <td>0.07</td>\n",
              "      <td>-0.24</td>\n",
              "      <td>0.19</td>\n",
              "      <td>-0.13</td>\n",
              "      <td>-0.23</td>\n",
              "      <td>-0.26</td>\n",
              "      <td>0.13</td>\n",
              "      <td>-0.13</td>\n",
              "      <td>-0.13</td>\n",
              "      <td>0.23</td>\n",
              "      <td>-0.32</td>\n",
              "      <td>-0.16</td>\n",
              "      <td>-0.20</td>\n",
              "      <td>-0.25</td>\n",
              "      <td>-0.17</td>\n",
              "      <td>-0.17</td>\n",
              "      <td>0.06</td>\n",
              "      <td>-0.30</td>\n",
              "      <td>0.09</td>\n",
              "      <td>...</td>\n",
              "      <td>-0.18</td>\n",
              "      <td>0.50</td>\n",
              "      <td>-0.05</td>\n",
              "      <td>-0.16</td>\n",
              "      <td>0.15</td>\n",
              "      <td>-0.04</td>\n",
              "      <td>-0.17</td>\n",
              "      <td>0.28</td>\n",
              "      <td>0.19</td>\n",
              "      <td>0.05</td>\n",
              "      <td>-0.21</td>\n",
              "      <td>0.25</td>\n",
              "      <td>-0.02</td>\n",
              "      <td>0.02</td>\n",
              "      <td>-0.16</td>\n",
              "      <td>0.24</td>\n",
              "      <td>0.03</td>\n",
              "      <td>-0.13</td>\n",
              "      <td>0.15</td>\n",
              "      <td>-0.16</td>\n",
              "      <td>-0.05</td>\n",
              "      <td>-0.03</td>\n",
              "      <td>0.20</td>\n",
              "      <td>0.30</td>\n",
              "      <td>-0.46</td>\n",
              "      <td>-0.16</td>\n",
              "      <td>0.20</td>\n",
              "      <td>-0.37</td>\n",
              "      <td>-0.11</td>\n",
              "      <td>0.02</td>\n",
              "      <td>0.15</td>\n",
              "      <td>-0.13</td>\n",
              "      <td>0.17</td>\n",
              "      <td>-0.11</td>\n",
              "      <td>0.04</td>\n",
              "      <td>0.02</td>\n",
              "      <td>1</td>\n",
              "      <td>0</td>\n",
              "      <td>0</td>\n",
              "      <td>1</td>\n",
              "    </tr>\n",
              "  </tbody>\n",
              "</table>\n",
              "<p>5 rows × 3611 columns</p>\n",
              "</div>"
            ],
            "text/plain": [
              "       user_id  user_like_count  ...  tweet_attachment_class_C  has_media_1\n",
              "29620       55             1299  ...                         0            1\n",
              "29621       55             1299  ...                         0            1\n",
              "29622       55             1299  ...                         0            1\n",
              "29623       55             1299  ...                         0            1\n",
              "29624       55             1299  ...                         0            1\n",
              "\n",
              "[5 rows x 3611 columns]"
            ]
          },
          "metadata": {
            "tags": []
          },
          "execution_count": 52
        }
      ]
    },
    {
      "cell_type": "code",
      "metadata": {
        "colab": {
          "base_uri": "https://localhost:8080/"
        },
        "id": "5SLT_T8jASFj",
        "outputId": "4c3d9e3f-9a6e-491e-abaa-936ff3ac7b6f"
      },
      "source": [
        "df.shape"
      ],
      "execution_count": null,
      "outputs": [
        {
          "output_type": "execute_result",
          "data": {
            "text/plain": [
              "(29625, 147)"
            ]
          },
          "metadata": {
            "tags": []
          },
          "execution_count": 26
        }
      ]
    },
    {
      "cell_type": "code",
      "metadata": {
        "id": "-LlEtTNqA-ws"
      },
      "source": [
        "df = pd.read_csv('data_0.csv')"
      ],
      "execution_count": null,
      "outputs": []
    },
    {
      "cell_type": "code",
      "metadata": {
        "id": "mizUbddEBfq8"
      },
      "source": [
        "# X, y: valores dos dados de treino\n",
        "X = df.drop(columns='virality')\n",
        "y = df.virality"
      ],
      "execution_count": null,
      "outputs": []
    },
    {
      "cell_type": "markdown",
      "metadata": {
        "id": "RWFMo-Q1_CPC"
      },
      "source": [
        "## 3.1 Dataframe - - - - - - data_0'"
      ]
    },
    {
      "cell_type": "code",
      "metadata": {
        "id": "LeL14N_GAA0q"
      },
      "source": [
        "pd.DataFrame(df).to_csv('/content/drive/My Drive/TASK 5/Dataset/data_0.csv')"
      ],
      "execution_count": null,
      "outputs": []
    },
    {
      "cell_type": "markdown",
      "metadata": {
        "id": "hUsPXNT2q5iq"
      },
      "source": [
        "## 3.1 Random Forest"
      ]
    },
    {
      "cell_type": "code",
      "metadata": {
        "id": "pHvyBLkTv9Up",
        "colab": {
          "base_uri": "https://localhost:8080/"
        },
        "outputId": "fa7e35b5-4be6-4fca-e03b-ef0df89aec9e"
      },
      "source": [
        "#### normalizando \n",
        "from sklearn.ensemble import RandomForestClassifier\n",
        "from sklearn.model_selection import StratifiedKFold\n",
        "from sklearn import preprocessing\n",
        "\n",
        "# Create StratifiedKFold object\n",
        "skf = StratifiedKFold(n_splits=5, shuffle=True, random_state=1)\n",
        "lst_accu_stratified = []\n",
        "\n",
        "scaler = preprocessing.MinMaxScaler()\n",
        "x_scaled = scaler.fit_transform(X)\n",
        "  \n",
        "RF = RandomForestClassifier()\n",
        "\n",
        "for train_index, test_index in skf.split(X, y):\n",
        "    x_train_fold, x_test_fold = x_scaled[train_index], x_scaled[test_index]\n",
        "    y_train_fold, y_test_fold = y[train_index], y[test_index]\n",
        "    RF.fit(x_train_fold, y_train_fold)\n",
        "    lst_accu_stratified.append(RF.score(x_test_fold, y_test_fold))\n",
        "\n",
        "print('Possíveis acurácias:', lst_accu_stratified)\n",
        "print('Acurácia média:', np.mean(lst_accu_stratified))"
      ],
      "execution_count": null,
      "outputs": [
        {
          "output_type": "stream",
          "text": [
            "Possíveis acurácias: [0.6678481012658228, 0.6761181434599156, 0.6737552742616034, 0.6708860759493671, 0.6661603375527426]\n",
            "Acurácia média: 0.6709535864978904\n"
          ],
          "name": "stdout"
        }
      ]
    },
    {
      "cell_type": "code",
      "metadata": {
        "id": "fjGKyOexPxWs",
        "colab": {
          "base_uri": "https://localhost:8080/"
        },
        "outputId": "6b192435-e552-4aba-e27e-6957b69bde83"
      },
      "source": [
        "# nao normalizando\n",
        "from sklearn.ensemble import RandomForestClassifier\n",
        "from sklearn.model_selection import StratifiedKFold\n",
        "from sklearn import preprocessing\n",
        "\n",
        "# Create StratifiedKFold object\n",
        "skf = StratifiedKFold(n_splits=5, shuffle=True, random_state=1)\n",
        "lst_accu_stratified = []\n",
        "  \n",
        "RF = RandomForestClassifier()\n",
        "Xarray = np.asarray(X)\n",
        "for train_index, test_index in skf.split(X, y):\n",
        "    x_train_fold, x_test_fold = Xarray[train_index], Xarray[test_index]\n",
        "    y_train_fold, y_test_fold = y[train_index], y[test_index]\n",
        "    RF.fit(x_train_fold, y_train_fold)\n",
        "    lst_accu_stratified.append(RF.score(x_test_fold, y_test_fold))\n",
        "\n",
        "print('Possíveis acurácias:', lst_accu_stratified)\n",
        "print('Acurácia média:', np.mean(lst_accu_stratified))"
      ],
      "execution_count": null,
      "outputs": [
        {
          "output_type": "stream",
          "text": [
            "Possíveis acurácias: [0.6648101265822784, 0.6724050632911392, 0.6739240506329114, 0.6737552742616034, 0.6648101265822784]\n",
            "Acurácia média: 0.6699409282700423\n"
          ],
          "name": "stdout"
        }
      ]
    },
    {
      "cell_type": "markdown",
      "metadata": {
        "id": "Zc4VLKtY4s2Q"
      },
      "source": [
        "## 3.2 xgboost"
      ]
    },
    {
      "cell_type": "code",
      "metadata": {
        "id": "5S7O2-1EC_E7",
        "colab": {
          "base_uri": "https://localhost:8080/"
        },
        "outputId": "e8b4ce8f-12ba-43cc-a794-a87c3792328f"
      },
      "source": [
        "# normalizando\n",
        "import xgboost as xgb\n",
        "from sklearn.model_selection import cross_val_score,cross_validate\n",
        "from sklearn.model_selection import StratifiedKFold\n",
        "from sklearn import preprocessing\n",
        "\n",
        "# Create StratifiedKFold object\n",
        "skf = StratifiedKFold(n_splits=5, shuffle=True, random_state=1)\n",
        "lst_accu_stratified = []\n",
        "\n",
        "scaler = preprocessing.MinMaxScaler()\n",
        "x_scaled = scaler.fit_transform(X)\n",
        "  \n",
        "XGB = xgb.XGBClassifier(tree_method = 'gpu_hist')\n",
        "\n",
        "for train_index, test_index in skf.split(X, y):\n",
        "    x_train_fold, x_test_fold = x_scaled[train_index], x_scaled[test_index]\n",
        "    y_train_fold, y_test_fold = y[train_index], y[test_index]\n",
        "    XGB.fit(x_train_fold, y_train_fold)\n",
        "    lst_accu_stratified.append(XGB.score(x_test_fold, y_test_fold))\n",
        "\n",
        "print('Possíveis acurácias:', lst_accu_stratified)\n",
        "print('Acurácia média:', np.mean(lst_accu_stratified))"
      ],
      "execution_count": null,
      "outputs": [
        {
          "output_type": "stream",
          "text": [
            "Possíveis acurácias: [0.6470886075949367, 0.6570464135021097, 0.6592405063291139, 0.6524894514767933, 0.6462447257383966]\n",
            "Acurácia média: 0.6524219409282701\n"
          ],
          "name": "stdout"
        }
      ]
    },
    {
      "cell_type": "code",
      "metadata": {
        "id": "w2IrDGqiRgAw",
        "colab": {
          "base_uri": "https://localhost:8080/"
        },
        "outputId": "8b001805-7dac-4758-b60a-514d6fdf9b63"
      },
      "source": [
        "# nao normalizando\n",
        "import xgboost as xgb\n",
        "from sklearn.model_selection import cross_val_score,cross_validate\n",
        "from sklearn.model_selection import StratifiedKFold\n",
        "from sklearn import preprocessing\n",
        "\n",
        "# Create StratifiedKFold object\n",
        "skf = StratifiedKFold(n_splits=5, shuffle=True, random_state=1)\n",
        "lst_accu_stratified = []\n",
        "\n",
        "Xarray = np.asarray(X)\n",
        "  \n",
        "XGB = xgb.XGBClassifier(tree_method = 'gpu_hist')\n",
        "\n",
        "for train_index, test_index in skf.split(X, y):\n",
        "    x_train_fold, x_test_fold = Xarray[train_index], Xarray[test_index]\n",
        "    y_train_fold, y_test_fold = y[train_index], y[test_index]\n",
        "    XGB.fit(x_train_fold, y_train_fold)\n",
        "    lst_accu_stratified.append(XGB.score(x_test_fold, y_test_fold))\n",
        "\n",
        "print('Possíveis acurácias:', lst_accu_stratified)\n",
        "print('Acurácia média:', np.mean(lst_accu_stratified))"
      ],
      "execution_count": null,
      "outputs": [
        {
          "output_type": "stream",
          "text": [
            "Possíveis acurácias: [0.6450632911392405, 0.6568776371308017, 0.6577215189873418, 0.6524894514767933, 0.6469198312236287]\n",
            "Acurácia média: 0.6518143459915612\n"
          ],
          "name": "stdout"
        }
      ]
    },
    {
      "cell_type": "markdown",
      "metadata": {
        "id": "vhU1qsPG7tXI"
      },
      "source": [
        "## 3.2 Cat Boost"
      ]
    },
    {
      "cell_type": "code",
      "metadata": {
        "colab": {
          "base_uri": "https://localhost:8080/"
        },
        "id": "8K2xjVjRDpKv",
        "outputId": "77776613-4bfc-42ad-ef16-e6b9d9253001"
      },
      "source": [
        "!pip install catboost"
      ],
      "execution_count": null,
      "outputs": [
        {
          "output_type": "stream",
          "text": [
            "Collecting catboost\n",
            "\u001b[?25l  Downloading https://files.pythonhosted.org/packages/5a/41/24e14322b9986cf72a8763e0a0a69cc256cf963cf9502c8f0044a62c1ae8/catboost-0.26-cp37-none-manylinux1_x86_64.whl (69.2MB)\n",
            "\u001b[K     |████████████████████████████████| 69.2MB 54kB/s \n",
            "\u001b[?25hRequirement already satisfied: matplotlib in /usr/local/lib/python3.7/dist-packages (from catboost) (3.2.2)\n",
            "Requirement already satisfied: pandas>=0.24.0 in /usr/local/lib/python3.7/dist-packages (from catboost) (1.1.5)\n",
            "Requirement already satisfied: scipy in /usr/local/lib/python3.7/dist-packages (from catboost) (1.4.1)\n",
            "Requirement already satisfied: plotly in /usr/local/lib/python3.7/dist-packages (from catboost) (4.4.1)\n",
            "Requirement already satisfied: graphviz in /usr/local/lib/python3.7/dist-packages (from catboost) (0.10.1)\n",
            "Requirement already satisfied: six in /usr/local/lib/python3.7/dist-packages (from catboost) (1.15.0)\n",
            "Requirement already satisfied: numpy>=1.16.0 in /usr/local/lib/python3.7/dist-packages (from catboost) (1.19.5)\n",
            "Requirement already satisfied: kiwisolver>=1.0.1 in /usr/local/lib/python3.7/dist-packages (from matplotlib->catboost) (1.3.1)\n",
            "Requirement already satisfied: python-dateutil>=2.1 in /usr/local/lib/python3.7/dist-packages (from matplotlib->catboost) (2.8.1)\n",
            "Requirement already satisfied: pyparsing!=2.0.4,!=2.1.2,!=2.1.6,>=2.0.1 in /usr/local/lib/python3.7/dist-packages (from matplotlib->catboost) (2.4.7)\n",
            "Requirement already satisfied: cycler>=0.10 in /usr/local/lib/python3.7/dist-packages (from matplotlib->catboost) (0.10.0)\n",
            "Requirement already satisfied: pytz>=2017.2 in /usr/local/lib/python3.7/dist-packages (from pandas>=0.24.0->catboost) (2018.9)\n",
            "Requirement already satisfied: retrying>=1.3.3 in /usr/local/lib/python3.7/dist-packages (from plotly->catboost) (1.3.3)\n",
            "Installing collected packages: catboost\n",
            "Successfully installed catboost-0.26\n"
          ],
          "name": "stdout"
        }
      ]
    },
    {
      "cell_type": "code",
      "metadata": {
        "id": "ODURVIlaE0Zy"
      },
      "source": [
        "#normalizando\n",
        "\n",
        "from catboost import CatBoostClassifier\n",
        "from sklearn.model_selection import StratifiedKFold\n",
        "from sklearn import preprocessing\n",
        "\n",
        "# Create StratifiedKFold object\n",
        "skf = StratifiedKFold(n_splits=5, shuffle=True, random_state=1)\n",
        "lst_accu_stratified = []\n",
        "\n",
        "scaler = preprocessing.MinMaxScaler()\n",
        "x_scaled = scaler.fit_transform(X)\n",
        "  \n",
        "CAT = CatBoostClassifier(task_type=\"GPU\")\n",
        "\n",
        "for train_index, test_index in skf.split(X, y):\n",
        "    x_train_fold, x_test_fold = x_scaled[train_index], x_scaled[test_index]\n",
        "    y_train_fold, y_test_fold = y[train_index], y[test_index]\n",
        "    CAT.fit(x_train_fold, y_train_fold)\n",
        "    lst_accu_stratified.append(CAT.score(x_test_fold, y_test_fold))\n",
        "\n",
        "print('Possíveis acurácias:', lst_accu_stratified)\n",
        "print('Acurácia média     :', np.mean(lst_accu_stratified))"
      ],
      "execution_count": null,
      "outputs": []
    },
    {
      "cell_type": "code",
      "metadata": {
        "id": "plDG-VvsR0js"
      },
      "source": [
        "# nao normalizando\n",
        "from catboost import CatBoostClassifier\n",
        "from sklearn.model_selection import StratifiedKFold\n",
        "from sklearn import preprocessing\n",
        "\n",
        "# Create StratifiedKFold object\n",
        "skf = StratifiedKFold(n_splits=5, shuffle=True, random_state=1)\n",
        "lst_accu_stratified = []\n",
        "  \n",
        "Xarray = np.asarray(X)\n",
        "  \n",
        "CAT = CatBoostClassifier(task_type=\"GPU\")\n",
        "\n",
        "for train_index, test_index in skf.split(X, y):\n",
        "    x_train_fold, x_test_fold = Xarray[train_index], Xarray[test_index]\n",
        "    y_train_fold, y_test_fold = y[train_index], y[test_index]\n",
        "    CAT.fit(x_train_fold, y_train_fold)\n",
        "    lst_accu_stratified.append(CAT.score(x_test_fold, y_test_fold))\n",
        "\n",
        "print('Possíveis acurácias:', lst_accu_stratified)\n",
        "print('Acurácia média     :', np.mean(lst_accu_stratified))"
      ],
      "execution_count": null,
      "outputs": []
    },
    {
      "cell_type": "markdown",
      "metadata": {
        "id": "tm1OEaPZEEUR"
      },
      "source": [
        "# LASSO ( outra opção de redução de dimensionalidade )"
      ]
    },
    {
      "cell_type": "code",
      "metadata": {
        "id": "9v1fFLiQZ8Pk"
      },
      "source": [
        "df = pd.read_csv('data_lasso.csv')"
      ],
      "execution_count": null,
      "outputs": []
    },
    {
      "cell_type": "code",
      "metadata": {
        "colab": {
          "base_uri": "https://localhost:8080/"
        },
        "id": "gOFcp_Yyav2G",
        "outputId": "489ec2f5-34f3-4df9-9872-07c2d66faa30"
      },
      "source": [
        "df.shape"
      ],
      "execution_count": null,
      "outputs": [
        {
          "output_type": "execute_result",
          "data": {
            "text/plain": [
              "(29625, 3612)"
            ]
          },
          "metadata": {
            "tags": []
          },
          "execution_count": 3
        }
      ]
    },
    {
      "cell_type": "markdown",
      "metadata": {
        "id": "8LGkBVXpWLMy"
      },
      "source": [
        "# LASSO"
      ]
    },
    {
      "cell_type": "code",
      "metadata": {
        "id": "oc_P57u5WOcK"
      },
      "source": [
        "import matplotlib.pyplot as plt\n",
        "import seaborn as sns\n",
        "%matplotlib inline\n",
        "\n",
        "from sklearn.model_selection import train_test_split\n",
        "\n",
        "from sklearn.linear_model import Lasso, LogisticRegression\n",
        "from sklearn.feature_selection import SelectFromModel\n",
        "from sklearn.preprocessing import StandardScaler"
      ],
      "execution_count": null,
      "outputs": []
    },
    {
      "cell_type": "code",
      "metadata": {
        "colab": {
          "base_uri": "https://localhost:8080/"
        },
        "id": "mkk0BGLeWOY8",
        "outputId": "316b1079-a257-48da-b041-1d39f9f27a27"
      },
      "source": [
        "data = df\n",
        "data.shape"
      ],
      "execution_count": null,
      "outputs": [
        {
          "output_type": "execute_result",
          "data": {
            "text/plain": [
              "(29625, 3612)"
            ]
          },
          "metadata": {
            "tags": []
          },
          "execution_count": 6
        }
      ]
    },
    {
      "cell_type": "code",
      "metadata": {
        "colab": {
          "base_uri": "https://localhost:8080/",
          "height": 273
        },
        "id": "_fuzZ2jZWOVT",
        "outputId": "9a5ed175-b678-483a-ef95-10829a3b34e2"
      },
      "source": [
        "data.head()"
      ],
      "execution_count": null,
      "outputs": [
        {
          "output_type": "execute_result",
          "data": {
            "text/html": [
              "<div>\n",
              "<style scoped>\n",
              "    .dataframe tbody tr th:only-of-type {\n",
              "        vertical-align: middle;\n",
              "    }\n",
              "\n",
              "    .dataframe tbody tr th {\n",
              "        vertical-align: top;\n",
              "    }\n",
              "\n",
              "    .dataframe thead th {\n",
              "        text-align: right;\n",
              "    }\n",
              "</style>\n",
              "<table border=\"1\" class=\"dataframe\">\n",
              "  <thead>\n",
              "    <tr style=\"text-align: right;\">\n",
              "      <th></th>\n",
              "      <th>Unnamed: 0</th>\n",
              "      <th>user_id</th>\n",
              "      <th>user_like_count</th>\n",
              "      <th>user_followers_count</th>\n",
              "      <th>user_following_count</th>\n",
              "      <th>user_listed_on_count</th>\n",
              "      <th>user_has_location</th>\n",
              "      <th>user_tweet_count</th>\n",
              "      <th>user_has_url</th>\n",
              "      <th>user_verified</th>\n",
              "      <th>user_created_at_year</th>\n",
              "      <th>user_created_at_month</th>\n",
              "      <th>user_creation_age</th>\n",
              "      <th>feature_0_x</th>\n",
              "      <th>feature_1_x</th>\n",
              "      <th>feature_2_x</th>\n",
              "      <th>feature_3_x</th>\n",
              "      <th>feature_4_x</th>\n",
              "      <th>feature_5_x</th>\n",
              "      <th>feature_6_x</th>\n",
              "      <th>feature_7_x</th>\n",
              "      <th>feature_8_x</th>\n",
              "      <th>feature_9_x</th>\n",
              "      <th>feature_10_x</th>\n",
              "      <th>feature_11_x</th>\n",
              "      <th>feature_12_x</th>\n",
              "      <th>feature_13_x</th>\n",
              "      <th>feature_14_x</th>\n",
              "      <th>feature_15_x</th>\n",
              "      <th>feature_16_x</th>\n",
              "      <th>feature_17_x</th>\n",
              "      <th>feature_18_x</th>\n",
              "      <th>feature_19_x</th>\n",
              "      <th>feature_20_x</th>\n",
              "      <th>feature_21_x</th>\n",
              "      <th>feature_22_x</th>\n",
              "      <th>feature_23_x</th>\n",
              "      <th>feature_24_x</th>\n",
              "      <th>feature_25_x</th>\n",
              "      <th>feature_26_x</th>\n",
              "      <th>...</th>\n",
              "      <th>feature_732</th>\n",
              "      <th>feature_733</th>\n",
              "      <th>feature_734</th>\n",
              "      <th>feature_735</th>\n",
              "      <th>feature_736</th>\n",
              "      <th>feature_737</th>\n",
              "      <th>feature_738</th>\n",
              "      <th>feature_739</th>\n",
              "      <th>feature_740</th>\n",
              "      <th>feature_741</th>\n",
              "      <th>feature_742</th>\n",
              "      <th>feature_743</th>\n",
              "      <th>feature_744</th>\n",
              "      <th>feature_745</th>\n",
              "      <th>feature_746</th>\n",
              "      <th>feature_747</th>\n",
              "      <th>feature_748</th>\n",
              "      <th>feature_749</th>\n",
              "      <th>feature_750</th>\n",
              "      <th>feature_751</th>\n",
              "      <th>feature_752</th>\n",
              "      <th>feature_753</th>\n",
              "      <th>feature_754</th>\n",
              "      <th>feature_755</th>\n",
              "      <th>feature_756</th>\n",
              "      <th>feature_757</th>\n",
              "      <th>feature_758</th>\n",
              "      <th>feature_759</th>\n",
              "      <th>feature_760</th>\n",
              "      <th>feature_761</th>\n",
              "      <th>feature_762</th>\n",
              "      <th>feature_763</th>\n",
              "      <th>feature_764</th>\n",
              "      <th>feature_765</th>\n",
              "      <th>feature_766</th>\n",
              "      <th>feature_767</th>\n",
              "      <th>tweet_attachment_class_A</th>\n",
              "      <th>tweet_attachment_class_B</th>\n",
              "      <th>tweet_attachment_class_C</th>\n",
              "      <th>has_media_1</th>\n",
              "    </tr>\n",
              "  </thead>\n",
              "  <tbody>\n",
              "    <tr>\n",
              "      <th>0</th>\n",
              "      <td>0</td>\n",
              "      <td>0</td>\n",
              "      <td>1164</td>\n",
              "      <td>48720</td>\n",
              "      <td>70469</td>\n",
              "      <td>5956</td>\n",
              "      <td>True</td>\n",
              "      <td>14122</td>\n",
              "      <td>True</td>\n",
              "      <td>0</td>\n",
              "      <td>2010</td>\n",
              "      <td>8</td>\n",
              "      <td>10.96</td>\n",
              "      <td>0.13</td>\n",
              "      <td>-0.14</td>\n",
              "      <td>-0.06</td>\n",
              "      <td>-0.12</td>\n",
              "      <td>-0.13</td>\n",
              "      <td>0.05</td>\n",
              "      <td>-0.42</td>\n",
              "      <td>-0.31</td>\n",
              "      <td>0.05</td>\n",
              "      <td>0.04</td>\n",
              "      <td>-0.21</td>\n",
              "      <td>0.16</td>\n",
              "      <td>-0.12</td>\n",
              "      <td>-0.17</td>\n",
              "      <td>-0.18</td>\n",
              "      <td>0.16</td>\n",
              "      <td>-0.12</td>\n",
              "      <td>-0.16</td>\n",
              "      <td>0.21</td>\n",
              "      <td>-0.35</td>\n",
              "      <td>-0.18</td>\n",
              "      <td>-0.08</td>\n",
              "      <td>-0.23</td>\n",
              "      <td>-0.23</td>\n",
              "      <td>-0.21</td>\n",
              "      <td>0.10</td>\n",
              "      <td>-0.20</td>\n",
              "      <td>...</td>\n",
              "      <td>-0.14</td>\n",
              "      <td>0.53</td>\n",
              "      <td>0.01</td>\n",
              "      <td>-0.16</td>\n",
              "      <td>0.13</td>\n",
              "      <td>-0.10</td>\n",
              "      <td>-0.11</td>\n",
              "      <td>0.25</td>\n",
              "      <td>0.22</td>\n",
              "      <td>-0.02</td>\n",
              "      <td>-0.13</td>\n",
              "      <td>0.29</td>\n",
              "      <td>0.07</td>\n",
              "      <td>-0.05</td>\n",
              "      <td>-0.12</td>\n",
              "      <td>0.23</td>\n",
              "      <td>0.00</td>\n",
              "      <td>-0.19</td>\n",
              "      <td>-0.01</td>\n",
              "      <td>-0.21</td>\n",
              "      <td>-0.07</td>\n",
              "      <td>0.07</td>\n",
              "      <td>0.25</td>\n",
              "      <td>0.34</td>\n",
              "      <td>-0.49</td>\n",
              "      <td>-0.07</td>\n",
              "      <td>0.14</td>\n",
              "      <td>-0.30</td>\n",
              "      <td>-0.17</td>\n",
              "      <td>0.08</td>\n",
              "      <td>0.22</td>\n",
              "      <td>-0.05</td>\n",
              "      <td>0.12</td>\n",
              "      <td>-0.19</td>\n",
              "      <td>0.02</td>\n",
              "      <td>0.07</td>\n",
              "      <td>1</td>\n",
              "      <td>0</td>\n",
              "      <td>0</td>\n",
              "      <td>1</td>\n",
              "    </tr>\n",
              "    <tr>\n",
              "      <th>1</th>\n",
              "      <td>1</td>\n",
              "      <td>0</td>\n",
              "      <td>1164</td>\n",
              "      <td>48720</td>\n",
              "      <td>70469</td>\n",
              "      <td>5956</td>\n",
              "      <td>True</td>\n",
              "      <td>14122</td>\n",
              "      <td>True</td>\n",
              "      <td>0</td>\n",
              "      <td>2010</td>\n",
              "      <td>8</td>\n",
              "      <td>10.96</td>\n",
              "      <td>0.13</td>\n",
              "      <td>-0.14</td>\n",
              "      <td>-0.06</td>\n",
              "      <td>-0.12</td>\n",
              "      <td>-0.13</td>\n",
              "      <td>0.05</td>\n",
              "      <td>-0.42</td>\n",
              "      <td>-0.31</td>\n",
              "      <td>0.05</td>\n",
              "      <td>0.04</td>\n",
              "      <td>-0.21</td>\n",
              "      <td>0.16</td>\n",
              "      <td>-0.12</td>\n",
              "      <td>-0.17</td>\n",
              "      <td>-0.18</td>\n",
              "      <td>0.16</td>\n",
              "      <td>-0.12</td>\n",
              "      <td>-0.16</td>\n",
              "      <td>0.21</td>\n",
              "      <td>-0.35</td>\n",
              "      <td>-0.18</td>\n",
              "      <td>-0.08</td>\n",
              "      <td>-0.23</td>\n",
              "      <td>-0.23</td>\n",
              "      <td>-0.21</td>\n",
              "      <td>0.10</td>\n",
              "      <td>-0.20</td>\n",
              "      <td>...</td>\n",
              "      <td>-0.22</td>\n",
              "      <td>0.51</td>\n",
              "      <td>-0.05</td>\n",
              "      <td>-0.16</td>\n",
              "      <td>0.19</td>\n",
              "      <td>-0.05</td>\n",
              "      <td>-0.20</td>\n",
              "      <td>0.27</td>\n",
              "      <td>0.26</td>\n",
              "      <td>-0.05</td>\n",
              "      <td>-0.19</td>\n",
              "      <td>0.31</td>\n",
              "      <td>0.01</td>\n",
              "      <td>-0.06</td>\n",
              "      <td>-0.17</td>\n",
              "      <td>0.16</td>\n",
              "      <td>-0.02</td>\n",
              "      <td>-0.18</td>\n",
              "      <td>-0.02</td>\n",
              "      <td>-0.19</td>\n",
              "      <td>-0.06</td>\n",
              "      <td>0.03</td>\n",
              "      <td>0.27</td>\n",
              "      <td>0.40</td>\n",
              "      <td>-0.52</td>\n",
              "      <td>-0.15</td>\n",
              "      <td>0.20</td>\n",
              "      <td>-0.34</td>\n",
              "      <td>-0.09</td>\n",
              "      <td>0.02</td>\n",
              "      <td>0.16</td>\n",
              "      <td>-0.03</td>\n",
              "      <td>0.17</td>\n",
              "      <td>-0.09</td>\n",
              "      <td>-0.04</td>\n",
              "      <td>0.08</td>\n",
              "      <td>1</td>\n",
              "      <td>0</td>\n",
              "      <td>0</td>\n",
              "      <td>1</td>\n",
              "    </tr>\n",
              "    <tr>\n",
              "      <th>2</th>\n",
              "      <td>2</td>\n",
              "      <td>0</td>\n",
              "      <td>1164</td>\n",
              "      <td>48720</td>\n",
              "      <td>70469</td>\n",
              "      <td>5956</td>\n",
              "      <td>True</td>\n",
              "      <td>14122</td>\n",
              "      <td>True</td>\n",
              "      <td>0</td>\n",
              "      <td>2010</td>\n",
              "      <td>8</td>\n",
              "      <td>10.96</td>\n",
              "      <td>0.13</td>\n",
              "      <td>-0.14</td>\n",
              "      <td>-0.06</td>\n",
              "      <td>-0.12</td>\n",
              "      <td>-0.13</td>\n",
              "      <td>0.05</td>\n",
              "      <td>-0.42</td>\n",
              "      <td>-0.31</td>\n",
              "      <td>0.05</td>\n",
              "      <td>0.04</td>\n",
              "      <td>-0.21</td>\n",
              "      <td>0.16</td>\n",
              "      <td>-0.12</td>\n",
              "      <td>-0.17</td>\n",
              "      <td>-0.18</td>\n",
              "      <td>0.16</td>\n",
              "      <td>-0.12</td>\n",
              "      <td>-0.16</td>\n",
              "      <td>0.21</td>\n",
              "      <td>-0.35</td>\n",
              "      <td>-0.18</td>\n",
              "      <td>-0.08</td>\n",
              "      <td>-0.23</td>\n",
              "      <td>-0.23</td>\n",
              "      <td>-0.21</td>\n",
              "      <td>0.10</td>\n",
              "      <td>-0.20</td>\n",
              "      <td>...</td>\n",
              "      <td>-0.10</td>\n",
              "      <td>0.51</td>\n",
              "      <td>0.06</td>\n",
              "      <td>-0.15</td>\n",
              "      <td>0.21</td>\n",
              "      <td>-0.10</td>\n",
              "      <td>-0.17</td>\n",
              "      <td>0.25</td>\n",
              "      <td>0.18</td>\n",
              "      <td>-0.08</td>\n",
              "      <td>-0.09</td>\n",
              "      <td>0.24</td>\n",
              "      <td>-0.01</td>\n",
              "      <td>0.08</td>\n",
              "      <td>-0.13</td>\n",
              "      <td>0.20</td>\n",
              "      <td>0.06</td>\n",
              "      <td>-0.10</td>\n",
              "      <td>0.01</td>\n",
              "      <td>-0.29</td>\n",
              "      <td>-0.04</td>\n",
              "      <td>0.00</td>\n",
              "      <td>0.19</td>\n",
              "      <td>0.27</td>\n",
              "      <td>-0.54</td>\n",
              "      <td>-0.07</td>\n",
              "      <td>0.24</td>\n",
              "      <td>-0.34</td>\n",
              "      <td>-0.11</td>\n",
              "      <td>0.04</td>\n",
              "      <td>0.20</td>\n",
              "      <td>-0.04</td>\n",
              "      <td>0.14</td>\n",
              "      <td>-0.17</td>\n",
              "      <td>-0.06</td>\n",
              "      <td>0.08</td>\n",
              "      <td>1</td>\n",
              "      <td>0</td>\n",
              "      <td>0</td>\n",
              "      <td>1</td>\n",
              "    </tr>\n",
              "    <tr>\n",
              "      <th>3</th>\n",
              "      <td>3</td>\n",
              "      <td>0</td>\n",
              "      <td>1164</td>\n",
              "      <td>48720</td>\n",
              "      <td>70469</td>\n",
              "      <td>5956</td>\n",
              "      <td>True</td>\n",
              "      <td>14122</td>\n",
              "      <td>True</td>\n",
              "      <td>0</td>\n",
              "      <td>2010</td>\n",
              "      <td>8</td>\n",
              "      <td>10.96</td>\n",
              "      <td>0.13</td>\n",
              "      <td>-0.14</td>\n",
              "      <td>-0.06</td>\n",
              "      <td>-0.12</td>\n",
              "      <td>-0.13</td>\n",
              "      <td>0.05</td>\n",
              "      <td>-0.42</td>\n",
              "      <td>-0.31</td>\n",
              "      <td>0.05</td>\n",
              "      <td>0.04</td>\n",
              "      <td>-0.21</td>\n",
              "      <td>0.16</td>\n",
              "      <td>-0.12</td>\n",
              "      <td>-0.17</td>\n",
              "      <td>-0.18</td>\n",
              "      <td>0.16</td>\n",
              "      <td>-0.12</td>\n",
              "      <td>-0.16</td>\n",
              "      <td>0.21</td>\n",
              "      <td>-0.35</td>\n",
              "      <td>-0.18</td>\n",
              "      <td>-0.08</td>\n",
              "      <td>-0.23</td>\n",
              "      <td>-0.23</td>\n",
              "      <td>-0.21</td>\n",
              "      <td>0.10</td>\n",
              "      <td>-0.20</td>\n",
              "      <td>...</td>\n",
              "      <td>-0.22</td>\n",
              "      <td>0.44</td>\n",
              "      <td>-0.09</td>\n",
              "      <td>-0.12</td>\n",
              "      <td>-0.02</td>\n",
              "      <td>-0.06</td>\n",
              "      <td>0.03</td>\n",
              "      <td>0.14</td>\n",
              "      <td>0.06</td>\n",
              "      <td>-0.11</td>\n",
              "      <td>-0.11</td>\n",
              "      <td>0.26</td>\n",
              "      <td>-0.01</td>\n",
              "      <td>-0.03</td>\n",
              "      <td>-0.14</td>\n",
              "      <td>0.04</td>\n",
              "      <td>-0.19</td>\n",
              "      <td>-0.02</td>\n",
              "      <td>-0.11</td>\n",
              "      <td>-0.20</td>\n",
              "      <td>0.01</td>\n",
              "      <td>-0.16</td>\n",
              "      <td>0.19</td>\n",
              "      <td>0.12</td>\n",
              "      <td>-0.55</td>\n",
              "      <td>-0.21</td>\n",
              "      <td>0.24</td>\n",
              "      <td>-0.44</td>\n",
              "      <td>-0.26</td>\n",
              "      <td>0.09</td>\n",
              "      <td>0.34</td>\n",
              "      <td>-0.05</td>\n",
              "      <td>0.01</td>\n",
              "      <td>-0.08</td>\n",
              "      <td>0.08</td>\n",
              "      <td>0.05</td>\n",
              "      <td>0</td>\n",
              "      <td>0</td>\n",
              "      <td>1</td>\n",
              "      <td>0</td>\n",
              "    </tr>\n",
              "    <tr>\n",
              "      <th>4</th>\n",
              "      <td>4</td>\n",
              "      <td>0</td>\n",
              "      <td>1164</td>\n",
              "      <td>48720</td>\n",
              "      <td>70469</td>\n",
              "      <td>5956</td>\n",
              "      <td>True</td>\n",
              "      <td>14122</td>\n",
              "      <td>True</td>\n",
              "      <td>0</td>\n",
              "      <td>2010</td>\n",
              "      <td>8</td>\n",
              "      <td>10.96</td>\n",
              "      <td>0.13</td>\n",
              "      <td>-0.14</td>\n",
              "      <td>-0.06</td>\n",
              "      <td>-0.12</td>\n",
              "      <td>-0.13</td>\n",
              "      <td>0.05</td>\n",
              "      <td>-0.42</td>\n",
              "      <td>-0.31</td>\n",
              "      <td>0.05</td>\n",
              "      <td>0.04</td>\n",
              "      <td>-0.21</td>\n",
              "      <td>0.16</td>\n",
              "      <td>-0.12</td>\n",
              "      <td>-0.17</td>\n",
              "      <td>-0.18</td>\n",
              "      <td>0.16</td>\n",
              "      <td>-0.12</td>\n",
              "      <td>-0.16</td>\n",
              "      <td>0.21</td>\n",
              "      <td>-0.35</td>\n",
              "      <td>-0.18</td>\n",
              "      <td>-0.08</td>\n",
              "      <td>-0.23</td>\n",
              "      <td>-0.23</td>\n",
              "      <td>-0.21</td>\n",
              "      <td>0.10</td>\n",
              "      <td>-0.20</td>\n",
              "      <td>...</td>\n",
              "      <td>-0.13</td>\n",
              "      <td>0.53</td>\n",
              "      <td>0.02</td>\n",
              "      <td>-0.21</td>\n",
              "      <td>0.18</td>\n",
              "      <td>-0.13</td>\n",
              "      <td>-0.20</td>\n",
              "      <td>0.22</td>\n",
              "      <td>0.19</td>\n",
              "      <td>-0.01</td>\n",
              "      <td>-0.15</td>\n",
              "      <td>0.33</td>\n",
              "      <td>0.04</td>\n",
              "      <td>-0.03</td>\n",
              "      <td>-0.16</td>\n",
              "      <td>0.20</td>\n",
              "      <td>-0.01</td>\n",
              "      <td>-0.12</td>\n",
              "      <td>0.05</td>\n",
              "      <td>-0.17</td>\n",
              "      <td>-0.03</td>\n",
              "      <td>0.05</td>\n",
              "      <td>0.22</td>\n",
              "      <td>0.30</td>\n",
              "      <td>-0.50</td>\n",
              "      <td>-0.07</td>\n",
              "      <td>0.13</td>\n",
              "      <td>-0.32</td>\n",
              "      <td>-0.14</td>\n",
              "      <td>-0.04</td>\n",
              "      <td>0.17</td>\n",
              "      <td>-0.04</td>\n",
              "      <td>0.15</td>\n",
              "      <td>-0.14</td>\n",
              "      <td>-0.04</td>\n",
              "      <td>0.03</td>\n",
              "      <td>1</td>\n",
              "      <td>0</td>\n",
              "      <td>0</td>\n",
              "      <td>1</td>\n",
              "    </tr>\n",
              "  </tbody>\n",
              "</table>\n",
              "<p>5 rows × 3612 columns</p>\n",
              "</div>"
            ],
            "text/plain": [
              "   Unnamed: 0  user_id  ...  tweet_attachment_class_C  has_media_1\n",
              "0           0        0  ...                         0            1\n",
              "1           1        0  ...                         0            1\n",
              "2           2        0  ...                         0            1\n",
              "3           3        0  ...                         1            0\n",
              "4           4        0  ...                         0            1\n",
              "\n",
              "[5 rows x 3612 columns]"
            ]
          },
          "metadata": {
            "tags": []
          },
          "execution_count": 7
        }
      ]
    },
    {
      "cell_type": "code",
      "metadata": {
        "id": "lTBIUQYcWORd"
      },
      "source": [
        "numerics = ['int16','int32','int64','float16','float32','float64']\n",
        "numerical_vars = list(data.select_dtypes(include=numerics).columns)\n"
      ],
      "execution_count": null,
      "outputs": []
    },
    {
      "cell_type": "code",
      "metadata": {
        "id": "5fuchMCGYrXk"
      },
      "source": [
        "data_0 = data"
      ],
      "execution_count": null,
      "outputs": []
    },
    {
      "cell_type": "code",
      "metadata": {
        "id": "a1LdapgpYymb"
      },
      "source": [
        "#data = data_0"
      ],
      "execution_count": null,
      "outputs": []
    },
    {
      "cell_type": "code",
      "metadata": {
        "colab": {
          "base_uri": "https://localhost:8080/"
        },
        "id": "zB5NKA6dWOOm",
        "outputId": "f80dc860-f529-46ba-c753-2fd26563885a"
      },
      "source": [
        "data_N = data[numerical_vars]\n",
        "data_N.shape"
      ],
      "execution_count": null,
      "outputs": [
        {
          "output_type": "execute_result",
          "data": {
            "text/plain": [
              "(29625, 3609)"
            ]
          },
          "metadata": {
            "tags": []
          },
          "execution_count": 10
        }
      ]
    },
    {
      "cell_type": "code",
      "metadata": {
        "id": "0Efk5URAY2o3"
      },
      "source": [
        "#data = data_N"
      ],
      "execution_count": null,
      "outputs": []
    },
    {
      "cell_type": "code",
      "metadata": {
        "colab": {
          "base_uri": "https://localhost:8080/",
          "height": 273
        },
        "id": "Vi7R8eh7ZtDS",
        "outputId": "7a8ea0e4-e1ba-4ff7-b059-0d39d0ab7a28"
      },
      "source": [
        "data.head()"
      ],
      "execution_count": null,
      "outputs": [
        {
          "output_type": "execute_result",
          "data": {
            "text/html": [
              "<div>\n",
              "<style scoped>\n",
              "    .dataframe tbody tr th:only-of-type {\n",
              "        vertical-align: middle;\n",
              "    }\n",
              "\n",
              "    .dataframe tbody tr th {\n",
              "        vertical-align: top;\n",
              "    }\n",
              "\n",
              "    .dataframe thead th {\n",
              "        text-align: right;\n",
              "    }\n",
              "</style>\n",
              "<table border=\"1\" class=\"dataframe\">\n",
              "  <thead>\n",
              "    <tr style=\"text-align: right;\">\n",
              "      <th></th>\n",
              "      <th>Unnamed: 0</th>\n",
              "      <th>user_id</th>\n",
              "      <th>user_like_count</th>\n",
              "      <th>user_followers_count</th>\n",
              "      <th>user_following_count</th>\n",
              "      <th>user_listed_on_count</th>\n",
              "      <th>user_has_location</th>\n",
              "      <th>user_tweet_count</th>\n",
              "      <th>user_has_url</th>\n",
              "      <th>user_verified</th>\n",
              "      <th>user_created_at_year</th>\n",
              "      <th>user_created_at_month</th>\n",
              "      <th>user_creation_age</th>\n",
              "      <th>feature_0_x</th>\n",
              "      <th>feature_1_x</th>\n",
              "      <th>feature_2_x</th>\n",
              "      <th>feature_3_x</th>\n",
              "      <th>feature_4_x</th>\n",
              "      <th>feature_5_x</th>\n",
              "      <th>feature_6_x</th>\n",
              "      <th>feature_7_x</th>\n",
              "      <th>feature_8_x</th>\n",
              "      <th>feature_9_x</th>\n",
              "      <th>feature_10_x</th>\n",
              "      <th>feature_11_x</th>\n",
              "      <th>feature_12_x</th>\n",
              "      <th>feature_13_x</th>\n",
              "      <th>feature_14_x</th>\n",
              "      <th>feature_15_x</th>\n",
              "      <th>feature_16_x</th>\n",
              "      <th>feature_17_x</th>\n",
              "      <th>feature_18_x</th>\n",
              "      <th>feature_19_x</th>\n",
              "      <th>feature_20_x</th>\n",
              "      <th>feature_21_x</th>\n",
              "      <th>feature_22_x</th>\n",
              "      <th>feature_23_x</th>\n",
              "      <th>feature_24_x</th>\n",
              "      <th>feature_25_x</th>\n",
              "      <th>feature_26_x</th>\n",
              "      <th>...</th>\n",
              "      <th>feature_732</th>\n",
              "      <th>feature_733</th>\n",
              "      <th>feature_734</th>\n",
              "      <th>feature_735</th>\n",
              "      <th>feature_736</th>\n",
              "      <th>feature_737</th>\n",
              "      <th>feature_738</th>\n",
              "      <th>feature_739</th>\n",
              "      <th>feature_740</th>\n",
              "      <th>feature_741</th>\n",
              "      <th>feature_742</th>\n",
              "      <th>feature_743</th>\n",
              "      <th>feature_744</th>\n",
              "      <th>feature_745</th>\n",
              "      <th>feature_746</th>\n",
              "      <th>feature_747</th>\n",
              "      <th>feature_748</th>\n",
              "      <th>feature_749</th>\n",
              "      <th>feature_750</th>\n",
              "      <th>feature_751</th>\n",
              "      <th>feature_752</th>\n",
              "      <th>feature_753</th>\n",
              "      <th>feature_754</th>\n",
              "      <th>feature_755</th>\n",
              "      <th>feature_756</th>\n",
              "      <th>feature_757</th>\n",
              "      <th>feature_758</th>\n",
              "      <th>feature_759</th>\n",
              "      <th>feature_760</th>\n",
              "      <th>feature_761</th>\n",
              "      <th>feature_762</th>\n",
              "      <th>feature_763</th>\n",
              "      <th>feature_764</th>\n",
              "      <th>feature_765</th>\n",
              "      <th>feature_766</th>\n",
              "      <th>feature_767</th>\n",
              "      <th>tweet_attachment_class_A</th>\n",
              "      <th>tweet_attachment_class_B</th>\n",
              "      <th>tweet_attachment_class_C</th>\n",
              "      <th>has_media_1</th>\n",
              "    </tr>\n",
              "  </thead>\n",
              "  <tbody>\n",
              "    <tr>\n",
              "      <th>0</th>\n",
              "      <td>0</td>\n",
              "      <td>0</td>\n",
              "      <td>1164</td>\n",
              "      <td>48720</td>\n",
              "      <td>70469</td>\n",
              "      <td>5956</td>\n",
              "      <td>True</td>\n",
              "      <td>14122</td>\n",
              "      <td>True</td>\n",
              "      <td>0</td>\n",
              "      <td>2010</td>\n",
              "      <td>8</td>\n",
              "      <td>10.96</td>\n",
              "      <td>0.13</td>\n",
              "      <td>-0.14</td>\n",
              "      <td>-0.06</td>\n",
              "      <td>-0.12</td>\n",
              "      <td>-0.13</td>\n",
              "      <td>0.05</td>\n",
              "      <td>-0.42</td>\n",
              "      <td>-0.31</td>\n",
              "      <td>0.05</td>\n",
              "      <td>0.04</td>\n",
              "      <td>-0.21</td>\n",
              "      <td>0.16</td>\n",
              "      <td>-0.12</td>\n",
              "      <td>-0.17</td>\n",
              "      <td>-0.18</td>\n",
              "      <td>0.16</td>\n",
              "      <td>-0.12</td>\n",
              "      <td>-0.16</td>\n",
              "      <td>0.21</td>\n",
              "      <td>-0.35</td>\n",
              "      <td>-0.18</td>\n",
              "      <td>-0.08</td>\n",
              "      <td>-0.23</td>\n",
              "      <td>-0.23</td>\n",
              "      <td>-0.21</td>\n",
              "      <td>0.10</td>\n",
              "      <td>-0.20</td>\n",
              "      <td>...</td>\n",
              "      <td>-0.14</td>\n",
              "      <td>0.53</td>\n",
              "      <td>0.01</td>\n",
              "      <td>-0.16</td>\n",
              "      <td>0.13</td>\n",
              "      <td>-0.10</td>\n",
              "      <td>-0.11</td>\n",
              "      <td>0.25</td>\n",
              "      <td>0.22</td>\n",
              "      <td>-0.02</td>\n",
              "      <td>-0.13</td>\n",
              "      <td>0.29</td>\n",
              "      <td>0.07</td>\n",
              "      <td>-0.05</td>\n",
              "      <td>-0.12</td>\n",
              "      <td>0.23</td>\n",
              "      <td>0.00</td>\n",
              "      <td>-0.19</td>\n",
              "      <td>-0.01</td>\n",
              "      <td>-0.21</td>\n",
              "      <td>-0.07</td>\n",
              "      <td>0.07</td>\n",
              "      <td>0.25</td>\n",
              "      <td>0.34</td>\n",
              "      <td>-0.49</td>\n",
              "      <td>-0.07</td>\n",
              "      <td>0.14</td>\n",
              "      <td>-0.30</td>\n",
              "      <td>-0.17</td>\n",
              "      <td>0.08</td>\n",
              "      <td>0.22</td>\n",
              "      <td>-0.05</td>\n",
              "      <td>0.12</td>\n",
              "      <td>-0.19</td>\n",
              "      <td>0.02</td>\n",
              "      <td>0.07</td>\n",
              "      <td>1</td>\n",
              "      <td>0</td>\n",
              "      <td>0</td>\n",
              "      <td>1</td>\n",
              "    </tr>\n",
              "    <tr>\n",
              "      <th>1</th>\n",
              "      <td>1</td>\n",
              "      <td>0</td>\n",
              "      <td>1164</td>\n",
              "      <td>48720</td>\n",
              "      <td>70469</td>\n",
              "      <td>5956</td>\n",
              "      <td>True</td>\n",
              "      <td>14122</td>\n",
              "      <td>True</td>\n",
              "      <td>0</td>\n",
              "      <td>2010</td>\n",
              "      <td>8</td>\n",
              "      <td>10.96</td>\n",
              "      <td>0.13</td>\n",
              "      <td>-0.14</td>\n",
              "      <td>-0.06</td>\n",
              "      <td>-0.12</td>\n",
              "      <td>-0.13</td>\n",
              "      <td>0.05</td>\n",
              "      <td>-0.42</td>\n",
              "      <td>-0.31</td>\n",
              "      <td>0.05</td>\n",
              "      <td>0.04</td>\n",
              "      <td>-0.21</td>\n",
              "      <td>0.16</td>\n",
              "      <td>-0.12</td>\n",
              "      <td>-0.17</td>\n",
              "      <td>-0.18</td>\n",
              "      <td>0.16</td>\n",
              "      <td>-0.12</td>\n",
              "      <td>-0.16</td>\n",
              "      <td>0.21</td>\n",
              "      <td>-0.35</td>\n",
              "      <td>-0.18</td>\n",
              "      <td>-0.08</td>\n",
              "      <td>-0.23</td>\n",
              "      <td>-0.23</td>\n",
              "      <td>-0.21</td>\n",
              "      <td>0.10</td>\n",
              "      <td>-0.20</td>\n",
              "      <td>...</td>\n",
              "      <td>-0.22</td>\n",
              "      <td>0.51</td>\n",
              "      <td>-0.05</td>\n",
              "      <td>-0.16</td>\n",
              "      <td>0.19</td>\n",
              "      <td>-0.05</td>\n",
              "      <td>-0.20</td>\n",
              "      <td>0.27</td>\n",
              "      <td>0.26</td>\n",
              "      <td>-0.05</td>\n",
              "      <td>-0.19</td>\n",
              "      <td>0.31</td>\n",
              "      <td>0.01</td>\n",
              "      <td>-0.06</td>\n",
              "      <td>-0.17</td>\n",
              "      <td>0.16</td>\n",
              "      <td>-0.02</td>\n",
              "      <td>-0.18</td>\n",
              "      <td>-0.02</td>\n",
              "      <td>-0.19</td>\n",
              "      <td>-0.06</td>\n",
              "      <td>0.03</td>\n",
              "      <td>0.27</td>\n",
              "      <td>0.40</td>\n",
              "      <td>-0.52</td>\n",
              "      <td>-0.15</td>\n",
              "      <td>0.20</td>\n",
              "      <td>-0.34</td>\n",
              "      <td>-0.09</td>\n",
              "      <td>0.02</td>\n",
              "      <td>0.16</td>\n",
              "      <td>-0.03</td>\n",
              "      <td>0.17</td>\n",
              "      <td>-0.09</td>\n",
              "      <td>-0.04</td>\n",
              "      <td>0.08</td>\n",
              "      <td>1</td>\n",
              "      <td>0</td>\n",
              "      <td>0</td>\n",
              "      <td>1</td>\n",
              "    </tr>\n",
              "    <tr>\n",
              "      <th>2</th>\n",
              "      <td>2</td>\n",
              "      <td>0</td>\n",
              "      <td>1164</td>\n",
              "      <td>48720</td>\n",
              "      <td>70469</td>\n",
              "      <td>5956</td>\n",
              "      <td>True</td>\n",
              "      <td>14122</td>\n",
              "      <td>True</td>\n",
              "      <td>0</td>\n",
              "      <td>2010</td>\n",
              "      <td>8</td>\n",
              "      <td>10.96</td>\n",
              "      <td>0.13</td>\n",
              "      <td>-0.14</td>\n",
              "      <td>-0.06</td>\n",
              "      <td>-0.12</td>\n",
              "      <td>-0.13</td>\n",
              "      <td>0.05</td>\n",
              "      <td>-0.42</td>\n",
              "      <td>-0.31</td>\n",
              "      <td>0.05</td>\n",
              "      <td>0.04</td>\n",
              "      <td>-0.21</td>\n",
              "      <td>0.16</td>\n",
              "      <td>-0.12</td>\n",
              "      <td>-0.17</td>\n",
              "      <td>-0.18</td>\n",
              "      <td>0.16</td>\n",
              "      <td>-0.12</td>\n",
              "      <td>-0.16</td>\n",
              "      <td>0.21</td>\n",
              "      <td>-0.35</td>\n",
              "      <td>-0.18</td>\n",
              "      <td>-0.08</td>\n",
              "      <td>-0.23</td>\n",
              "      <td>-0.23</td>\n",
              "      <td>-0.21</td>\n",
              "      <td>0.10</td>\n",
              "      <td>-0.20</td>\n",
              "      <td>...</td>\n",
              "      <td>-0.10</td>\n",
              "      <td>0.51</td>\n",
              "      <td>0.06</td>\n",
              "      <td>-0.15</td>\n",
              "      <td>0.21</td>\n",
              "      <td>-0.10</td>\n",
              "      <td>-0.17</td>\n",
              "      <td>0.25</td>\n",
              "      <td>0.18</td>\n",
              "      <td>-0.08</td>\n",
              "      <td>-0.09</td>\n",
              "      <td>0.24</td>\n",
              "      <td>-0.01</td>\n",
              "      <td>0.08</td>\n",
              "      <td>-0.13</td>\n",
              "      <td>0.20</td>\n",
              "      <td>0.06</td>\n",
              "      <td>-0.10</td>\n",
              "      <td>0.01</td>\n",
              "      <td>-0.29</td>\n",
              "      <td>-0.04</td>\n",
              "      <td>0.00</td>\n",
              "      <td>0.19</td>\n",
              "      <td>0.27</td>\n",
              "      <td>-0.54</td>\n",
              "      <td>-0.07</td>\n",
              "      <td>0.24</td>\n",
              "      <td>-0.34</td>\n",
              "      <td>-0.11</td>\n",
              "      <td>0.04</td>\n",
              "      <td>0.20</td>\n",
              "      <td>-0.04</td>\n",
              "      <td>0.14</td>\n",
              "      <td>-0.17</td>\n",
              "      <td>-0.06</td>\n",
              "      <td>0.08</td>\n",
              "      <td>1</td>\n",
              "      <td>0</td>\n",
              "      <td>0</td>\n",
              "      <td>1</td>\n",
              "    </tr>\n",
              "    <tr>\n",
              "      <th>3</th>\n",
              "      <td>3</td>\n",
              "      <td>0</td>\n",
              "      <td>1164</td>\n",
              "      <td>48720</td>\n",
              "      <td>70469</td>\n",
              "      <td>5956</td>\n",
              "      <td>True</td>\n",
              "      <td>14122</td>\n",
              "      <td>True</td>\n",
              "      <td>0</td>\n",
              "      <td>2010</td>\n",
              "      <td>8</td>\n",
              "      <td>10.96</td>\n",
              "      <td>0.13</td>\n",
              "      <td>-0.14</td>\n",
              "      <td>-0.06</td>\n",
              "      <td>-0.12</td>\n",
              "      <td>-0.13</td>\n",
              "      <td>0.05</td>\n",
              "      <td>-0.42</td>\n",
              "      <td>-0.31</td>\n",
              "      <td>0.05</td>\n",
              "      <td>0.04</td>\n",
              "      <td>-0.21</td>\n",
              "      <td>0.16</td>\n",
              "      <td>-0.12</td>\n",
              "      <td>-0.17</td>\n",
              "      <td>-0.18</td>\n",
              "      <td>0.16</td>\n",
              "      <td>-0.12</td>\n",
              "      <td>-0.16</td>\n",
              "      <td>0.21</td>\n",
              "      <td>-0.35</td>\n",
              "      <td>-0.18</td>\n",
              "      <td>-0.08</td>\n",
              "      <td>-0.23</td>\n",
              "      <td>-0.23</td>\n",
              "      <td>-0.21</td>\n",
              "      <td>0.10</td>\n",
              "      <td>-0.20</td>\n",
              "      <td>...</td>\n",
              "      <td>-0.22</td>\n",
              "      <td>0.44</td>\n",
              "      <td>-0.09</td>\n",
              "      <td>-0.12</td>\n",
              "      <td>-0.02</td>\n",
              "      <td>-0.06</td>\n",
              "      <td>0.03</td>\n",
              "      <td>0.14</td>\n",
              "      <td>0.06</td>\n",
              "      <td>-0.11</td>\n",
              "      <td>-0.11</td>\n",
              "      <td>0.26</td>\n",
              "      <td>-0.01</td>\n",
              "      <td>-0.03</td>\n",
              "      <td>-0.14</td>\n",
              "      <td>0.04</td>\n",
              "      <td>-0.19</td>\n",
              "      <td>-0.02</td>\n",
              "      <td>-0.11</td>\n",
              "      <td>-0.20</td>\n",
              "      <td>0.01</td>\n",
              "      <td>-0.16</td>\n",
              "      <td>0.19</td>\n",
              "      <td>0.12</td>\n",
              "      <td>-0.55</td>\n",
              "      <td>-0.21</td>\n",
              "      <td>0.24</td>\n",
              "      <td>-0.44</td>\n",
              "      <td>-0.26</td>\n",
              "      <td>0.09</td>\n",
              "      <td>0.34</td>\n",
              "      <td>-0.05</td>\n",
              "      <td>0.01</td>\n",
              "      <td>-0.08</td>\n",
              "      <td>0.08</td>\n",
              "      <td>0.05</td>\n",
              "      <td>0</td>\n",
              "      <td>0</td>\n",
              "      <td>1</td>\n",
              "      <td>0</td>\n",
              "    </tr>\n",
              "    <tr>\n",
              "      <th>4</th>\n",
              "      <td>4</td>\n",
              "      <td>0</td>\n",
              "      <td>1164</td>\n",
              "      <td>48720</td>\n",
              "      <td>70469</td>\n",
              "      <td>5956</td>\n",
              "      <td>True</td>\n",
              "      <td>14122</td>\n",
              "      <td>True</td>\n",
              "      <td>0</td>\n",
              "      <td>2010</td>\n",
              "      <td>8</td>\n",
              "      <td>10.96</td>\n",
              "      <td>0.13</td>\n",
              "      <td>-0.14</td>\n",
              "      <td>-0.06</td>\n",
              "      <td>-0.12</td>\n",
              "      <td>-0.13</td>\n",
              "      <td>0.05</td>\n",
              "      <td>-0.42</td>\n",
              "      <td>-0.31</td>\n",
              "      <td>0.05</td>\n",
              "      <td>0.04</td>\n",
              "      <td>-0.21</td>\n",
              "      <td>0.16</td>\n",
              "      <td>-0.12</td>\n",
              "      <td>-0.17</td>\n",
              "      <td>-0.18</td>\n",
              "      <td>0.16</td>\n",
              "      <td>-0.12</td>\n",
              "      <td>-0.16</td>\n",
              "      <td>0.21</td>\n",
              "      <td>-0.35</td>\n",
              "      <td>-0.18</td>\n",
              "      <td>-0.08</td>\n",
              "      <td>-0.23</td>\n",
              "      <td>-0.23</td>\n",
              "      <td>-0.21</td>\n",
              "      <td>0.10</td>\n",
              "      <td>-0.20</td>\n",
              "      <td>...</td>\n",
              "      <td>-0.13</td>\n",
              "      <td>0.53</td>\n",
              "      <td>0.02</td>\n",
              "      <td>-0.21</td>\n",
              "      <td>0.18</td>\n",
              "      <td>-0.13</td>\n",
              "      <td>-0.20</td>\n",
              "      <td>0.22</td>\n",
              "      <td>0.19</td>\n",
              "      <td>-0.01</td>\n",
              "      <td>-0.15</td>\n",
              "      <td>0.33</td>\n",
              "      <td>0.04</td>\n",
              "      <td>-0.03</td>\n",
              "      <td>-0.16</td>\n",
              "      <td>0.20</td>\n",
              "      <td>-0.01</td>\n",
              "      <td>-0.12</td>\n",
              "      <td>0.05</td>\n",
              "      <td>-0.17</td>\n",
              "      <td>-0.03</td>\n",
              "      <td>0.05</td>\n",
              "      <td>0.22</td>\n",
              "      <td>0.30</td>\n",
              "      <td>-0.50</td>\n",
              "      <td>-0.07</td>\n",
              "      <td>0.13</td>\n",
              "      <td>-0.32</td>\n",
              "      <td>-0.14</td>\n",
              "      <td>-0.04</td>\n",
              "      <td>0.17</td>\n",
              "      <td>-0.04</td>\n",
              "      <td>0.15</td>\n",
              "      <td>-0.14</td>\n",
              "      <td>-0.04</td>\n",
              "      <td>0.03</td>\n",
              "      <td>1</td>\n",
              "      <td>0</td>\n",
              "      <td>0</td>\n",
              "      <td>1</td>\n",
              "    </tr>\n",
              "  </tbody>\n",
              "</table>\n",
              "<p>5 rows × 3612 columns</p>\n",
              "</div>"
            ],
            "text/plain": [
              "   Unnamed: 0  user_id  ...  tweet_attachment_class_C  has_media_1\n",
              "0           0        0  ...                         0            1\n",
              "1           1        0  ...                         0            1\n",
              "2           2        0  ...                         0            1\n",
              "3           3        0  ...                         1            0\n",
              "4           4        0  ...                         0            1\n",
              "\n",
              "[5 rows x 3612 columns]"
            ]
          },
          "metadata": {
            "tags": []
          },
          "execution_count": 11
        }
      ]
    },
    {
      "cell_type": "code",
      "metadata": {
        "colab": {
          "base_uri": "https://localhost:8080/"
        },
        "id": "uZdP_G9vYUIw",
        "outputId": "5f5c9a91-48fd-4609-f09d-05a96c51d494"
      },
      "source": [
        "X_train, X_test, y_train, y_test = train_test_split(\n",
        "    data.drop(labels=['virality'], axis = 1),\n",
        "    data['virality'],\n",
        "    test_size = 0.2,\n",
        "    random_state = 1729)\n",
        "\n",
        "X_train.shape, X_test.shape"
      ],
      "execution_count": null,
      "outputs": [
        {
          "output_type": "execute_result",
          "data": {
            "text/plain": [
              "((23700, 3611), (5925, 3611))"
            ]
          },
          "metadata": {
            "tags": []
          },
          "execution_count": 12
        }
      ]
    },
    {
      "cell_type": "code",
      "metadata": {
        "colab": {
          "base_uri": "https://localhost:8080/"
        },
        "id": "ijk7WZ4bYUFk",
        "outputId": "db636346-2e65-4244-ddb0-2d17313b2e57"
      },
      "source": [
        "scaler = StandardScaler()\n",
        "scaler.fit(X_train.fillna(0))"
      ],
      "execution_count": null,
      "outputs": [
        {
          "output_type": "execute_result",
          "data": {
            "text/plain": [
              "StandardScaler(copy=True, with_mean=True, with_std=True)"
            ]
          },
          "metadata": {
            "tags": []
          },
          "execution_count": 13
        }
      ]
    },
    {
      "cell_type": "code",
      "metadata": {
        "id": "qY2LtVxnmNrj"
      },
      "source": [
        "from sklearn.multiclass import OneVsRestClassifier\n",
        "from sklearn.svm import LinearSVC\n",
        "#X, y = datasets.load_iris(return_X_y=True)\n",
        "#OneVsRestClassifier(LinearSVC(random_state = 0)).fit(X_train, y_train).predict(X)"
      ],
      "execution_count": null,
      "outputs": []
    },
    {
      "cell_type": "code",
      "metadata": {
        "id": "nBuikqOumNnw"
      },
      "source": [
        ""
      ],
      "execution_count": null,
      "outputs": []
    },
    {
      "cell_type": "code",
      "metadata": {
        "id": "iPFCgkLdmNic"
      },
      "source": [
        ""
      ],
      "execution_count": null,
      "outputs": []
    },
    {
      "cell_type": "code",
      "metadata": {
        "colab": {
          "base_uri": "https://localhost:8080/"
        },
        "id": "QzvniVqjYUBb",
        "outputId": "8e8fe0e9-bfa5-40f7-83f7-0691ae030441"
      },
      "source": [
        "%%time\n",
        "\n",
        "sel_ = SelectFromModel(OneVsRestClassifier(LogisticRegression(C=1, penalty='l1', solver='liblinear')))\n",
        "\n",
        "sel_.fit(scaler.transform(X_train.fillna(0)), y_train)"
      ],
      "execution_count": null,
      "outputs": [
        {
          "output_type": "stream",
          "text": [
            "CPU times: user 10min 11s, sys: 4.24 s, total: 10min 15s\n",
            "Wall time: 10min 12s\n"
          ],
          "name": "stdout"
        }
      ]
    },
    {
      "cell_type": "code",
      "metadata": {
        "colab": {
          "base_uri": "https://localhost:8080/"
        },
        "id": "wHfWv6rgcrOO",
        "outputId": "b6424d4d-dbe4-4fd7-e76d-5a9ca584c8ac"
      },
      "source": [
        "sel_.get_support()"
      ],
      "execution_count": null,
      "outputs": [
        {
          "output_type": "execute_result",
          "data": {
            "text/plain": [
              "array([False, False, False, ...,  True,  True,  True])"
            ]
          },
          "metadata": {
            "tags": []
          },
          "execution_count": 16
        }
      ]
    },
    {
      "cell_type": "code",
      "metadata": {
        "colab": {
          "base_uri": "https://localhost:8080/"
        },
        "id": "QE5hU-d-fsEv",
        "outputId": "eba1831c-a981-43aa-debb-16643c757005"
      },
      "source": [
        "X_train.shape"
      ],
      "execution_count": null,
      "outputs": [
        {
          "output_type": "execute_result",
          "data": {
            "text/plain": [
              "(23700, 3611)"
            ]
          },
          "metadata": {
            "tags": []
          },
          "execution_count": 17
        }
      ]
    },
    {
      "cell_type": "code",
      "metadata": {
        "colab": {
          "base_uri": "https://localhost:8080/"
        },
        "id": "gkKa4FrncrJu",
        "outputId": "f672ed18-35e4-487e-ddff-8f65c8a7b0f1"
      },
      "source": [
        "selected_feat = X_train.columns[(sel_.get_support())]\n",
        "\n",
        "print('total features: {}'.format((X_train.shape[1])))\n",
        "print('selected features: {}'.format(len(selected_feat)))\n",
        "#print('features with coefficients shrank to zero: {}'.format(\n",
        "#      np.sum(sel_.estimator_.coef_ == 0)))"
      ],
      "execution_count": null,
      "outputs": [
        {
          "output_type": "stream",
          "text": [
            "total features: 3611\n",
            "selected features: 804\n"
          ],
          "name": "stdout"
        }
      ]
    },
    {
      "cell_type": "code",
      "metadata": {
        "colab": {
          "base_uri": "https://localhost:8080/"
        },
        "id": "Otb0gAl5b5pj",
        "outputId": "e2e6fe84-2243-4e4d-c518-e64a3ae85066"
      },
      "source": [
        "print('features with coefficients shrank to zero: {}'.format(\n",
        "      np.sum(sel_.estimator_.coef_ == 0)))"
      ],
      "execution_count": null,
      "outputs": [
        {
          "output_type": "stream",
          "text": [
            "features with coefficients shrank to zero: 14644\n"
          ],
          "name": "stdout"
        }
      ]
    },
    {
      "cell_type": "code",
      "metadata": {
        "colab": {
          "base_uri": "https://localhost:8080/"
        },
        "id": "uzNqjYBMf-TD",
        "outputId": "0546e98b-b1b1-40ff-af55-9c05d93a204b"
      },
      "source": [
        "selected_feat.shape"
      ],
      "execution_count": null,
      "outputs": [
        {
          "output_type": "execute_result",
          "data": {
            "text/plain": [
              "(804,)"
            ]
          },
          "metadata": {
            "tags": []
          },
          "execution_count": 20
        }
      ]
    },
    {
      "cell_type": "code",
      "metadata": {
        "colab": {
          "base_uri": "https://localhost:8080/"
        },
        "id": "DpJOOeU2r-UD",
        "outputId": "3cc9aecd-7a7e-43f1-adb0-ec0e9cab7144"
      },
      "source": [
        "selected_feat"
      ],
      "execution_count": null,
      "outputs": [
        {
          "output_type": "execute_result",
          "data": {
            "text/plain": [
              "Index(['user_followers_count', 'user_has_location', 'user_created_at_year',\n",
              "       'feature_2_x', 'feature_49_x', 'feature_141_x', 'feature_167_x',\n",
              "       'feature_203_x', 'feature_204_x', 'feature_215_x',\n",
              "       ...\n",
              "       'feature_762', 'feature_763', 'feature_764', 'feature_765',\n",
              "       'feature_766', 'feature_767', 'tweet_attachment_class_A',\n",
              "       'tweet_attachment_class_B', 'tweet_attachment_class_C', 'has_media_1'],\n",
              "      dtype='object', length=804)"
            ]
          },
          "metadata": {
            "tags": []
          },
          "execution_count": 21
        }
      ]
    },
    {
      "cell_type": "code",
      "metadata": {
        "colab": {
          "base_uri": "https://localhost:8080/"
        },
        "id": "jmnJWje6gLHZ",
        "outputId": "03f96e5a-c96f-414e-aa91-2207a3991f09"
      },
      "source": [
        "sel_.estimator_.coef_"
      ],
      "execution_count": null,
      "outputs": [
        {
          "output_type": "execute_result",
          "data": {
            "text/plain": [
              "array([[ 0.14499798,  0.08934794,  0.02970289, ...,  0.        ,\n",
              "         0.        ,  0.        ],\n",
              "       [ 0.07175824, -0.0083515 , -0.02664402, ...,  0.        ,\n",
              "         0.        ,  0.        ],\n",
              "       [-0.17100486, -0.05467967,  0.0112008 , ...,  0.        ,\n",
              "         0.        ,  0.        ],\n",
              "       [-0.04444843, -0.12143046,  0.00552675, ...,  0.        ,\n",
              "         0.        ,  0.        ],\n",
              "       [-0.1643129 ,  0.04103335,  0.03648849, ...,  0.        ,\n",
              "         0.        ,  0.        ]])"
            ]
          },
          "metadata": {
            "tags": []
          },
          "execution_count": 32
        }
      ]
    },
    {
      "cell_type": "code",
      "metadata": {
        "colab": {
          "base_uri": "https://localhost:8080/"
        },
        "id": "pv1OGfJncrFa",
        "outputId": "9e5cd79c-6783-4bf3-9ac2-0f66225e7778"
      },
      "source": [
        "np.sum(sel_.estimator_.coef_ == 0)"
      ],
      "execution_count": null,
      "outputs": [
        {
          "output_type": "execute_result",
          "data": {
            "text/plain": [
              "14644"
            ]
          },
          "metadata": {
            "tags": []
          },
          "execution_count": 22
        }
      ]
    },
    {
      "cell_type": "code",
      "metadata": {
        "colab": {
          "base_uri": "https://localhost:8080/"
        },
        "id": "1FYIalkYtCUA",
        "outputId": "e3f50a1b-9e85-440d-b6ab-7d6124f95624"
      },
      "source": [
        "X_all_columns = X_train.columns\n",
        "X_all_columns"
      ],
      "execution_count": null,
      "outputs": [
        {
          "output_type": "execute_result",
          "data": {
            "text/plain": [
              "Index(['Unnamed: 0', 'user_id', 'user_like_count', 'user_followers_count',\n",
              "       'user_following_count', 'user_listed_on_count', 'user_has_location',\n",
              "       'user_tweet_count', 'user_has_url', 'user_verified',\n",
              "       ...\n",
              "       'feature_762', 'feature_763', 'feature_764', 'feature_765',\n",
              "       'feature_766', 'feature_767', 'tweet_attachment_class_A',\n",
              "       'tweet_attachment_class_B', 'tweet_attachment_class_C', 'has_media_1'],\n",
              "      dtype='object', length=3611)"
            ]
          },
          "metadata": {
            "tags": []
          },
          "execution_count": 23
        }
      ]
    },
    {
      "cell_type": "code",
      "metadata": {
        "colab": {
          "base_uri": "https://localhost:8080/"
        },
        "id": "PFpNhjHktDR_",
        "outputId": "204f79c4-7781-4b4d-ecd4-1c81125b8a50"
      },
      "source": [
        "selected_feat"
      ],
      "execution_count": null,
      "outputs": [
        {
          "output_type": "execute_result",
          "data": {
            "text/plain": [
              "Index(['user_followers_count', 'user_has_location', 'user_created_at_year',\n",
              "       'feature_2_x', 'feature_49_x', 'feature_141_x', 'feature_167_x',\n",
              "       'feature_203_x', 'feature_204_x', 'feature_215_x',\n",
              "       ...\n",
              "       'feature_762', 'feature_763', 'feature_764', 'feature_765',\n",
              "       'feature_766', 'feature_767', 'tweet_attachment_class_A',\n",
              "       'tweet_attachment_class_B', 'tweet_attachment_class_C', 'has_media_1'],\n",
              "      dtype='object', length=804)"
            ]
          },
          "metadata": {
            "tags": []
          },
          "execution_count": 24
        }
      ]
    },
    {
      "cell_type": "code",
      "metadata": {
        "id": "Yy71Np9ut4iT"
      },
      "source": [
        "X_lasso = X_train[selected_feat]"
      ],
      "execution_count": null,
      "outputs": []
    },
    {
      "cell_type": "code",
      "metadata": {
        "colab": {
          "base_uri": "https://localhost:8080/",
          "height": 256
        },
        "id": "4fEZ2-Q3ttEA",
        "outputId": "aad9072f-2003-43ef-e571-54cc43d27334"
      },
      "source": [
        "X_train[selected_feat].head()"
      ],
      "execution_count": null,
      "outputs": [
        {
          "output_type": "execute_result",
          "data": {
            "text/html": [
              "<div>\n",
              "<style scoped>\n",
              "    .dataframe tbody tr th:only-of-type {\n",
              "        vertical-align: middle;\n",
              "    }\n",
              "\n",
              "    .dataframe tbody tr th {\n",
              "        vertical-align: top;\n",
              "    }\n",
              "\n",
              "    .dataframe thead th {\n",
              "        text-align: right;\n",
              "    }\n",
              "</style>\n",
              "<table border=\"1\" class=\"dataframe\">\n",
              "  <thead>\n",
              "    <tr style=\"text-align: right;\">\n",
              "      <th></th>\n",
              "      <th>user_followers_count</th>\n",
              "      <th>user_has_location</th>\n",
              "      <th>user_created_at_year</th>\n",
              "      <th>feature_2_x</th>\n",
              "      <th>feature_49_x</th>\n",
              "      <th>feature_141_x</th>\n",
              "      <th>feature_167_x</th>\n",
              "      <th>feature_203_x</th>\n",
              "      <th>feature_204_x</th>\n",
              "      <th>feature_215_x</th>\n",
              "      <th>feature_227_x</th>\n",
              "      <th>feature_252_x</th>\n",
              "      <th>feature_271_x</th>\n",
              "      <th>feature_288_x</th>\n",
              "      <th>feature_302_x</th>\n",
              "      <th>feature_386_x</th>\n",
              "      <th>feature_397_x</th>\n",
              "      <th>feature_421_x</th>\n",
              "      <th>feature_511_x</th>\n",
              "      <th>feature_583_x</th>\n",
              "      <th>feature_585_x</th>\n",
              "      <th>feature_606_x</th>\n",
              "      <th>feature_679_x</th>\n",
              "      <th>feature_697_x</th>\n",
              "      <th>feature_701_x</th>\n",
              "      <th>feature_766_x</th>\n",
              "      <th>feature_8_y</th>\n",
              "      <th>feature_388_y</th>\n",
              "      <th>feature_441_y</th>\n",
              "      <th>feature_527_y</th>\n",
              "      <th>feature_867</th>\n",
              "      <th>feature_887</th>\n",
              "      <th>feature_1155</th>\n",
              "      <th>feature_1217</th>\n",
              "      <th>feature_1271</th>\n",
              "      <th>feature_1279</th>\n",
              "      <th>feature_1322</th>\n",
              "      <th>feature_1399</th>\n",
              "      <th>feature_1424</th>\n",
              "      <th>feature_1464</th>\n",
              "      <th>...</th>\n",
              "      <th>feature_731</th>\n",
              "      <th>feature_732</th>\n",
              "      <th>feature_733</th>\n",
              "      <th>feature_734</th>\n",
              "      <th>feature_736</th>\n",
              "      <th>feature_737</th>\n",
              "      <th>feature_738</th>\n",
              "      <th>feature_739</th>\n",
              "      <th>feature_740</th>\n",
              "      <th>feature_741</th>\n",
              "      <th>feature_742</th>\n",
              "      <th>feature_743</th>\n",
              "      <th>feature_744</th>\n",
              "      <th>feature_745</th>\n",
              "      <th>feature_746</th>\n",
              "      <th>feature_747</th>\n",
              "      <th>feature_748</th>\n",
              "      <th>feature_749</th>\n",
              "      <th>feature_750</th>\n",
              "      <th>feature_751</th>\n",
              "      <th>feature_752</th>\n",
              "      <th>feature_753</th>\n",
              "      <th>feature_754</th>\n",
              "      <th>feature_755</th>\n",
              "      <th>feature_756</th>\n",
              "      <th>feature_757</th>\n",
              "      <th>feature_758</th>\n",
              "      <th>feature_759</th>\n",
              "      <th>feature_760</th>\n",
              "      <th>feature_761</th>\n",
              "      <th>feature_762</th>\n",
              "      <th>feature_763</th>\n",
              "      <th>feature_764</th>\n",
              "      <th>feature_765</th>\n",
              "      <th>feature_766</th>\n",
              "      <th>feature_767</th>\n",
              "      <th>tweet_attachment_class_A</th>\n",
              "      <th>tweet_attachment_class_B</th>\n",
              "      <th>tweet_attachment_class_C</th>\n",
              "      <th>has_media_1</th>\n",
              "    </tr>\n",
              "  </thead>\n",
              "  <tbody>\n",
              "    <tr>\n",
              "      <th>9286</th>\n",
              "      <td>39177</td>\n",
              "      <td>True</td>\n",
              "      <td>2009</td>\n",
              "      <td>-0.09</td>\n",
              "      <td>-0.06</td>\n",
              "      <td>-0.01</td>\n",
              "      <td>0.12</td>\n",
              "      <td>0.24</td>\n",
              "      <td>0.07</td>\n",
              "      <td>0.15</td>\n",
              "      <td>-0.11</td>\n",
              "      <td>-0.19</td>\n",
              "      <td>0.18</td>\n",
              "      <td>-0.13</td>\n",
              "      <td>-0.03</td>\n",
              "      <td>-0.09</td>\n",
              "      <td>-0.12</td>\n",
              "      <td>0.29</td>\n",
              "      <td>0.25</td>\n",
              "      <td>-0.10</td>\n",
              "      <td>0.06</td>\n",
              "      <td>0.13</td>\n",
              "      <td>-0.14</td>\n",
              "      <td>0.22</td>\n",
              "      <td>-0.06</td>\n",
              "      <td>0.03</td>\n",
              "      <td>0.00</td>\n",
              "      <td>0.00</td>\n",
              "      <td>0.00</td>\n",
              "      <td>0.32</td>\n",
              "      <td>0.00</td>\n",
              "      <td>0.00</td>\n",
              "      <td>0.00</td>\n",
              "      <td>0.00</td>\n",
              "      <td>0.00</td>\n",
              "      <td>0.00</td>\n",
              "      <td>0.92</td>\n",
              "      <td>0.01</td>\n",
              "      <td>0.00</td>\n",
              "      <td>0.00</td>\n",
              "      <td>...</td>\n",
              "      <td>-0.25</td>\n",
              "      <td>-0.12</td>\n",
              "      <td>0.50</td>\n",
              "      <td>0.04</td>\n",
              "      <td>0.19</td>\n",
              "      <td>-0.03</td>\n",
              "      <td>-0.13</td>\n",
              "      <td>0.21</td>\n",
              "      <td>0.29</td>\n",
              "      <td>-0.04</td>\n",
              "      <td>-0.15</td>\n",
              "      <td>0.31</td>\n",
              "      <td>0.10</td>\n",
              "      <td>-0.01</td>\n",
              "      <td>-0.12</td>\n",
              "      <td>0.21</td>\n",
              "      <td>0.00</td>\n",
              "      <td>-0.23</td>\n",
              "      <td>0.02</td>\n",
              "      <td>-0.17</td>\n",
              "      <td>-0.10</td>\n",
              "      <td>0.02</td>\n",
              "      <td>0.25</td>\n",
              "      <td>0.23</td>\n",
              "      <td>-0.47</td>\n",
              "      <td>0.02</td>\n",
              "      <td>0.18</td>\n",
              "      <td>-0.30</td>\n",
              "      <td>-0.15</td>\n",
              "      <td>-0.01</td>\n",
              "      <td>0.16</td>\n",
              "      <td>0.08</td>\n",
              "      <td>0.17</td>\n",
              "      <td>-0.12</td>\n",
              "      <td>-0.02</td>\n",
              "      <td>-0.02</td>\n",
              "      <td>0</td>\n",
              "      <td>0</td>\n",
              "      <td>1</td>\n",
              "      <td>0</td>\n",
              "    </tr>\n",
              "    <tr>\n",
              "      <th>8609</th>\n",
              "      <td>19671</td>\n",
              "      <td>True</td>\n",
              "      <td>2011</td>\n",
              "      <td>-0.06</td>\n",
              "      <td>-0.10</td>\n",
              "      <td>-0.01</td>\n",
              "      <td>0.20</td>\n",
              "      <td>0.16</td>\n",
              "      <td>0.01</td>\n",
              "      <td>0.12</td>\n",
              "      <td>-0.23</td>\n",
              "      <td>-0.17</td>\n",
              "      <td>0.15</td>\n",
              "      <td>-0.11</td>\n",
              "      <td>-0.05</td>\n",
              "      <td>-0.13</td>\n",
              "      <td>-0.05</td>\n",
              "      <td>0.31</td>\n",
              "      <td>0.23</td>\n",
              "      <td>-0.14</td>\n",
              "      <td>0.15</td>\n",
              "      <td>0.15</td>\n",
              "      <td>-0.18</td>\n",
              "      <td>0.20</td>\n",
              "      <td>-0.11</td>\n",
              "      <td>-0.03</td>\n",
              "      <td>0.00</td>\n",
              "      <td>0.00</td>\n",
              "      <td>0.01</td>\n",
              "      <td>0.18</td>\n",
              "      <td>0.00</td>\n",
              "      <td>0.00</td>\n",
              "      <td>0.00</td>\n",
              "      <td>0.18</td>\n",
              "      <td>0.02</td>\n",
              "      <td>0.00</td>\n",
              "      <td>0.88</td>\n",
              "      <td>0.00</td>\n",
              "      <td>0.23</td>\n",
              "      <td>0.02</td>\n",
              "      <td>...</td>\n",
              "      <td>-0.31</td>\n",
              "      <td>-0.10</td>\n",
              "      <td>0.47</td>\n",
              "      <td>0.02</td>\n",
              "      <td>0.21</td>\n",
              "      <td>-0.04</td>\n",
              "      <td>-0.09</td>\n",
              "      <td>0.21</td>\n",
              "      <td>0.16</td>\n",
              "      <td>-0.10</td>\n",
              "      <td>-0.09</td>\n",
              "      <td>0.33</td>\n",
              "      <td>-0.04</td>\n",
              "      <td>-0.03</td>\n",
              "      <td>-0.12</td>\n",
              "      <td>0.16</td>\n",
              "      <td>0.06</td>\n",
              "      <td>-0.15</td>\n",
              "      <td>-0.05</td>\n",
              "      <td>-0.15</td>\n",
              "      <td>-0.11</td>\n",
              "      <td>-0.10</td>\n",
              "      <td>0.23</td>\n",
              "      <td>0.40</td>\n",
              "      <td>-0.45</td>\n",
              "      <td>-0.06</td>\n",
              "      <td>0.18</td>\n",
              "      <td>-0.37</td>\n",
              "      <td>-0.10</td>\n",
              "      <td>0.04</td>\n",
              "      <td>0.10</td>\n",
              "      <td>-0.00</td>\n",
              "      <td>0.12</td>\n",
              "      <td>-0.09</td>\n",
              "      <td>-0.13</td>\n",
              "      <td>0.15</td>\n",
              "      <td>1</td>\n",
              "      <td>0</td>\n",
              "      <td>0</td>\n",
              "      <td>1</td>\n",
              "    </tr>\n",
              "    <tr>\n",
              "      <th>7956</th>\n",
              "      <td>1049348</td>\n",
              "      <td>True</td>\n",
              "      <td>2012</td>\n",
              "      <td>-0.05</td>\n",
              "      <td>-0.11</td>\n",
              "      <td>0.06</td>\n",
              "      <td>0.05</td>\n",
              "      <td>0.24</td>\n",
              "      <td>-0.01</td>\n",
              "      <td>0.16</td>\n",
              "      <td>-0.13</td>\n",
              "      <td>-0.12</td>\n",
              "      <td>0.14</td>\n",
              "      <td>-0.12</td>\n",
              "      <td>-0.05</td>\n",
              "      <td>-0.14</td>\n",
              "      <td>-0.11</td>\n",
              "      <td>0.29</td>\n",
              "      <td>0.27</td>\n",
              "      <td>-0.15</td>\n",
              "      <td>0.07</td>\n",
              "      <td>0.14</td>\n",
              "      <td>-0.06</td>\n",
              "      <td>0.26</td>\n",
              "      <td>-0.07</td>\n",
              "      <td>-0.09</td>\n",
              "      <td>0.00</td>\n",
              "      <td>0.00</td>\n",
              "      <td>0.07</td>\n",
              "      <td>0.64</td>\n",
              "      <td>0.00</td>\n",
              "      <td>0.00</td>\n",
              "      <td>0.00</td>\n",
              "      <td>0.00</td>\n",
              "      <td>0.00</td>\n",
              "      <td>0.00</td>\n",
              "      <td>2.19</td>\n",
              "      <td>0.01</td>\n",
              "      <td>0.00</td>\n",
              "      <td>0.00</td>\n",
              "      <td>...</td>\n",
              "      <td>-0.21</td>\n",
              "      <td>-0.17</td>\n",
              "      <td>0.56</td>\n",
              "      <td>-0.04</td>\n",
              "      <td>0.12</td>\n",
              "      <td>-0.05</td>\n",
              "      <td>-0.09</td>\n",
              "      <td>0.21</td>\n",
              "      <td>0.28</td>\n",
              "      <td>-0.02</td>\n",
              "      <td>-0.26</td>\n",
              "      <td>0.27</td>\n",
              "      <td>0.08</td>\n",
              "      <td>-0.07</td>\n",
              "      <td>-0.14</td>\n",
              "      <td>0.21</td>\n",
              "      <td>0.04</td>\n",
              "      <td>-0.22</td>\n",
              "      <td>0.05</td>\n",
              "      <td>-0.25</td>\n",
              "      <td>-0.06</td>\n",
              "      <td>0.10</td>\n",
              "      <td>0.14</td>\n",
              "      <td>0.31</td>\n",
              "      <td>-0.50</td>\n",
              "      <td>-0.22</td>\n",
              "      <td>0.25</td>\n",
              "      <td>-0.34</td>\n",
              "      <td>-0.17</td>\n",
              "      <td>-0.10</td>\n",
              "      <td>0.22</td>\n",
              "      <td>0.01</td>\n",
              "      <td>0.20</td>\n",
              "      <td>-0.15</td>\n",
              "      <td>-0.03</td>\n",
              "      <td>0.16</td>\n",
              "      <td>0</td>\n",
              "      <td>0</td>\n",
              "      <td>1</td>\n",
              "      <td>0</td>\n",
              "    </tr>\n",
              "    <tr>\n",
              "      <th>12730</th>\n",
              "      <td>32895</td>\n",
              "      <td>True</td>\n",
              "      <td>2011</td>\n",
              "      <td>-0.01</td>\n",
              "      <td>-0.03</td>\n",
              "      <td>0.00</td>\n",
              "      <td>0.13</td>\n",
              "      <td>0.20</td>\n",
              "      <td>0.02</td>\n",
              "      <td>0.18</td>\n",
              "      <td>-0.18</td>\n",
              "      <td>-0.16</td>\n",
              "      <td>0.22</td>\n",
              "      <td>-0.13</td>\n",
              "      <td>-0.05</td>\n",
              "      <td>-0.07</td>\n",
              "      <td>-0.11</td>\n",
              "      <td>0.30</td>\n",
              "      <td>0.27</td>\n",
              "      <td>-0.07</td>\n",
              "      <td>0.13</td>\n",
              "      <td>0.19</td>\n",
              "      <td>-0.06</td>\n",
              "      <td>0.17</td>\n",
              "      <td>-0.09</td>\n",
              "      <td>0.02</td>\n",
              "      <td>0.00</td>\n",
              "      <td>0.00</td>\n",
              "      <td>0.42</td>\n",
              "      <td>0.00</td>\n",
              "      <td>0.00</td>\n",
              "      <td>0.00</td>\n",
              "      <td>0.00</td>\n",
              "      <td>0.00</td>\n",
              "      <td>0.00</td>\n",
              "      <td>0.07</td>\n",
              "      <td>0.65</td>\n",
              "      <td>0.02</td>\n",
              "      <td>0.00</td>\n",
              "      <td>0.02</td>\n",
              "      <td>...</td>\n",
              "      <td>-0.28</td>\n",
              "      <td>-0.18</td>\n",
              "      <td>0.52</td>\n",
              "      <td>0.01</td>\n",
              "      <td>0.12</td>\n",
              "      <td>-0.06</td>\n",
              "      <td>-0.11</td>\n",
              "      <td>0.16</td>\n",
              "      <td>0.22</td>\n",
              "      <td>-0.07</td>\n",
              "      <td>-0.14</td>\n",
              "      <td>0.36</td>\n",
              "      <td>0.03</td>\n",
              "      <td>0.01</td>\n",
              "      <td>-0.14</td>\n",
              "      <td>0.25</td>\n",
              "      <td>0.05</td>\n",
              "      <td>-0.14</td>\n",
              "      <td>0.05</td>\n",
              "      <td>-0.21</td>\n",
              "      <td>-0.07</td>\n",
              "      <td>0.03</td>\n",
              "      <td>0.23</td>\n",
              "      <td>0.31</td>\n",
              "      <td>-0.49</td>\n",
              "      <td>-0.20</td>\n",
              "      <td>0.08</td>\n",
              "      <td>-0.36</td>\n",
              "      <td>-0.15</td>\n",
              "      <td>-0.05</td>\n",
              "      <td>0.22</td>\n",
              "      <td>-0.05</td>\n",
              "      <td>0.11</td>\n",
              "      <td>-0.19</td>\n",
              "      <td>-0.03</td>\n",
              "      <td>0.07</td>\n",
              "      <td>1</td>\n",
              "      <td>0</td>\n",
              "      <td>0</td>\n",
              "      <td>1</td>\n",
              "    </tr>\n",
              "    <tr>\n",
              "      <th>10695</th>\n",
              "      <td>16672</td>\n",
              "      <td>True</td>\n",
              "      <td>2010</td>\n",
              "      <td>0.02</td>\n",
              "      <td>-0.01</td>\n",
              "      <td>-0.01</td>\n",
              "      <td>0.13</td>\n",
              "      <td>0.29</td>\n",
              "      <td>0.03</td>\n",
              "      <td>0.15</td>\n",
              "      <td>-0.14</td>\n",
              "      <td>-0.23</td>\n",
              "      <td>0.22</td>\n",
              "      <td>-0.07</td>\n",
              "      <td>-0.02</td>\n",
              "      <td>-0.06</td>\n",
              "      <td>-0.12</td>\n",
              "      <td>0.26</td>\n",
              "      <td>0.19</td>\n",
              "      <td>-0.04</td>\n",
              "      <td>0.09</td>\n",
              "      <td>0.17</td>\n",
              "      <td>-0.11</td>\n",
              "      <td>0.18</td>\n",
              "      <td>-0.02</td>\n",
              "      <td>0.05</td>\n",
              "      <td>0.00</td>\n",
              "      <td>0.00</td>\n",
              "      <td>0.00</td>\n",
              "      <td>0.07</td>\n",
              "      <td>0.00</td>\n",
              "      <td>0.01</td>\n",
              "      <td>0.00</td>\n",
              "      <td>0.09</td>\n",
              "      <td>0.00</td>\n",
              "      <td>0.00</td>\n",
              "      <td>1.34</td>\n",
              "      <td>0.08</td>\n",
              "      <td>0.27</td>\n",
              "      <td>0.00</td>\n",
              "      <td>...</td>\n",
              "      <td>-0.24</td>\n",
              "      <td>-0.09</td>\n",
              "      <td>0.50</td>\n",
              "      <td>0.06</td>\n",
              "      <td>0.16</td>\n",
              "      <td>-0.07</td>\n",
              "      <td>-0.16</td>\n",
              "      <td>0.18</td>\n",
              "      <td>0.23</td>\n",
              "      <td>-0.01</td>\n",
              "      <td>-0.11</td>\n",
              "      <td>0.30</td>\n",
              "      <td>0.04</td>\n",
              "      <td>0.02</td>\n",
              "      <td>-0.15</td>\n",
              "      <td>0.18</td>\n",
              "      <td>0.04</td>\n",
              "      <td>-0.13</td>\n",
              "      <td>0.04</td>\n",
              "      <td>-0.23</td>\n",
              "      <td>-0.07</td>\n",
              "      <td>0.00</td>\n",
              "      <td>0.27</td>\n",
              "      <td>0.27</td>\n",
              "      <td>-0.47</td>\n",
              "      <td>-0.07</td>\n",
              "      <td>0.14</td>\n",
              "      <td>-0.34</td>\n",
              "      <td>-0.17</td>\n",
              "      <td>0.02</td>\n",
              "      <td>0.22</td>\n",
              "      <td>0.01</td>\n",
              "      <td>0.11</td>\n",
              "      <td>-0.16</td>\n",
              "      <td>0.05</td>\n",
              "      <td>0.04</td>\n",
              "      <td>0</td>\n",
              "      <td>0</td>\n",
              "      <td>1</td>\n",
              "      <td>0</td>\n",
              "    </tr>\n",
              "  </tbody>\n",
              "</table>\n",
              "<p>5 rows × 804 columns</p>\n",
              "</div>"
            ],
            "text/plain": [
              "       user_followers_count  ...  has_media_1\n",
              "9286                  39177  ...            0\n",
              "8609                  19671  ...            1\n",
              "7956                1049348  ...            0\n",
              "12730                 32895  ...            1\n",
              "10695                 16672  ...            0\n",
              "\n",
              "[5 rows x 804 columns]"
            ]
          },
          "metadata": {
            "tags": []
          },
          "execution_count": 26
        }
      ]
    },
    {
      "cell_type": "code",
      "metadata": {
        "colab": {
          "base_uri": "https://localhost:8080/"
        },
        "id": "r55vybcFc7Gp",
        "outputId": "52844bf0-5a6a-48e5-8724-1e943f62a458"
      },
      "source": [
        "X_lasso.shape"
      ],
      "execution_count": null,
      "outputs": [
        {
          "output_type": "execute_result",
          "data": {
            "text/plain": [
              "(23700, 804)"
            ]
          },
          "metadata": {
            "tags": []
          },
          "execution_count": 27
        }
      ]
    },
    {
      "cell_type": "code",
      "metadata": {
        "colab": {
          "base_uri": "https://localhost:8080/",
          "height": 256
        },
        "id": "5nq2PbjLfO07",
        "outputId": "64e6d402-5603-4a91-a6d4-041262663e4a"
      },
      "source": [
        "X_lasso.head()"
      ],
      "execution_count": null,
      "outputs": [
        {
          "output_type": "execute_result",
          "data": {
            "text/html": [
              "<div>\n",
              "<style scoped>\n",
              "    .dataframe tbody tr th:only-of-type {\n",
              "        vertical-align: middle;\n",
              "    }\n",
              "\n",
              "    .dataframe tbody tr th {\n",
              "        vertical-align: top;\n",
              "    }\n",
              "\n",
              "    .dataframe thead th {\n",
              "        text-align: right;\n",
              "    }\n",
              "</style>\n",
              "<table border=\"1\" class=\"dataframe\">\n",
              "  <thead>\n",
              "    <tr style=\"text-align: right;\">\n",
              "      <th></th>\n",
              "      <th>user_followers_count</th>\n",
              "      <th>user_has_location</th>\n",
              "      <th>user_created_at_year</th>\n",
              "      <th>feature_2_x</th>\n",
              "      <th>feature_49_x</th>\n",
              "      <th>feature_141_x</th>\n",
              "      <th>feature_167_x</th>\n",
              "      <th>feature_203_x</th>\n",
              "      <th>feature_204_x</th>\n",
              "      <th>feature_215_x</th>\n",
              "      <th>feature_227_x</th>\n",
              "      <th>feature_252_x</th>\n",
              "      <th>feature_271_x</th>\n",
              "      <th>feature_288_x</th>\n",
              "      <th>feature_302_x</th>\n",
              "      <th>feature_386_x</th>\n",
              "      <th>feature_397_x</th>\n",
              "      <th>feature_421_x</th>\n",
              "      <th>feature_511_x</th>\n",
              "      <th>feature_583_x</th>\n",
              "      <th>feature_585_x</th>\n",
              "      <th>feature_606_x</th>\n",
              "      <th>feature_679_x</th>\n",
              "      <th>feature_697_x</th>\n",
              "      <th>feature_701_x</th>\n",
              "      <th>feature_766_x</th>\n",
              "      <th>feature_8_y</th>\n",
              "      <th>feature_388_y</th>\n",
              "      <th>feature_441_y</th>\n",
              "      <th>feature_527_y</th>\n",
              "      <th>feature_867</th>\n",
              "      <th>feature_887</th>\n",
              "      <th>feature_1155</th>\n",
              "      <th>feature_1217</th>\n",
              "      <th>feature_1271</th>\n",
              "      <th>feature_1279</th>\n",
              "      <th>feature_1322</th>\n",
              "      <th>feature_1399</th>\n",
              "      <th>feature_1424</th>\n",
              "      <th>feature_1464</th>\n",
              "      <th>...</th>\n",
              "      <th>feature_731</th>\n",
              "      <th>feature_732</th>\n",
              "      <th>feature_733</th>\n",
              "      <th>feature_734</th>\n",
              "      <th>feature_736</th>\n",
              "      <th>feature_737</th>\n",
              "      <th>feature_738</th>\n",
              "      <th>feature_739</th>\n",
              "      <th>feature_740</th>\n",
              "      <th>feature_741</th>\n",
              "      <th>feature_742</th>\n",
              "      <th>feature_743</th>\n",
              "      <th>feature_744</th>\n",
              "      <th>feature_745</th>\n",
              "      <th>feature_746</th>\n",
              "      <th>feature_747</th>\n",
              "      <th>feature_748</th>\n",
              "      <th>feature_749</th>\n",
              "      <th>feature_750</th>\n",
              "      <th>feature_751</th>\n",
              "      <th>feature_752</th>\n",
              "      <th>feature_753</th>\n",
              "      <th>feature_754</th>\n",
              "      <th>feature_755</th>\n",
              "      <th>feature_756</th>\n",
              "      <th>feature_757</th>\n",
              "      <th>feature_758</th>\n",
              "      <th>feature_759</th>\n",
              "      <th>feature_760</th>\n",
              "      <th>feature_761</th>\n",
              "      <th>feature_762</th>\n",
              "      <th>feature_763</th>\n",
              "      <th>feature_764</th>\n",
              "      <th>feature_765</th>\n",
              "      <th>feature_766</th>\n",
              "      <th>feature_767</th>\n",
              "      <th>tweet_attachment_class_A</th>\n",
              "      <th>tweet_attachment_class_B</th>\n",
              "      <th>tweet_attachment_class_C</th>\n",
              "      <th>has_media_1</th>\n",
              "    </tr>\n",
              "  </thead>\n",
              "  <tbody>\n",
              "    <tr>\n",
              "      <th>9286</th>\n",
              "      <td>39177</td>\n",
              "      <td>True</td>\n",
              "      <td>2009</td>\n",
              "      <td>-0.09</td>\n",
              "      <td>-0.06</td>\n",
              "      <td>-0.01</td>\n",
              "      <td>0.12</td>\n",
              "      <td>0.24</td>\n",
              "      <td>0.07</td>\n",
              "      <td>0.15</td>\n",
              "      <td>-0.11</td>\n",
              "      <td>-0.19</td>\n",
              "      <td>0.18</td>\n",
              "      <td>-0.13</td>\n",
              "      <td>-0.03</td>\n",
              "      <td>-0.09</td>\n",
              "      <td>-0.12</td>\n",
              "      <td>0.29</td>\n",
              "      <td>0.25</td>\n",
              "      <td>-0.10</td>\n",
              "      <td>0.06</td>\n",
              "      <td>0.13</td>\n",
              "      <td>-0.14</td>\n",
              "      <td>0.22</td>\n",
              "      <td>-0.06</td>\n",
              "      <td>0.03</td>\n",
              "      <td>0.00</td>\n",
              "      <td>0.00</td>\n",
              "      <td>0.00</td>\n",
              "      <td>0.32</td>\n",
              "      <td>0.00</td>\n",
              "      <td>0.00</td>\n",
              "      <td>0.00</td>\n",
              "      <td>0.00</td>\n",
              "      <td>0.00</td>\n",
              "      <td>0.00</td>\n",
              "      <td>0.92</td>\n",
              "      <td>0.01</td>\n",
              "      <td>0.00</td>\n",
              "      <td>0.00</td>\n",
              "      <td>...</td>\n",
              "      <td>-0.25</td>\n",
              "      <td>-0.12</td>\n",
              "      <td>0.50</td>\n",
              "      <td>0.04</td>\n",
              "      <td>0.19</td>\n",
              "      <td>-0.03</td>\n",
              "      <td>-0.13</td>\n",
              "      <td>0.21</td>\n",
              "      <td>0.29</td>\n",
              "      <td>-0.04</td>\n",
              "      <td>-0.15</td>\n",
              "      <td>0.31</td>\n",
              "      <td>0.10</td>\n",
              "      <td>-0.01</td>\n",
              "      <td>-0.12</td>\n",
              "      <td>0.21</td>\n",
              "      <td>0.00</td>\n",
              "      <td>-0.23</td>\n",
              "      <td>0.02</td>\n",
              "      <td>-0.17</td>\n",
              "      <td>-0.10</td>\n",
              "      <td>0.02</td>\n",
              "      <td>0.25</td>\n",
              "      <td>0.23</td>\n",
              "      <td>-0.47</td>\n",
              "      <td>0.02</td>\n",
              "      <td>0.18</td>\n",
              "      <td>-0.30</td>\n",
              "      <td>-0.15</td>\n",
              "      <td>-0.01</td>\n",
              "      <td>0.16</td>\n",
              "      <td>0.08</td>\n",
              "      <td>0.17</td>\n",
              "      <td>-0.12</td>\n",
              "      <td>-0.02</td>\n",
              "      <td>-0.02</td>\n",
              "      <td>0</td>\n",
              "      <td>0</td>\n",
              "      <td>1</td>\n",
              "      <td>0</td>\n",
              "    </tr>\n",
              "    <tr>\n",
              "      <th>8609</th>\n",
              "      <td>19671</td>\n",
              "      <td>True</td>\n",
              "      <td>2011</td>\n",
              "      <td>-0.06</td>\n",
              "      <td>-0.10</td>\n",
              "      <td>-0.01</td>\n",
              "      <td>0.20</td>\n",
              "      <td>0.16</td>\n",
              "      <td>0.01</td>\n",
              "      <td>0.12</td>\n",
              "      <td>-0.23</td>\n",
              "      <td>-0.17</td>\n",
              "      <td>0.15</td>\n",
              "      <td>-0.11</td>\n",
              "      <td>-0.05</td>\n",
              "      <td>-0.13</td>\n",
              "      <td>-0.05</td>\n",
              "      <td>0.31</td>\n",
              "      <td>0.23</td>\n",
              "      <td>-0.14</td>\n",
              "      <td>0.15</td>\n",
              "      <td>0.15</td>\n",
              "      <td>-0.18</td>\n",
              "      <td>0.20</td>\n",
              "      <td>-0.11</td>\n",
              "      <td>-0.03</td>\n",
              "      <td>0.00</td>\n",
              "      <td>0.00</td>\n",
              "      <td>0.01</td>\n",
              "      <td>0.18</td>\n",
              "      <td>0.00</td>\n",
              "      <td>0.00</td>\n",
              "      <td>0.00</td>\n",
              "      <td>0.18</td>\n",
              "      <td>0.02</td>\n",
              "      <td>0.00</td>\n",
              "      <td>0.88</td>\n",
              "      <td>0.00</td>\n",
              "      <td>0.23</td>\n",
              "      <td>0.02</td>\n",
              "      <td>...</td>\n",
              "      <td>-0.31</td>\n",
              "      <td>-0.10</td>\n",
              "      <td>0.47</td>\n",
              "      <td>0.02</td>\n",
              "      <td>0.21</td>\n",
              "      <td>-0.04</td>\n",
              "      <td>-0.09</td>\n",
              "      <td>0.21</td>\n",
              "      <td>0.16</td>\n",
              "      <td>-0.10</td>\n",
              "      <td>-0.09</td>\n",
              "      <td>0.33</td>\n",
              "      <td>-0.04</td>\n",
              "      <td>-0.03</td>\n",
              "      <td>-0.12</td>\n",
              "      <td>0.16</td>\n",
              "      <td>0.06</td>\n",
              "      <td>-0.15</td>\n",
              "      <td>-0.05</td>\n",
              "      <td>-0.15</td>\n",
              "      <td>-0.11</td>\n",
              "      <td>-0.10</td>\n",
              "      <td>0.23</td>\n",
              "      <td>0.40</td>\n",
              "      <td>-0.45</td>\n",
              "      <td>-0.06</td>\n",
              "      <td>0.18</td>\n",
              "      <td>-0.37</td>\n",
              "      <td>-0.10</td>\n",
              "      <td>0.04</td>\n",
              "      <td>0.10</td>\n",
              "      <td>-0.00</td>\n",
              "      <td>0.12</td>\n",
              "      <td>-0.09</td>\n",
              "      <td>-0.13</td>\n",
              "      <td>0.15</td>\n",
              "      <td>1</td>\n",
              "      <td>0</td>\n",
              "      <td>0</td>\n",
              "      <td>1</td>\n",
              "    </tr>\n",
              "    <tr>\n",
              "      <th>7956</th>\n",
              "      <td>1049348</td>\n",
              "      <td>True</td>\n",
              "      <td>2012</td>\n",
              "      <td>-0.05</td>\n",
              "      <td>-0.11</td>\n",
              "      <td>0.06</td>\n",
              "      <td>0.05</td>\n",
              "      <td>0.24</td>\n",
              "      <td>-0.01</td>\n",
              "      <td>0.16</td>\n",
              "      <td>-0.13</td>\n",
              "      <td>-0.12</td>\n",
              "      <td>0.14</td>\n",
              "      <td>-0.12</td>\n",
              "      <td>-0.05</td>\n",
              "      <td>-0.14</td>\n",
              "      <td>-0.11</td>\n",
              "      <td>0.29</td>\n",
              "      <td>0.27</td>\n",
              "      <td>-0.15</td>\n",
              "      <td>0.07</td>\n",
              "      <td>0.14</td>\n",
              "      <td>-0.06</td>\n",
              "      <td>0.26</td>\n",
              "      <td>-0.07</td>\n",
              "      <td>-0.09</td>\n",
              "      <td>0.00</td>\n",
              "      <td>0.00</td>\n",
              "      <td>0.07</td>\n",
              "      <td>0.64</td>\n",
              "      <td>0.00</td>\n",
              "      <td>0.00</td>\n",
              "      <td>0.00</td>\n",
              "      <td>0.00</td>\n",
              "      <td>0.00</td>\n",
              "      <td>0.00</td>\n",
              "      <td>2.19</td>\n",
              "      <td>0.01</td>\n",
              "      <td>0.00</td>\n",
              "      <td>0.00</td>\n",
              "      <td>...</td>\n",
              "      <td>-0.21</td>\n",
              "      <td>-0.17</td>\n",
              "      <td>0.56</td>\n",
              "      <td>-0.04</td>\n",
              "      <td>0.12</td>\n",
              "      <td>-0.05</td>\n",
              "      <td>-0.09</td>\n",
              "      <td>0.21</td>\n",
              "      <td>0.28</td>\n",
              "      <td>-0.02</td>\n",
              "      <td>-0.26</td>\n",
              "      <td>0.27</td>\n",
              "      <td>0.08</td>\n",
              "      <td>-0.07</td>\n",
              "      <td>-0.14</td>\n",
              "      <td>0.21</td>\n",
              "      <td>0.04</td>\n",
              "      <td>-0.22</td>\n",
              "      <td>0.05</td>\n",
              "      <td>-0.25</td>\n",
              "      <td>-0.06</td>\n",
              "      <td>0.10</td>\n",
              "      <td>0.14</td>\n",
              "      <td>0.31</td>\n",
              "      <td>-0.50</td>\n",
              "      <td>-0.22</td>\n",
              "      <td>0.25</td>\n",
              "      <td>-0.34</td>\n",
              "      <td>-0.17</td>\n",
              "      <td>-0.10</td>\n",
              "      <td>0.22</td>\n",
              "      <td>0.01</td>\n",
              "      <td>0.20</td>\n",
              "      <td>-0.15</td>\n",
              "      <td>-0.03</td>\n",
              "      <td>0.16</td>\n",
              "      <td>0</td>\n",
              "      <td>0</td>\n",
              "      <td>1</td>\n",
              "      <td>0</td>\n",
              "    </tr>\n",
              "    <tr>\n",
              "      <th>12730</th>\n",
              "      <td>32895</td>\n",
              "      <td>True</td>\n",
              "      <td>2011</td>\n",
              "      <td>-0.01</td>\n",
              "      <td>-0.03</td>\n",
              "      <td>0.00</td>\n",
              "      <td>0.13</td>\n",
              "      <td>0.20</td>\n",
              "      <td>0.02</td>\n",
              "      <td>0.18</td>\n",
              "      <td>-0.18</td>\n",
              "      <td>-0.16</td>\n",
              "      <td>0.22</td>\n",
              "      <td>-0.13</td>\n",
              "      <td>-0.05</td>\n",
              "      <td>-0.07</td>\n",
              "      <td>-0.11</td>\n",
              "      <td>0.30</td>\n",
              "      <td>0.27</td>\n",
              "      <td>-0.07</td>\n",
              "      <td>0.13</td>\n",
              "      <td>0.19</td>\n",
              "      <td>-0.06</td>\n",
              "      <td>0.17</td>\n",
              "      <td>-0.09</td>\n",
              "      <td>0.02</td>\n",
              "      <td>0.00</td>\n",
              "      <td>0.00</td>\n",
              "      <td>0.42</td>\n",
              "      <td>0.00</td>\n",
              "      <td>0.00</td>\n",
              "      <td>0.00</td>\n",
              "      <td>0.00</td>\n",
              "      <td>0.00</td>\n",
              "      <td>0.00</td>\n",
              "      <td>0.07</td>\n",
              "      <td>0.65</td>\n",
              "      <td>0.02</td>\n",
              "      <td>0.00</td>\n",
              "      <td>0.02</td>\n",
              "      <td>...</td>\n",
              "      <td>-0.28</td>\n",
              "      <td>-0.18</td>\n",
              "      <td>0.52</td>\n",
              "      <td>0.01</td>\n",
              "      <td>0.12</td>\n",
              "      <td>-0.06</td>\n",
              "      <td>-0.11</td>\n",
              "      <td>0.16</td>\n",
              "      <td>0.22</td>\n",
              "      <td>-0.07</td>\n",
              "      <td>-0.14</td>\n",
              "      <td>0.36</td>\n",
              "      <td>0.03</td>\n",
              "      <td>0.01</td>\n",
              "      <td>-0.14</td>\n",
              "      <td>0.25</td>\n",
              "      <td>0.05</td>\n",
              "      <td>-0.14</td>\n",
              "      <td>0.05</td>\n",
              "      <td>-0.21</td>\n",
              "      <td>-0.07</td>\n",
              "      <td>0.03</td>\n",
              "      <td>0.23</td>\n",
              "      <td>0.31</td>\n",
              "      <td>-0.49</td>\n",
              "      <td>-0.20</td>\n",
              "      <td>0.08</td>\n",
              "      <td>-0.36</td>\n",
              "      <td>-0.15</td>\n",
              "      <td>-0.05</td>\n",
              "      <td>0.22</td>\n",
              "      <td>-0.05</td>\n",
              "      <td>0.11</td>\n",
              "      <td>-0.19</td>\n",
              "      <td>-0.03</td>\n",
              "      <td>0.07</td>\n",
              "      <td>1</td>\n",
              "      <td>0</td>\n",
              "      <td>0</td>\n",
              "      <td>1</td>\n",
              "    </tr>\n",
              "    <tr>\n",
              "      <th>10695</th>\n",
              "      <td>16672</td>\n",
              "      <td>True</td>\n",
              "      <td>2010</td>\n",
              "      <td>0.02</td>\n",
              "      <td>-0.01</td>\n",
              "      <td>-0.01</td>\n",
              "      <td>0.13</td>\n",
              "      <td>0.29</td>\n",
              "      <td>0.03</td>\n",
              "      <td>0.15</td>\n",
              "      <td>-0.14</td>\n",
              "      <td>-0.23</td>\n",
              "      <td>0.22</td>\n",
              "      <td>-0.07</td>\n",
              "      <td>-0.02</td>\n",
              "      <td>-0.06</td>\n",
              "      <td>-0.12</td>\n",
              "      <td>0.26</td>\n",
              "      <td>0.19</td>\n",
              "      <td>-0.04</td>\n",
              "      <td>0.09</td>\n",
              "      <td>0.17</td>\n",
              "      <td>-0.11</td>\n",
              "      <td>0.18</td>\n",
              "      <td>-0.02</td>\n",
              "      <td>0.05</td>\n",
              "      <td>0.00</td>\n",
              "      <td>0.00</td>\n",
              "      <td>0.00</td>\n",
              "      <td>0.07</td>\n",
              "      <td>0.00</td>\n",
              "      <td>0.01</td>\n",
              "      <td>0.00</td>\n",
              "      <td>0.09</td>\n",
              "      <td>0.00</td>\n",
              "      <td>0.00</td>\n",
              "      <td>1.34</td>\n",
              "      <td>0.08</td>\n",
              "      <td>0.27</td>\n",
              "      <td>0.00</td>\n",
              "      <td>...</td>\n",
              "      <td>-0.24</td>\n",
              "      <td>-0.09</td>\n",
              "      <td>0.50</td>\n",
              "      <td>0.06</td>\n",
              "      <td>0.16</td>\n",
              "      <td>-0.07</td>\n",
              "      <td>-0.16</td>\n",
              "      <td>0.18</td>\n",
              "      <td>0.23</td>\n",
              "      <td>-0.01</td>\n",
              "      <td>-0.11</td>\n",
              "      <td>0.30</td>\n",
              "      <td>0.04</td>\n",
              "      <td>0.02</td>\n",
              "      <td>-0.15</td>\n",
              "      <td>0.18</td>\n",
              "      <td>0.04</td>\n",
              "      <td>-0.13</td>\n",
              "      <td>0.04</td>\n",
              "      <td>-0.23</td>\n",
              "      <td>-0.07</td>\n",
              "      <td>0.00</td>\n",
              "      <td>0.27</td>\n",
              "      <td>0.27</td>\n",
              "      <td>-0.47</td>\n",
              "      <td>-0.07</td>\n",
              "      <td>0.14</td>\n",
              "      <td>-0.34</td>\n",
              "      <td>-0.17</td>\n",
              "      <td>0.02</td>\n",
              "      <td>0.22</td>\n",
              "      <td>0.01</td>\n",
              "      <td>0.11</td>\n",
              "      <td>-0.16</td>\n",
              "      <td>0.05</td>\n",
              "      <td>0.04</td>\n",
              "      <td>0</td>\n",
              "      <td>0</td>\n",
              "      <td>1</td>\n",
              "      <td>0</td>\n",
              "    </tr>\n",
              "  </tbody>\n",
              "</table>\n",
              "<p>5 rows × 804 columns</p>\n",
              "</div>"
            ],
            "text/plain": [
              "       user_followers_count  ...  has_media_1\n",
              "9286                  39177  ...            0\n",
              "8609                  19671  ...            1\n",
              "7956                1049348  ...            0\n",
              "12730                 32895  ...            1\n",
              "10695                 16672  ...            0\n",
              "\n",
              "[5 rows x 804 columns]"
            ]
          },
          "metadata": {
            "tags": []
          },
          "execution_count": 38
        }
      ]
    },
    {
      "cell_type": "code",
      "metadata": {
        "id": "AIHmqbzkc7Dr"
      },
      "source": [
        "True_False_lasso = pd.DataFrame(sel_.get_support())"
      ],
      "execution_count": null,
      "outputs": []
    },
    {
      "cell_type": "code",
      "metadata": {
        "colab": {
          "base_uri": "https://localhost:8080/",
          "height": 424
        },
        "id": "88s6en6AYT9A",
        "outputId": "2c6c6b8d-ae77-47a5-8e52-e789a5716123"
      },
      "source": [
        "True_False_lasso.head(600)"
      ],
      "execution_count": null,
      "outputs": [
        {
          "output_type": "execute_result",
          "data": {
            "text/html": [
              "<div>\n",
              "<style scoped>\n",
              "    .dataframe tbody tr th:only-of-type {\n",
              "        vertical-align: middle;\n",
              "    }\n",
              "\n",
              "    .dataframe tbody tr th {\n",
              "        vertical-align: top;\n",
              "    }\n",
              "\n",
              "    .dataframe thead th {\n",
              "        text-align: right;\n",
              "    }\n",
              "</style>\n",
              "<table border=\"1\" class=\"dataframe\">\n",
              "  <thead>\n",
              "    <tr style=\"text-align: right;\">\n",
              "      <th></th>\n",
              "      <th>0</th>\n",
              "    </tr>\n",
              "  </thead>\n",
              "  <tbody>\n",
              "    <tr>\n",
              "      <th>0</th>\n",
              "      <td>False</td>\n",
              "    </tr>\n",
              "    <tr>\n",
              "      <th>1</th>\n",
              "      <td>False</td>\n",
              "    </tr>\n",
              "    <tr>\n",
              "      <th>2</th>\n",
              "      <td>False</td>\n",
              "    </tr>\n",
              "    <tr>\n",
              "      <th>3</th>\n",
              "      <td>True</td>\n",
              "    </tr>\n",
              "    <tr>\n",
              "      <th>4</th>\n",
              "      <td>False</td>\n",
              "    </tr>\n",
              "    <tr>\n",
              "      <th>...</th>\n",
              "      <td>...</td>\n",
              "    </tr>\n",
              "    <tr>\n",
              "      <th>595</th>\n",
              "      <td>False</td>\n",
              "    </tr>\n",
              "    <tr>\n",
              "      <th>596</th>\n",
              "      <td>True</td>\n",
              "    </tr>\n",
              "    <tr>\n",
              "      <th>597</th>\n",
              "      <td>False</td>\n",
              "    </tr>\n",
              "    <tr>\n",
              "      <th>598</th>\n",
              "      <td>True</td>\n",
              "    </tr>\n",
              "    <tr>\n",
              "      <th>599</th>\n",
              "      <td>False</td>\n",
              "    </tr>\n",
              "  </tbody>\n",
              "</table>\n",
              "<p>600 rows × 1 columns</p>\n",
              "</div>"
            ],
            "text/plain": [
              "         0\n",
              "0    False\n",
              "1    False\n",
              "2    False\n",
              "3     True\n",
              "4    False\n",
              "..     ...\n",
              "595  False\n",
              "596   True\n",
              "597  False\n",
              "598   True\n",
              "599  False\n",
              "\n",
              "[600 rows x 1 columns]"
            ]
          },
          "metadata": {
            "tags": []
          },
          "execution_count": 32
        }
      ]
    },
    {
      "cell_type": "code",
      "metadata": {
        "id": "KemYdaqPfqPD"
      },
      "source": [
        "LogisticRegression"
      ],
      "execution_count": null,
      "outputs": []
    },
    {
      "cell_type": "code",
      "metadata": {
        "id": "zSi_TMGQf56L"
      },
      "source": [
        "X_lasso_test = X_test[selected_feat]"
      ],
      "execution_count": null,
      "outputs": []
    },
    {
      "cell_type": "code",
      "metadata": {
        "colab": {
          "base_uri": "https://localhost:8080/",
          "height": 256
        },
        "id": "tLz57VzAf56O",
        "outputId": "1fe310f7-fe34-4aaf-a2c2-21f327e6c815"
      },
      "source": [
        "X_lasso_test.head()"
      ],
      "execution_count": null,
      "outputs": [
        {
          "output_type": "execute_result",
          "data": {
            "text/html": [
              "<div>\n",
              "<style scoped>\n",
              "    .dataframe tbody tr th:only-of-type {\n",
              "        vertical-align: middle;\n",
              "    }\n",
              "\n",
              "    .dataframe tbody tr th {\n",
              "        vertical-align: top;\n",
              "    }\n",
              "\n",
              "    .dataframe thead th {\n",
              "        text-align: right;\n",
              "    }\n",
              "</style>\n",
              "<table border=\"1\" class=\"dataframe\">\n",
              "  <thead>\n",
              "    <tr style=\"text-align: right;\">\n",
              "      <th></th>\n",
              "      <th>user_followers_count</th>\n",
              "      <th>user_has_location</th>\n",
              "      <th>user_created_at_year</th>\n",
              "      <th>feature_2_x</th>\n",
              "      <th>feature_49_x</th>\n",
              "      <th>feature_141_x</th>\n",
              "      <th>feature_167_x</th>\n",
              "      <th>feature_203_x</th>\n",
              "      <th>feature_204_x</th>\n",
              "      <th>feature_215_x</th>\n",
              "      <th>feature_227_x</th>\n",
              "      <th>feature_252_x</th>\n",
              "      <th>feature_271_x</th>\n",
              "      <th>feature_288_x</th>\n",
              "      <th>feature_302_x</th>\n",
              "      <th>feature_386_x</th>\n",
              "      <th>feature_397_x</th>\n",
              "      <th>feature_421_x</th>\n",
              "      <th>feature_511_x</th>\n",
              "      <th>feature_583_x</th>\n",
              "      <th>feature_585_x</th>\n",
              "      <th>feature_606_x</th>\n",
              "      <th>feature_679_x</th>\n",
              "      <th>feature_697_x</th>\n",
              "      <th>feature_701_x</th>\n",
              "      <th>feature_766_x</th>\n",
              "      <th>feature_8_y</th>\n",
              "      <th>feature_388_y</th>\n",
              "      <th>feature_441_y</th>\n",
              "      <th>feature_527_y</th>\n",
              "      <th>feature_867</th>\n",
              "      <th>feature_887</th>\n",
              "      <th>feature_1155</th>\n",
              "      <th>feature_1217</th>\n",
              "      <th>feature_1271</th>\n",
              "      <th>feature_1279</th>\n",
              "      <th>feature_1322</th>\n",
              "      <th>feature_1399</th>\n",
              "      <th>feature_1424</th>\n",
              "      <th>feature_1464</th>\n",
              "      <th>...</th>\n",
              "      <th>feature_731</th>\n",
              "      <th>feature_732</th>\n",
              "      <th>feature_733</th>\n",
              "      <th>feature_734</th>\n",
              "      <th>feature_736</th>\n",
              "      <th>feature_737</th>\n",
              "      <th>feature_738</th>\n",
              "      <th>feature_739</th>\n",
              "      <th>feature_740</th>\n",
              "      <th>feature_741</th>\n",
              "      <th>feature_742</th>\n",
              "      <th>feature_743</th>\n",
              "      <th>feature_744</th>\n",
              "      <th>feature_745</th>\n",
              "      <th>feature_746</th>\n",
              "      <th>feature_747</th>\n",
              "      <th>feature_748</th>\n",
              "      <th>feature_749</th>\n",
              "      <th>feature_750</th>\n",
              "      <th>feature_751</th>\n",
              "      <th>feature_752</th>\n",
              "      <th>feature_753</th>\n",
              "      <th>feature_754</th>\n",
              "      <th>feature_755</th>\n",
              "      <th>feature_756</th>\n",
              "      <th>feature_757</th>\n",
              "      <th>feature_758</th>\n",
              "      <th>feature_759</th>\n",
              "      <th>feature_760</th>\n",
              "      <th>feature_761</th>\n",
              "      <th>feature_762</th>\n",
              "      <th>feature_763</th>\n",
              "      <th>feature_764</th>\n",
              "      <th>feature_765</th>\n",
              "      <th>feature_766</th>\n",
              "      <th>feature_767</th>\n",
              "      <th>tweet_attachment_class_A</th>\n",
              "      <th>tweet_attachment_class_B</th>\n",
              "      <th>tweet_attachment_class_C</th>\n",
              "      <th>has_media_1</th>\n",
              "    </tr>\n",
              "  </thead>\n",
              "  <tbody>\n",
              "    <tr>\n",
              "      <th>1374</th>\n",
              "      <td>200944</td>\n",
              "      <td>True</td>\n",
              "      <td>2011</td>\n",
              "      <td>-0.07</td>\n",
              "      <td>-0.07</td>\n",
              "      <td>0.01</td>\n",
              "      <td>0.07</td>\n",
              "      <td>0.26</td>\n",
              "      <td>0.07</td>\n",
              "      <td>0.14</td>\n",
              "      <td>-0.05</td>\n",
              "      <td>-0.14</td>\n",
              "      <td>0.18</td>\n",
              "      <td>-0.16</td>\n",
              "      <td>-0.03</td>\n",
              "      <td>-0.04</td>\n",
              "      <td>-0.17</td>\n",
              "      <td>0.30</td>\n",
              "      <td>0.33</td>\n",
              "      <td>-0.11</td>\n",
              "      <td>0.12</td>\n",
              "      <td>0.21</td>\n",
              "      <td>-0.02</td>\n",
              "      <td>0.23</td>\n",
              "      <td>-0.09</td>\n",
              "      <td>0.03</td>\n",
              "      <td>0.00</td>\n",
              "      <td>0.00</td>\n",
              "      <td>0.00</td>\n",
              "      <td>0.51</td>\n",
              "      <td>0.00</td>\n",
              "      <td>0.00</td>\n",
              "      <td>0.06</td>\n",
              "      <td>0.00</td>\n",
              "      <td>0.00</td>\n",
              "      <td>0.00</td>\n",
              "      <td>0.00</td>\n",
              "      <td>0.02</td>\n",
              "      <td>0.13</td>\n",
              "      <td>0.00</td>\n",
              "      <td>...</td>\n",
              "      <td>-0.18</td>\n",
              "      <td>-0.20</td>\n",
              "      <td>0.46</td>\n",
              "      <td>0.05</td>\n",
              "      <td>0.19</td>\n",
              "      <td>-0.03</td>\n",
              "      <td>-0.22</td>\n",
              "      <td>0.13</td>\n",
              "      <td>0.19</td>\n",
              "      <td>-0.11</td>\n",
              "      <td>-0.12</td>\n",
              "      <td>0.37</td>\n",
              "      <td>0.06</td>\n",
              "      <td>0.03</td>\n",
              "      <td>-0.14</td>\n",
              "      <td>0.12</td>\n",
              "      <td>0.07</td>\n",
              "      <td>-0.17</td>\n",
              "      <td>0.02</td>\n",
              "      <td>-0.25</td>\n",
              "      <td>-0.14</td>\n",
              "      <td>-0.00</td>\n",
              "      <td>0.25</td>\n",
              "      <td>0.29</td>\n",
              "      <td>-0.49</td>\n",
              "      <td>-0.16</td>\n",
              "      <td>0.28</td>\n",
              "      <td>-0.29</td>\n",
              "      <td>-0.12</td>\n",
              "      <td>0.06</td>\n",
              "      <td>0.19</td>\n",
              "      <td>-0.11</td>\n",
              "      <td>0.11</td>\n",
              "      <td>-0.14</td>\n",
              "      <td>0.01</td>\n",
              "      <td>0.06</td>\n",
              "      <td>1</td>\n",
              "      <td>0</td>\n",
              "      <td>0</td>\n",
              "      <td>1</td>\n",
              "    </tr>\n",
              "    <tr>\n",
              "      <th>9003</th>\n",
              "      <td>39177</td>\n",
              "      <td>True</td>\n",
              "      <td>2009</td>\n",
              "      <td>-0.09</td>\n",
              "      <td>-0.06</td>\n",
              "      <td>-0.01</td>\n",
              "      <td>0.12</td>\n",
              "      <td>0.24</td>\n",
              "      <td>0.07</td>\n",
              "      <td>0.15</td>\n",
              "      <td>-0.11</td>\n",
              "      <td>-0.19</td>\n",
              "      <td>0.18</td>\n",
              "      <td>-0.13</td>\n",
              "      <td>-0.03</td>\n",
              "      <td>-0.09</td>\n",
              "      <td>-0.12</td>\n",
              "      <td>0.29</td>\n",
              "      <td>0.25</td>\n",
              "      <td>-0.10</td>\n",
              "      <td>0.06</td>\n",
              "      <td>0.13</td>\n",
              "      <td>-0.14</td>\n",
              "      <td>0.22</td>\n",
              "      <td>-0.06</td>\n",
              "      <td>0.03</td>\n",
              "      <td>0.00</td>\n",
              "      <td>0.00</td>\n",
              "      <td>0.00</td>\n",
              "      <td>0.32</td>\n",
              "      <td>0.00</td>\n",
              "      <td>0.00</td>\n",
              "      <td>0.00</td>\n",
              "      <td>0.00</td>\n",
              "      <td>0.00</td>\n",
              "      <td>0.00</td>\n",
              "      <td>0.92</td>\n",
              "      <td>0.01</td>\n",
              "      <td>0.00</td>\n",
              "      <td>0.00</td>\n",
              "      <td>...</td>\n",
              "      <td>-0.15</td>\n",
              "      <td>-0.17</td>\n",
              "      <td>0.54</td>\n",
              "      <td>0.05</td>\n",
              "      <td>0.21</td>\n",
              "      <td>-0.03</td>\n",
              "      <td>-0.14</td>\n",
              "      <td>0.24</td>\n",
              "      <td>0.20</td>\n",
              "      <td>-0.01</td>\n",
              "      <td>-0.14</td>\n",
              "      <td>0.28</td>\n",
              "      <td>0.01</td>\n",
              "      <td>-0.04</td>\n",
              "      <td>-0.11</td>\n",
              "      <td>0.19</td>\n",
              "      <td>0.02</td>\n",
              "      <td>-0.11</td>\n",
              "      <td>-0.03</td>\n",
              "      <td>-0.25</td>\n",
              "      <td>-0.10</td>\n",
              "      <td>-0.05</td>\n",
              "      <td>0.26</td>\n",
              "      <td>0.42</td>\n",
              "      <td>-0.53</td>\n",
              "      <td>-0.09</td>\n",
              "      <td>0.21</td>\n",
              "      <td>-0.38</td>\n",
              "      <td>-0.20</td>\n",
              "      <td>-0.05</td>\n",
              "      <td>0.26</td>\n",
              "      <td>-0.07</td>\n",
              "      <td>0.11</td>\n",
              "      <td>-0.17</td>\n",
              "      <td>-0.03</td>\n",
              "      <td>0.09</td>\n",
              "      <td>1</td>\n",
              "      <td>0</td>\n",
              "      <td>0</td>\n",
              "      <td>1</td>\n",
              "    </tr>\n",
              "    <tr>\n",
              "      <th>4002</th>\n",
              "      <td>23127</td>\n",
              "      <td>False</td>\n",
              "      <td>2011</td>\n",
              "      <td>-0.07</td>\n",
              "      <td>-0.02</td>\n",
              "      <td>0.04</td>\n",
              "      <td>0.09</td>\n",
              "      <td>0.23</td>\n",
              "      <td>-0.00</td>\n",
              "      <td>0.19</td>\n",
              "      <td>-0.13</td>\n",
              "      <td>-0.16</td>\n",
              "      <td>0.16</td>\n",
              "      <td>-0.12</td>\n",
              "      <td>-0.06</td>\n",
              "      <td>-0.12</td>\n",
              "      <td>-0.09</td>\n",
              "      <td>0.29</td>\n",
              "      <td>0.24</td>\n",
              "      <td>-0.09</td>\n",
              "      <td>0.09</td>\n",
              "      <td>0.17</td>\n",
              "      <td>-0.00</td>\n",
              "      <td>0.23</td>\n",
              "      <td>-0.10</td>\n",
              "      <td>-0.04</td>\n",
              "      <td>0.02</td>\n",
              "      <td>0.00</td>\n",
              "      <td>0.00</td>\n",
              "      <td>0.01</td>\n",
              "      <td>0.02</td>\n",
              "      <td>0.00</td>\n",
              "      <td>0.00</td>\n",
              "      <td>0.01</td>\n",
              "      <td>0.06</td>\n",
              "      <td>0.00</td>\n",
              "      <td>1.78</td>\n",
              "      <td>0.00</td>\n",
              "      <td>0.06</td>\n",
              "      <td>0.12</td>\n",
              "      <td>...</td>\n",
              "      <td>-0.16</td>\n",
              "      <td>-0.09</td>\n",
              "      <td>0.46</td>\n",
              "      <td>0.03</td>\n",
              "      <td>0.20</td>\n",
              "      <td>-0.04</td>\n",
              "      <td>-0.05</td>\n",
              "      <td>0.22</td>\n",
              "      <td>0.19</td>\n",
              "      <td>-0.08</td>\n",
              "      <td>-0.16</td>\n",
              "      <td>0.28</td>\n",
              "      <td>0.04</td>\n",
              "      <td>-0.01</td>\n",
              "      <td>-0.10</td>\n",
              "      <td>0.14</td>\n",
              "      <td>0.06</td>\n",
              "      <td>-0.23</td>\n",
              "      <td>0.02</td>\n",
              "      <td>-0.11</td>\n",
              "      <td>-0.08</td>\n",
              "      <td>-0.02</td>\n",
              "      <td>0.26</td>\n",
              "      <td>0.38</td>\n",
              "      <td>-0.48</td>\n",
              "      <td>-0.14</td>\n",
              "      <td>0.31</td>\n",
              "      <td>-0.35</td>\n",
              "      <td>-0.11</td>\n",
              "      <td>-0.00</td>\n",
              "      <td>0.18</td>\n",
              "      <td>-0.01</td>\n",
              "      <td>0.13</td>\n",
              "      <td>-0.17</td>\n",
              "      <td>-0.06</td>\n",
              "      <td>0.08</td>\n",
              "      <td>1</td>\n",
              "      <td>0</td>\n",
              "      <td>0</td>\n",
              "      <td>1</td>\n",
              "    </tr>\n",
              "    <tr>\n",
              "      <th>17652</th>\n",
              "      <td>94647</td>\n",
              "      <td>True</td>\n",
              "      <td>2013</td>\n",
              "      <td>-0.04</td>\n",
              "      <td>0.02</td>\n",
              "      <td>0.08</td>\n",
              "      <td>0.04</td>\n",
              "      <td>0.18</td>\n",
              "      <td>0.04</td>\n",
              "      <td>0.10</td>\n",
              "      <td>-0.14</td>\n",
              "      <td>-0.09</td>\n",
              "      <td>0.12</td>\n",
              "      <td>-0.15</td>\n",
              "      <td>-0.12</td>\n",
              "      <td>-0.10</td>\n",
              "      <td>-0.07</td>\n",
              "      <td>0.30</td>\n",
              "      <td>0.30</td>\n",
              "      <td>-0.12</td>\n",
              "      <td>0.06</td>\n",
              "      <td>0.14</td>\n",
              "      <td>-0.04</td>\n",
              "      <td>0.19</td>\n",
              "      <td>-0.14</td>\n",
              "      <td>-0.02</td>\n",
              "      <td>0.00</td>\n",
              "      <td>0.00</td>\n",
              "      <td>0.00</td>\n",
              "      <td>0.01</td>\n",
              "      <td>0.00</td>\n",
              "      <td>0.00</td>\n",
              "      <td>0.01</td>\n",
              "      <td>0.08</td>\n",
              "      <td>0.40</td>\n",
              "      <td>0.00</td>\n",
              "      <td>0.17</td>\n",
              "      <td>0.00</td>\n",
              "      <td>0.12</td>\n",
              "      <td>0.09</td>\n",
              "      <td>...</td>\n",
              "      <td>-0.20</td>\n",
              "      <td>-0.16</td>\n",
              "      <td>0.51</td>\n",
              "      <td>-0.05</td>\n",
              "      <td>0.14</td>\n",
              "      <td>-0.13</td>\n",
              "      <td>-0.16</td>\n",
              "      <td>0.11</td>\n",
              "      <td>0.12</td>\n",
              "      <td>-0.07</td>\n",
              "      <td>-0.09</td>\n",
              "      <td>0.40</td>\n",
              "      <td>0.01</td>\n",
              "      <td>0.08</td>\n",
              "      <td>-0.19</td>\n",
              "      <td>0.19</td>\n",
              "      <td>0.06</td>\n",
              "      <td>-0.12</td>\n",
              "      <td>0.07</td>\n",
              "      <td>-0.25</td>\n",
              "      <td>-0.14</td>\n",
              "      <td>0.07</td>\n",
              "      <td>0.23</td>\n",
              "      <td>0.26</td>\n",
              "      <td>-0.41</td>\n",
              "      <td>-0.05</td>\n",
              "      <td>0.14</td>\n",
              "      <td>-0.32</td>\n",
              "      <td>-0.21</td>\n",
              "      <td>0.06</td>\n",
              "      <td>0.18</td>\n",
              "      <td>-0.06</td>\n",
              "      <td>0.17</td>\n",
              "      <td>-0.15</td>\n",
              "      <td>-0.03</td>\n",
              "      <td>0.11</td>\n",
              "      <td>1</td>\n",
              "      <td>0</td>\n",
              "      <td>0</td>\n",
              "      <td>1</td>\n",
              "    </tr>\n",
              "    <tr>\n",
              "      <th>6519</th>\n",
              "      <td>1310481</td>\n",
              "      <td>True</td>\n",
              "      <td>2008</td>\n",
              "      <td>-0.03</td>\n",
              "      <td>-0.04</td>\n",
              "      <td>0.13</td>\n",
              "      <td>0.08</td>\n",
              "      <td>0.20</td>\n",
              "      <td>-0.01</td>\n",
              "      <td>0.18</td>\n",
              "      <td>-0.13</td>\n",
              "      <td>-0.14</td>\n",
              "      <td>0.20</td>\n",
              "      <td>-0.23</td>\n",
              "      <td>-0.07</td>\n",
              "      <td>-0.10</td>\n",
              "      <td>-0.08</td>\n",
              "      <td>0.34</td>\n",
              "      <td>0.29</td>\n",
              "      <td>-0.14</td>\n",
              "      <td>0.11</td>\n",
              "      <td>0.20</td>\n",
              "      <td>-0.11</td>\n",
              "      <td>0.16</td>\n",
              "      <td>-0.10</td>\n",
              "      <td>-0.07</td>\n",
              "      <td>0.00</td>\n",
              "      <td>0.29</td>\n",
              "      <td>0.00</td>\n",
              "      <td>0.00</td>\n",
              "      <td>0.01</td>\n",
              "      <td>0.00</td>\n",
              "      <td>0.01</td>\n",
              "      <td>0.00</td>\n",
              "      <td>0.00</td>\n",
              "      <td>0.00</td>\n",
              "      <td>0.41</td>\n",
              "      <td>0.01</td>\n",
              "      <td>0.00</td>\n",
              "      <td>0.00</td>\n",
              "      <td>...</td>\n",
              "      <td>-0.25</td>\n",
              "      <td>-0.18</td>\n",
              "      <td>0.45</td>\n",
              "      <td>0.01</td>\n",
              "      <td>0.20</td>\n",
              "      <td>-0.17</td>\n",
              "      <td>-0.17</td>\n",
              "      <td>0.16</td>\n",
              "      <td>0.27</td>\n",
              "      <td>-0.08</td>\n",
              "      <td>-0.15</td>\n",
              "      <td>0.27</td>\n",
              "      <td>0.08</td>\n",
              "      <td>-0.06</td>\n",
              "      <td>-0.10</td>\n",
              "      <td>0.10</td>\n",
              "      <td>-0.00</td>\n",
              "      <td>-0.12</td>\n",
              "      <td>0.02</td>\n",
              "      <td>-0.15</td>\n",
              "      <td>-0.08</td>\n",
              "      <td>0.13</td>\n",
              "      <td>0.20</td>\n",
              "      <td>0.28</td>\n",
              "      <td>-0.42</td>\n",
              "      <td>-0.16</td>\n",
              "      <td>0.24</td>\n",
              "      <td>-0.27</td>\n",
              "      <td>-0.21</td>\n",
              "      <td>-0.03</td>\n",
              "      <td>0.20</td>\n",
              "      <td>0.00</td>\n",
              "      <td>0.11</td>\n",
              "      <td>-0.11</td>\n",
              "      <td>-0.09</td>\n",
              "      <td>0.05</td>\n",
              "      <td>0</td>\n",
              "      <td>0</td>\n",
              "      <td>1</td>\n",
              "      <td>0</td>\n",
              "    </tr>\n",
              "  </tbody>\n",
              "</table>\n",
              "<p>5 rows × 804 columns</p>\n",
              "</div>"
            ],
            "text/plain": [
              "       user_followers_count  ...  has_media_1\n",
              "1374                 200944  ...            1\n",
              "9003                  39177  ...            1\n",
              "4002                  23127  ...            1\n",
              "17652                 94647  ...            1\n",
              "6519                1310481  ...            0\n",
              "\n",
              "[5 rows x 804 columns]"
            ]
          },
          "metadata": {
            "tags": []
          },
          "execution_count": 40
        }
      ]
    },
    {
      "cell_type": "code",
      "metadata": {
        "colab": {
          "base_uri": "https://localhost:8080/"
        },
        "id": "3gMbYjVXfqMM",
        "outputId": "5f322358-3352-42cd-a52f-d5f1fbd61c85"
      },
      "source": [
        "X_lasso_test.shape"
      ],
      "execution_count": null,
      "outputs": [
        {
          "output_type": "execute_result",
          "data": {
            "text/plain": [
              "(5925, 804)"
            ]
          },
          "metadata": {
            "tags": []
          },
          "execution_count": 41
        }
      ]
    },
    {
      "cell_type": "code",
      "metadata": {
        "colab": {
          "base_uri": "https://localhost:8080/"
        },
        "id": "YKn-rU4QgTsW",
        "outputId": "77776613-4bfc-42ad-ef16-e6b9d9253001"
      },
      "source": [
        "!pip install catboost"
      ],
      "execution_count": null,
      "outputs": [
        {
          "output_type": "stream",
          "text": [
            "Collecting catboost\n",
            "\u001b[?25l  Downloading https://files.pythonhosted.org/packages/5a/41/24e14322b9986cf72a8763e0a0a69cc256cf963cf9502c8f0044a62c1ae8/catboost-0.26-cp37-none-manylinux1_x86_64.whl (69.2MB)\n",
            "\u001b[K     |████████████████████████████████| 69.2MB 54kB/s \n",
            "\u001b[?25hRequirement already satisfied: matplotlib in /usr/local/lib/python3.7/dist-packages (from catboost) (3.2.2)\n",
            "Requirement already satisfied: pandas>=0.24.0 in /usr/local/lib/python3.7/dist-packages (from catboost) (1.1.5)\n",
            "Requirement already satisfied: scipy in /usr/local/lib/python3.7/dist-packages (from catboost) (1.4.1)\n",
            "Requirement already satisfied: plotly in /usr/local/lib/python3.7/dist-packages (from catboost) (4.4.1)\n",
            "Requirement already satisfied: graphviz in /usr/local/lib/python3.7/dist-packages (from catboost) (0.10.1)\n",
            "Requirement already satisfied: six in /usr/local/lib/python3.7/dist-packages (from catboost) (1.15.0)\n",
            "Requirement already satisfied: numpy>=1.16.0 in /usr/local/lib/python3.7/dist-packages (from catboost) (1.19.5)\n",
            "Requirement already satisfied: kiwisolver>=1.0.1 in /usr/local/lib/python3.7/dist-packages (from matplotlib->catboost) (1.3.1)\n",
            "Requirement already satisfied: python-dateutil>=2.1 in /usr/local/lib/python3.7/dist-packages (from matplotlib->catboost) (2.8.1)\n",
            "Requirement already satisfied: pyparsing!=2.0.4,!=2.1.2,!=2.1.6,>=2.0.1 in /usr/local/lib/python3.7/dist-packages (from matplotlib->catboost) (2.4.7)\n",
            "Requirement already satisfied: cycler>=0.10 in /usr/local/lib/python3.7/dist-packages (from matplotlib->catboost) (0.10.0)\n",
            "Requirement already satisfied: pytz>=2017.2 in /usr/local/lib/python3.7/dist-packages (from pandas>=0.24.0->catboost) (2018.9)\n",
            "Requirement already satisfied: retrying>=1.3.3 in /usr/local/lib/python3.7/dist-packages (from plotly->catboost) (1.3.3)\n",
            "Installing collected packages: catboost\n",
            "Successfully installed catboost-0.26\n"
          ],
          "name": "stdout"
        }
      ]
    },
    {
      "cell_type": "code",
      "metadata": {
        "id": "FxDYdKRjgTsY"
      },
      "source": [
        "# nao normalizando\n",
        "from catboost import CatBoostClassifier\n",
        "from sklearn.model_selection import StratifiedKFold\n",
        "from sklearn import preprocessing\n",
        "\n",
        "Xarray = np.asarray(X_lasso)\n",
        "Xarray_test = np.asarray(X_lasso_test)\n",
        "  "
      ],
      "execution_count": null,
      "outputs": []
    },
    {
      "cell_type": "code",
      "metadata": {
        "colab": {
          "base_uri": "https://localhost:8080/"
        },
        "id": "fmZui0IkhDrN",
        "outputId": "32c9ff6d-021e-49e7-dcc5-eaa92ff05a11"
      },
      "source": [
        "Xarray.shape, Xarray_test.shape"
      ],
      "execution_count": null,
      "outputs": [
        {
          "output_type": "execute_result",
          "data": {
            "text/plain": [
              "((23700, 804), (5925, 804))"
            ]
          },
          "metadata": {
            "tags": []
          },
          "execution_count": 47
        }
      ]
    },
    {
      "cell_type": "code",
      "metadata": {
        "colab": {
          "base_uri": "https://localhost:8080/"
        },
        "id": "jGXsN8COg92K",
        "outputId": "3018e3d3-07db-4ac4-c302-ab05af3f9104"
      },
      "source": [
        "y_train.shape , y_test.shape"
      ],
      "execution_count": null,
      "outputs": [
        {
          "output_type": "execute_result",
          "data": {
            "text/plain": [
              "((23700,), (5925,))"
            ]
          },
          "metadata": {
            "tags": []
          },
          "execution_count": 44
        }
      ]
    },
    {
      "cell_type": "code",
      "metadata": {
        "id": "6MExeNCYfqJa"
      },
      "source": [
        "\n",
        "CAT = CatBoostClassifier(task_type=\"GPU\")\n",
        "\n",
        "CAT.fit(Xarray, y_train)\n"
      ],
      "execution_count": null,
      "outputs": []
    },
    {
      "cell_type": "markdown",
      "metadata": {
        "id": "5AWS1dZftv0n"
      },
      "source": [
        "## CatBoost - Acurácia ( só de um único conjunto de teste, não é a média com CV )"
      ]
    },
    {
      "cell_type": "code",
      "metadata": {
        "colab": {
          "base_uri": "https://localhost:8080/"
        },
        "id": "c7bPy2dZi5vl",
        "outputId": "37957de1-b9a5-43b3-9316-0068f285de30"
      },
      "source": [
        "ACC = CAT.score(Xarray_test, y_test)\n",
        "\n",
        "print('Acurácia média     :', ACC)"
      ],
      "execution_count": null,
      "outputs": [
        {
          "output_type": "stream",
          "text": [
            "Acurácia média     : 0.6751054852320675\n"
          ],
          "name": "stdout"
        }
      ]
    },
    {
      "cell_type": "markdown",
      "metadata": {
        "id": "T9mLYmPYuA4q"
      },
      "source": [
        "## LASSO ( propriamente dito )"
      ]
    },
    {
      "cell_type": "code",
      "metadata": {
        "colab": {
          "base_uri": "https://localhost:8080/"
        },
        "id": "-JejlhihidhF",
        "outputId": "8e8fe0e9-bfa5-40f7-83f7-0691ae030441"
      },
      "source": [
        "%%time\n",
        "\n",
        "sel_ = SelectFromModel(OneVsRestClassifier(LogisticRegression(C=1, penalty='l1', solver='liblinear')))\n",
        "\n",
        "sel_.fit(scaler.transform(X_train.fillna(0)), y_train)"
      ],
      "execution_count": null,
      "outputs": [
        {
          "output_type": "stream",
          "text": [
            "CPU times: user 10min 11s, sys: 4.24 s, total: 10min 15s\n",
            "Wall time: 10min 12s\n"
          ],
          "name": "stdout"
        }
      ]
    },
    {
      "cell_type": "markdown",
      "metadata": {
        "id": "hHyt6VJTN0Bu"
      },
      "source": [
        "---"
      ]
    }
  ]
}